{
 "cells": [
  {
   "cell_type": "code",
   "execution_count": 1,
   "id": "e6492ff7",
   "metadata": {
    "_cell_guid": "b1076dfc-b9ad-4769-8c92-a6c4dae69d19",
    "_uuid": "8f2839f25d086af736a60e9eeb907d3b93b6e0e5",
    "execution": {
     "iopub.execute_input": "2024-05-30T16:06:17.056505Z",
     "iopub.status.busy": "2024-05-30T16:06:17.055706Z",
     "iopub.status.idle": "2024-05-30T16:06:17.945219Z",
     "shell.execute_reply": "2024-05-30T16:06:17.944067Z"
    },
    "papermill": {
     "duration": 0.91024,
     "end_time": "2024-05-30T16:06:17.949659",
     "exception": false,
     "start_time": "2024-05-30T16:06:17.039419",
     "status": "completed"
    },
    "tags": []
   },
   "outputs": [
    {
     "name": "stdout",
     "output_type": "stream",
     "text": [
      "/kaggle/input/iris-flower-dataset/IRIS.csv\n"
     ]
    }
   ],
   "source": [
    "# This Python 3 environment comes with many helpful analytics libraries installed\n",
    "# It is defined by the kaggle/python Docker image: https://github.com/kaggle/docker-python\n",
    "# For example, here's several helpful packages to load\n",
    "\n",
    "import numpy as np # linear algebra\n",
    "import pandas as pd # data processing, CSV file I/O (e.g. pd.read_csv)\n",
    "\n",
    "# Input data files are available in the read-only \"../input/\" directory\n",
    "# For example, running this (by clicking run or pressing Shift+Enter) will list all files under the input directory\n",
    "\n",
    "import os\n",
    "for dirname, _, filenames in os.walk('/kaggle/input'):\n",
    "    for filename in filenames:\n",
    "        print(os.path.join(dirname, filename))\n",
    "\n",
    "# You can write up to 20GB to the current directory (/kaggle/working/) that gets preserved as output when you create a version using \"Save & Run All\" \n",
    "# You can also write temporary files to /kaggle/temp/, but they won't be saved outside of the current session"
   ]
  },
  {
   "cell_type": "markdown",
   "id": "681e94ef",
   "metadata": {
    "papermill": {
     "duration": 0.013244,
     "end_time": "2024-05-30T16:06:17.977871",
     "exception": false,
     "start_time": "2024-05-30T16:06:17.964627",
     "status": "completed"
    },
    "tags": []
   },
   "source": [
    "Importing necessary libraries and the Dataset"
   ]
  },
  {
   "cell_type": "code",
   "execution_count": 2,
   "id": "977ffe8c",
   "metadata": {
    "execution": {
     "iopub.execute_input": "2024-05-30T16:06:18.006825Z",
     "iopub.status.busy": "2024-05-30T16:06:18.006329Z",
     "iopub.status.idle": "2024-05-30T16:06:19.851122Z",
     "shell.execute_reply": "2024-05-30T16:06:19.850120Z"
    },
    "papermill": {
     "duration": 1.862425,
     "end_time": "2024-05-30T16:06:19.853985",
     "exception": false,
     "start_time": "2024-05-30T16:06:17.991560",
     "status": "completed"
    },
    "tags": []
   },
   "outputs": [],
   "source": [
    "import pandas as pd\n",
    "import seaborn as sns\n",
    "import matplotlib.pyplot as plt\n",
    "from sklearn.datasets import load_iris\n",
    "from sklearn.decomposition import PCA\n",
    "from sklearn.model_selection import train_test_split\n",
    "from sklearn.svm import SVC\n",
    "from sklearn.metrics import classification_report, confusion_matrix\n"
   ]
  },
  {
   "cell_type": "code",
   "execution_count": 3,
   "id": "d28b0d13",
   "metadata": {
    "execution": {
     "iopub.execute_input": "2024-05-30T16:06:19.884171Z",
     "iopub.status.busy": "2024-05-30T16:06:19.883745Z",
     "iopub.status.idle": "2024-05-30T16:06:19.926566Z",
     "shell.execute_reply": "2024-05-30T16:06:19.925499Z"
    },
    "papermill": {
     "duration": 0.06032,
     "end_time": "2024-05-30T16:06:19.929309",
     "exception": false,
     "start_time": "2024-05-30T16:06:19.868989",
     "status": "completed"
    },
    "tags": []
   },
   "outputs": [
    {
     "data": {
      "text/html": [
       "<div>\n",
       "<style scoped>\n",
       "    .dataframe tbody tr th:only-of-type {\n",
       "        vertical-align: middle;\n",
       "    }\n",
       "\n",
       "    .dataframe tbody tr th {\n",
       "        vertical-align: top;\n",
       "    }\n",
       "\n",
       "    .dataframe thead th {\n",
       "        text-align: right;\n",
       "    }\n",
       "</style>\n",
       "<table border=\"1\" class=\"dataframe\">\n",
       "  <thead>\n",
       "    <tr style=\"text-align: right;\">\n",
       "      <th></th>\n",
       "      <th>sepal_length</th>\n",
       "      <th>sepal_width</th>\n",
       "      <th>petal_length</th>\n",
       "      <th>petal_width</th>\n",
       "      <th>species</th>\n",
       "    </tr>\n",
       "  </thead>\n",
       "  <tbody>\n",
       "    <tr>\n",
       "      <th>0</th>\n",
       "      <td>5.1</td>\n",
       "      <td>3.5</td>\n",
       "      <td>1.4</td>\n",
       "      <td>0.2</td>\n",
       "      <td>Iris-setosa</td>\n",
       "    </tr>\n",
       "    <tr>\n",
       "      <th>1</th>\n",
       "      <td>4.9</td>\n",
       "      <td>3.0</td>\n",
       "      <td>1.4</td>\n",
       "      <td>0.2</td>\n",
       "      <td>Iris-setosa</td>\n",
       "    </tr>\n",
       "    <tr>\n",
       "      <th>2</th>\n",
       "      <td>4.7</td>\n",
       "      <td>3.2</td>\n",
       "      <td>1.3</td>\n",
       "      <td>0.2</td>\n",
       "      <td>Iris-setosa</td>\n",
       "    </tr>\n",
       "    <tr>\n",
       "      <th>3</th>\n",
       "      <td>4.6</td>\n",
       "      <td>3.1</td>\n",
       "      <td>1.5</td>\n",
       "      <td>0.2</td>\n",
       "      <td>Iris-setosa</td>\n",
       "    </tr>\n",
       "    <tr>\n",
       "      <th>4</th>\n",
       "      <td>5.0</td>\n",
       "      <td>3.6</td>\n",
       "      <td>1.4</td>\n",
       "      <td>0.2</td>\n",
       "      <td>Iris-setosa</td>\n",
       "    </tr>\n",
       "    <tr>\n",
       "      <th>5</th>\n",
       "      <td>5.4</td>\n",
       "      <td>3.9</td>\n",
       "      <td>1.7</td>\n",
       "      <td>0.4</td>\n",
       "      <td>Iris-setosa</td>\n",
       "    </tr>\n",
       "  </tbody>\n",
       "</table>\n",
       "</div>"
      ],
      "text/plain": [
       "   sepal_length  sepal_width  petal_length  petal_width      species\n",
       "0           5.1          3.5           1.4          0.2  Iris-setosa\n",
       "1           4.9          3.0           1.4          0.2  Iris-setosa\n",
       "2           4.7          3.2           1.3          0.2  Iris-setosa\n",
       "3           4.6          3.1           1.5          0.2  Iris-setosa\n",
       "4           5.0          3.6           1.4          0.2  Iris-setosa\n",
       "5           5.4          3.9           1.7          0.4  Iris-setosa"
      ]
     },
     "execution_count": 3,
     "metadata": {},
     "output_type": "execute_result"
    }
   ],
   "source": [
    "df = pd.read_csv(\"/kaggle/input/iris-flower-dataset/IRIS.csv\")\n",
    "df.head(6)"
   ]
  },
  {
   "cell_type": "code",
   "execution_count": 4,
   "id": "67a6fce9",
   "metadata": {
    "execution": {
     "iopub.execute_input": "2024-05-30T16:06:19.958770Z",
     "iopub.status.busy": "2024-05-30T16:06:19.958397Z",
     "iopub.status.idle": "2024-05-30T16:06:19.973184Z",
     "shell.execute_reply": "2024-05-30T16:06:19.972014Z"
    },
    "papermill": {
     "duration": 0.032154,
     "end_time": "2024-05-30T16:06:19.975573",
     "exception": false,
     "start_time": "2024-05-30T16:06:19.943419",
     "status": "completed"
    },
    "tags": []
   },
   "outputs": [
    {
     "data": {
      "text/html": [
       "<div>\n",
       "<style scoped>\n",
       "    .dataframe tbody tr th:only-of-type {\n",
       "        vertical-align: middle;\n",
       "    }\n",
       "\n",
       "    .dataframe tbody tr th {\n",
       "        vertical-align: top;\n",
       "    }\n",
       "\n",
       "    .dataframe thead th {\n",
       "        text-align: right;\n",
       "    }\n",
       "</style>\n",
       "<table border=\"1\" class=\"dataframe\">\n",
       "  <thead>\n",
       "    <tr style=\"text-align: right;\">\n",
       "      <th></th>\n",
       "      <th>sepal_length</th>\n",
       "      <th>sepal_width</th>\n",
       "      <th>petal_length</th>\n",
       "      <th>petal_width</th>\n",
       "      <th>species</th>\n",
       "    </tr>\n",
       "  </thead>\n",
       "  <tbody>\n",
       "    <tr>\n",
       "      <th>145</th>\n",
       "      <td>6.7</td>\n",
       "      <td>3.0</td>\n",
       "      <td>5.2</td>\n",
       "      <td>2.3</td>\n",
       "      <td>Iris-virginica</td>\n",
       "    </tr>\n",
       "    <tr>\n",
       "      <th>146</th>\n",
       "      <td>6.3</td>\n",
       "      <td>2.5</td>\n",
       "      <td>5.0</td>\n",
       "      <td>1.9</td>\n",
       "      <td>Iris-virginica</td>\n",
       "    </tr>\n",
       "    <tr>\n",
       "      <th>147</th>\n",
       "      <td>6.5</td>\n",
       "      <td>3.0</td>\n",
       "      <td>5.2</td>\n",
       "      <td>2.0</td>\n",
       "      <td>Iris-virginica</td>\n",
       "    </tr>\n",
       "    <tr>\n",
       "      <th>148</th>\n",
       "      <td>6.2</td>\n",
       "      <td>3.4</td>\n",
       "      <td>5.4</td>\n",
       "      <td>2.3</td>\n",
       "      <td>Iris-virginica</td>\n",
       "    </tr>\n",
       "    <tr>\n",
       "      <th>149</th>\n",
       "      <td>5.9</td>\n",
       "      <td>3.0</td>\n",
       "      <td>5.1</td>\n",
       "      <td>1.8</td>\n",
       "      <td>Iris-virginica</td>\n",
       "    </tr>\n",
       "  </tbody>\n",
       "</table>\n",
       "</div>"
      ],
      "text/plain": [
       "     sepal_length  sepal_width  petal_length  petal_width         species\n",
       "145           6.7          3.0           5.2          2.3  Iris-virginica\n",
       "146           6.3          2.5           5.0          1.9  Iris-virginica\n",
       "147           6.5          3.0           5.2          2.0  Iris-virginica\n",
       "148           6.2          3.4           5.4          2.3  Iris-virginica\n",
       "149           5.9          3.0           5.1          1.8  Iris-virginica"
      ]
     },
     "execution_count": 4,
     "metadata": {},
     "output_type": "execute_result"
    }
   ],
   "source": [
    "df.tail(5)"
   ]
  },
  {
   "cell_type": "markdown",
   "id": "fbb2617d",
   "metadata": {
    "papermill": {
     "duration": 0.013677,
     "end_time": "2024-05-30T16:06:20.003262",
     "exception": false,
     "start_time": "2024-05-30T16:06:19.989585",
     "status": "completed"
    },
    "tags": []
   },
   "source": [
    "Sampling"
   ]
  },
  {
   "cell_type": "code",
   "execution_count": 5,
   "id": "d3afe877",
   "metadata": {
    "execution": {
     "iopub.execute_input": "2024-05-30T16:06:20.033523Z",
     "iopub.status.busy": "2024-05-30T16:06:20.032647Z",
     "iopub.status.idle": "2024-05-30T16:06:20.053373Z",
     "shell.execute_reply": "2024-05-30T16:06:20.052333Z"
    },
    "papermill": {
     "duration": 0.038365,
     "end_time": "2024-05-30T16:06:20.055535",
     "exception": false,
     "start_time": "2024-05-30T16:06:20.017170",
     "status": "completed"
    },
    "tags": []
   },
   "outputs": [
    {
     "data": {
      "text/html": [
       "<div>\n",
       "<style scoped>\n",
       "    .dataframe tbody tr th:only-of-type {\n",
       "        vertical-align: middle;\n",
       "    }\n",
       "\n",
       "    .dataframe tbody tr th {\n",
       "        vertical-align: top;\n",
       "    }\n",
       "\n",
       "    .dataframe thead th {\n",
       "        text-align: right;\n",
       "    }\n",
       "</style>\n",
       "<table border=\"1\" class=\"dataframe\">\n",
       "  <thead>\n",
       "    <tr style=\"text-align: right;\">\n",
       "      <th></th>\n",
       "      <th>sepal_length</th>\n",
       "      <th>sepal_width</th>\n",
       "      <th>petal_length</th>\n",
       "      <th>petal_width</th>\n",
       "      <th>species</th>\n",
       "    </tr>\n",
       "  </thead>\n",
       "  <tbody>\n",
       "    <tr>\n",
       "      <th>99</th>\n",
       "      <td>5.7</td>\n",
       "      <td>2.8</td>\n",
       "      <td>4.1</td>\n",
       "      <td>1.3</td>\n",
       "      <td>Iris-versicolor</td>\n",
       "    </tr>\n",
       "    <tr>\n",
       "      <th>81</th>\n",
       "      <td>5.5</td>\n",
       "      <td>2.4</td>\n",
       "      <td>3.7</td>\n",
       "      <td>1.0</td>\n",
       "      <td>Iris-versicolor</td>\n",
       "    </tr>\n",
       "    <tr>\n",
       "      <th>133</th>\n",
       "      <td>6.3</td>\n",
       "      <td>2.8</td>\n",
       "      <td>5.1</td>\n",
       "      <td>1.5</td>\n",
       "      <td>Iris-virginica</td>\n",
       "    </tr>\n",
       "    <tr>\n",
       "      <th>118</th>\n",
       "      <td>7.7</td>\n",
       "      <td>2.6</td>\n",
       "      <td>6.9</td>\n",
       "      <td>2.3</td>\n",
       "      <td>Iris-virginica</td>\n",
       "    </tr>\n",
       "    <tr>\n",
       "      <th>54</th>\n",
       "      <td>6.5</td>\n",
       "      <td>2.8</td>\n",
       "      <td>4.6</td>\n",
       "      <td>1.5</td>\n",
       "      <td>Iris-versicolor</td>\n",
       "    </tr>\n",
       "  </tbody>\n",
       "</table>\n",
       "</div>"
      ],
      "text/plain": [
       "     sepal_length  sepal_width  petal_length  petal_width          species\n",
       "99            5.7          2.8           4.1          1.3  Iris-versicolor\n",
       "81            5.5          2.4           3.7          1.0  Iris-versicolor\n",
       "133           6.3          2.8           5.1          1.5   Iris-virginica\n",
       "118           7.7          2.6           6.9          2.3   Iris-virginica\n",
       "54            6.5          2.8           4.6          1.5  Iris-versicolor"
      ]
     },
     "execution_count": 5,
     "metadata": {},
     "output_type": "execute_result"
    }
   ],
   "source": [
    "df_sampling = df.sample(10)\n",
    "df_sampling.head()"
   ]
  },
  {
   "cell_type": "markdown",
   "id": "16357326",
   "metadata": {
    "papermill": {
     "duration": 0.013707,
     "end_time": "2024-05-30T16:06:20.084061",
     "exception": false,
     "start_time": "2024-05-30T16:06:20.070354",
     "status": "completed"
    },
    "tags": []
   },
   "source": [
    "Lerning the structute"
   ]
  },
  {
   "cell_type": "code",
   "execution_count": 6,
   "id": "71db0663",
   "metadata": {
    "execution": {
     "iopub.execute_input": "2024-05-30T16:06:20.113811Z",
     "iopub.status.busy": "2024-05-30T16:06:20.113412Z",
     "iopub.status.idle": "2024-05-30T16:06:20.121418Z",
     "shell.execute_reply": "2024-05-30T16:06:20.120355Z"
    },
    "papermill": {
     "duration": 0.025265,
     "end_time": "2024-05-30T16:06:20.123622",
     "exception": false,
     "start_time": "2024-05-30T16:06:20.098357",
     "status": "completed"
    },
    "tags": []
   },
   "outputs": [
    {
     "data": {
      "text/plain": [
       "RangeIndex(start=0, stop=150, step=1)"
      ]
     },
     "execution_count": 6,
     "metadata": {},
     "output_type": "execute_result"
    }
   ],
   "source": [
    "df.index"
   ]
  },
  {
   "cell_type": "code",
   "execution_count": 7,
   "id": "b780246c",
   "metadata": {
    "execution": {
     "iopub.execute_input": "2024-05-30T16:06:20.154457Z",
     "iopub.status.busy": "2024-05-30T16:06:20.153545Z",
     "iopub.status.idle": "2024-05-30T16:06:20.160287Z",
     "shell.execute_reply": "2024-05-30T16:06:20.159316Z"
    },
    "papermill": {
     "duration": 0.024703,
     "end_time": "2024-05-30T16:06:20.162534",
     "exception": false,
     "start_time": "2024-05-30T16:06:20.137831",
     "status": "completed"
    },
    "tags": []
   },
   "outputs": [
    {
     "data": {
      "text/plain": [
       "Index(['sepal_length', 'sepal_width', 'petal_length', 'petal_width',\n",
       "       'species'],\n",
       "      dtype='object')"
      ]
     },
     "execution_count": 7,
     "metadata": {},
     "output_type": "execute_result"
    }
   ],
   "source": [
    "df.columns"
   ]
  },
  {
   "cell_type": "code",
   "execution_count": 8,
   "id": "471c4003",
   "metadata": {
    "execution": {
     "iopub.execute_input": "2024-05-30T16:06:20.193975Z",
     "iopub.status.busy": "2024-05-30T16:06:20.192998Z",
     "iopub.status.idle": "2024-05-30T16:06:20.199238Z",
     "shell.execute_reply": "2024-05-30T16:06:20.198236Z"
    },
    "papermill": {
     "duration": 0.024132,
     "end_time": "2024-05-30T16:06:20.201493",
     "exception": false,
     "start_time": "2024-05-30T16:06:20.177361",
     "status": "completed"
    },
    "tags": []
   },
   "outputs": [
    {
     "data": {
      "text/plain": [
       "(150, 5)"
      ]
     },
     "execution_count": 8,
     "metadata": {},
     "output_type": "execute_result"
    }
   ],
   "source": [
    "df.shape"
   ]
  },
  {
   "cell_type": "code",
   "execution_count": 9,
   "id": "b2cf79fd",
   "metadata": {
    "execution": {
     "iopub.execute_input": "2024-05-30T16:06:20.232153Z",
     "iopub.status.busy": "2024-05-30T16:06:20.231786Z",
     "iopub.status.idle": "2024-05-30T16:06:20.244297Z",
     "shell.execute_reply": "2024-05-30T16:06:20.243215Z"
    },
    "papermill": {
     "duration": 0.030634,
     "end_time": "2024-05-30T16:06:20.246641",
     "exception": false,
     "start_time": "2024-05-30T16:06:20.216007",
     "status": "completed"
    },
    "tags": []
   },
   "outputs": [
    {
     "data": {
      "text/plain": [
       "array([[5.1, 3.5, 1.4, 0.2, 'Iris-setosa'],\n",
       "       [4.9, 3.0, 1.4, 0.2, 'Iris-setosa'],\n",
       "       [4.7, 3.2, 1.3, 0.2, 'Iris-setosa'],\n",
       "       [4.6, 3.1, 1.5, 0.2, 'Iris-setosa'],\n",
       "       [5.0, 3.6, 1.4, 0.2, 'Iris-setosa'],\n",
       "       [5.4, 3.9, 1.7, 0.4, 'Iris-setosa'],\n",
       "       [4.6, 3.4, 1.4, 0.3, 'Iris-setosa'],\n",
       "       [5.0, 3.4, 1.5, 0.2, 'Iris-setosa'],\n",
       "       [4.4, 2.9, 1.4, 0.2, 'Iris-setosa'],\n",
       "       [4.9, 3.1, 1.5, 0.1, 'Iris-setosa'],\n",
       "       [5.4, 3.7, 1.5, 0.2, 'Iris-setosa'],\n",
       "       [4.8, 3.4, 1.6, 0.2, 'Iris-setosa'],\n",
       "       [4.8, 3.0, 1.4, 0.1, 'Iris-setosa'],\n",
       "       [4.3, 3.0, 1.1, 0.1, 'Iris-setosa'],\n",
       "       [5.8, 4.0, 1.2, 0.2, 'Iris-setosa'],\n",
       "       [5.7, 4.4, 1.5, 0.4, 'Iris-setosa'],\n",
       "       [5.4, 3.9, 1.3, 0.4, 'Iris-setosa'],\n",
       "       [5.1, 3.5, 1.4, 0.3, 'Iris-setosa'],\n",
       "       [5.7, 3.8, 1.7, 0.3, 'Iris-setosa'],\n",
       "       [5.1, 3.8, 1.5, 0.3, 'Iris-setosa'],\n",
       "       [5.4, 3.4, 1.7, 0.2, 'Iris-setosa'],\n",
       "       [5.1, 3.7, 1.5, 0.4, 'Iris-setosa'],\n",
       "       [4.6, 3.6, 1.0, 0.2, 'Iris-setosa'],\n",
       "       [5.1, 3.3, 1.7, 0.5, 'Iris-setosa'],\n",
       "       [4.8, 3.4, 1.9, 0.2, 'Iris-setosa'],\n",
       "       [5.0, 3.0, 1.6, 0.2, 'Iris-setosa'],\n",
       "       [5.0, 3.4, 1.6, 0.4, 'Iris-setosa'],\n",
       "       [5.2, 3.5, 1.5, 0.2, 'Iris-setosa'],\n",
       "       [5.2, 3.4, 1.4, 0.2, 'Iris-setosa'],\n",
       "       [4.7, 3.2, 1.6, 0.2, 'Iris-setosa'],\n",
       "       [4.8, 3.1, 1.6, 0.2, 'Iris-setosa'],\n",
       "       [5.4, 3.4, 1.5, 0.4, 'Iris-setosa'],\n",
       "       [5.2, 4.1, 1.5, 0.1, 'Iris-setosa'],\n",
       "       [5.5, 4.2, 1.4, 0.2, 'Iris-setosa'],\n",
       "       [4.9, 3.1, 1.5, 0.1, 'Iris-setosa'],\n",
       "       [5.0, 3.2, 1.2, 0.2, 'Iris-setosa'],\n",
       "       [5.5, 3.5, 1.3, 0.2, 'Iris-setosa'],\n",
       "       [4.9, 3.1, 1.5, 0.1, 'Iris-setosa'],\n",
       "       [4.4, 3.0, 1.3, 0.2, 'Iris-setosa'],\n",
       "       [5.1, 3.4, 1.5, 0.2, 'Iris-setosa'],\n",
       "       [5.0, 3.5, 1.3, 0.3, 'Iris-setosa'],\n",
       "       [4.5, 2.3, 1.3, 0.3, 'Iris-setosa'],\n",
       "       [4.4, 3.2, 1.3, 0.2, 'Iris-setosa'],\n",
       "       [5.0, 3.5, 1.6, 0.6, 'Iris-setosa'],\n",
       "       [5.1, 3.8, 1.9, 0.4, 'Iris-setosa'],\n",
       "       [4.8, 3.0, 1.4, 0.3, 'Iris-setosa'],\n",
       "       [5.1, 3.8, 1.6, 0.2, 'Iris-setosa'],\n",
       "       [4.6, 3.2, 1.4, 0.2, 'Iris-setosa'],\n",
       "       [5.3, 3.7, 1.5, 0.2, 'Iris-setosa'],\n",
       "       [5.0, 3.3, 1.4, 0.2, 'Iris-setosa'],\n",
       "       [7.0, 3.2, 4.7, 1.4, 'Iris-versicolor'],\n",
       "       [6.4, 3.2, 4.5, 1.5, 'Iris-versicolor'],\n",
       "       [6.9, 3.1, 4.9, 1.5, 'Iris-versicolor'],\n",
       "       [5.5, 2.3, 4.0, 1.3, 'Iris-versicolor'],\n",
       "       [6.5, 2.8, 4.6, 1.5, 'Iris-versicolor'],\n",
       "       [5.7, 2.8, 4.5, 1.3, 'Iris-versicolor'],\n",
       "       [6.3, 3.3, 4.7, 1.6, 'Iris-versicolor'],\n",
       "       [4.9, 2.4, 3.3, 1.0, 'Iris-versicolor'],\n",
       "       [6.6, 2.9, 4.6, 1.3, 'Iris-versicolor'],\n",
       "       [5.2, 2.7, 3.9, 1.4, 'Iris-versicolor'],\n",
       "       [5.0, 2.0, 3.5, 1.0, 'Iris-versicolor'],\n",
       "       [5.9, 3.0, 4.2, 1.5, 'Iris-versicolor'],\n",
       "       [6.0, 2.2, 4.0, 1.0, 'Iris-versicolor'],\n",
       "       [6.1, 2.9, 4.7, 1.4, 'Iris-versicolor'],\n",
       "       [5.6, 2.9, 3.6, 1.3, 'Iris-versicolor'],\n",
       "       [6.7, 3.1, 4.4, 1.4, 'Iris-versicolor'],\n",
       "       [5.6, 3.0, 4.5, 1.5, 'Iris-versicolor'],\n",
       "       [5.8, 2.7, 4.1, 1.0, 'Iris-versicolor'],\n",
       "       [6.2, 2.2, 4.5, 1.5, 'Iris-versicolor'],\n",
       "       [5.6, 2.5, 3.9, 1.1, 'Iris-versicolor'],\n",
       "       [5.9, 3.2, 4.8, 1.8, 'Iris-versicolor'],\n",
       "       [6.1, 2.8, 4.0, 1.3, 'Iris-versicolor'],\n",
       "       [6.3, 2.5, 4.9, 1.5, 'Iris-versicolor'],\n",
       "       [6.1, 2.8, 4.7, 1.2, 'Iris-versicolor'],\n",
       "       [6.4, 2.9, 4.3, 1.3, 'Iris-versicolor'],\n",
       "       [6.6, 3.0, 4.4, 1.4, 'Iris-versicolor'],\n",
       "       [6.8, 2.8, 4.8, 1.4, 'Iris-versicolor'],\n",
       "       [6.7, 3.0, 5.0, 1.7, 'Iris-versicolor'],\n",
       "       [6.0, 2.9, 4.5, 1.5, 'Iris-versicolor'],\n",
       "       [5.7, 2.6, 3.5, 1.0, 'Iris-versicolor'],\n",
       "       [5.5, 2.4, 3.8, 1.1, 'Iris-versicolor'],\n",
       "       [5.5, 2.4, 3.7, 1.0, 'Iris-versicolor'],\n",
       "       [5.8, 2.7, 3.9, 1.2, 'Iris-versicolor'],\n",
       "       [6.0, 2.7, 5.1, 1.6, 'Iris-versicolor'],\n",
       "       [5.4, 3.0, 4.5, 1.5, 'Iris-versicolor'],\n",
       "       [6.0, 3.4, 4.5, 1.6, 'Iris-versicolor'],\n",
       "       [6.7, 3.1, 4.7, 1.5, 'Iris-versicolor'],\n",
       "       [6.3, 2.3, 4.4, 1.3, 'Iris-versicolor'],\n",
       "       [5.6, 3.0, 4.1, 1.3, 'Iris-versicolor'],\n",
       "       [5.5, 2.5, 4.0, 1.3, 'Iris-versicolor'],\n",
       "       [5.5, 2.6, 4.4, 1.2, 'Iris-versicolor'],\n",
       "       [6.1, 3.0, 4.6, 1.4, 'Iris-versicolor'],\n",
       "       [5.8, 2.6, 4.0, 1.2, 'Iris-versicolor'],\n",
       "       [5.0, 2.3, 3.3, 1.0, 'Iris-versicolor'],\n",
       "       [5.6, 2.7, 4.2, 1.3, 'Iris-versicolor'],\n",
       "       [5.7, 3.0, 4.2, 1.2, 'Iris-versicolor'],\n",
       "       [5.7, 2.9, 4.2, 1.3, 'Iris-versicolor'],\n",
       "       [6.2, 2.9, 4.3, 1.3, 'Iris-versicolor'],\n",
       "       [5.1, 2.5, 3.0, 1.1, 'Iris-versicolor'],\n",
       "       [5.7, 2.8, 4.1, 1.3, 'Iris-versicolor'],\n",
       "       [6.3, 3.3, 6.0, 2.5, 'Iris-virginica'],\n",
       "       [5.8, 2.7, 5.1, 1.9, 'Iris-virginica'],\n",
       "       [7.1, 3.0, 5.9, 2.1, 'Iris-virginica'],\n",
       "       [6.3, 2.9, 5.6, 1.8, 'Iris-virginica'],\n",
       "       [6.5, 3.0, 5.8, 2.2, 'Iris-virginica'],\n",
       "       [7.6, 3.0, 6.6, 2.1, 'Iris-virginica'],\n",
       "       [4.9, 2.5, 4.5, 1.7, 'Iris-virginica'],\n",
       "       [7.3, 2.9, 6.3, 1.8, 'Iris-virginica'],\n",
       "       [6.7, 2.5, 5.8, 1.8, 'Iris-virginica'],\n",
       "       [7.2, 3.6, 6.1, 2.5, 'Iris-virginica'],\n",
       "       [6.5, 3.2, 5.1, 2.0, 'Iris-virginica'],\n",
       "       [6.4, 2.7, 5.3, 1.9, 'Iris-virginica'],\n",
       "       [6.8, 3.0, 5.5, 2.1, 'Iris-virginica'],\n",
       "       [5.7, 2.5, 5.0, 2.0, 'Iris-virginica'],\n",
       "       [5.8, 2.8, 5.1, 2.4, 'Iris-virginica'],\n",
       "       [6.4, 3.2, 5.3, 2.3, 'Iris-virginica'],\n",
       "       [6.5, 3.0, 5.5, 1.8, 'Iris-virginica'],\n",
       "       [7.7, 3.8, 6.7, 2.2, 'Iris-virginica'],\n",
       "       [7.7, 2.6, 6.9, 2.3, 'Iris-virginica'],\n",
       "       [6.0, 2.2, 5.0, 1.5, 'Iris-virginica'],\n",
       "       [6.9, 3.2, 5.7, 2.3, 'Iris-virginica'],\n",
       "       [5.6, 2.8, 4.9, 2.0, 'Iris-virginica'],\n",
       "       [7.7, 2.8, 6.7, 2.0, 'Iris-virginica'],\n",
       "       [6.3, 2.7, 4.9, 1.8, 'Iris-virginica'],\n",
       "       [6.7, 3.3, 5.7, 2.1, 'Iris-virginica'],\n",
       "       [7.2, 3.2, 6.0, 1.8, 'Iris-virginica'],\n",
       "       [6.2, 2.8, 4.8, 1.8, 'Iris-virginica'],\n",
       "       [6.1, 3.0, 4.9, 1.8, 'Iris-virginica'],\n",
       "       [6.4, 2.8, 5.6, 2.1, 'Iris-virginica'],\n",
       "       [7.2, 3.0, 5.8, 1.6, 'Iris-virginica'],\n",
       "       [7.4, 2.8, 6.1, 1.9, 'Iris-virginica'],\n",
       "       [7.9, 3.8, 6.4, 2.0, 'Iris-virginica'],\n",
       "       [6.4, 2.8, 5.6, 2.2, 'Iris-virginica'],\n",
       "       [6.3, 2.8, 5.1, 1.5, 'Iris-virginica'],\n",
       "       [6.1, 2.6, 5.6, 1.4, 'Iris-virginica'],\n",
       "       [7.7, 3.0, 6.1, 2.3, 'Iris-virginica'],\n",
       "       [6.3, 3.4, 5.6, 2.4, 'Iris-virginica'],\n",
       "       [6.4, 3.1, 5.5, 1.8, 'Iris-virginica'],\n",
       "       [6.0, 3.0, 4.8, 1.8, 'Iris-virginica'],\n",
       "       [6.9, 3.1, 5.4, 2.1, 'Iris-virginica'],\n",
       "       [6.7, 3.1, 5.6, 2.4, 'Iris-virginica'],\n",
       "       [6.9, 3.1, 5.1, 2.3, 'Iris-virginica'],\n",
       "       [5.8, 2.7, 5.1, 1.9, 'Iris-virginica'],\n",
       "       [6.8, 3.2, 5.9, 2.3, 'Iris-virginica'],\n",
       "       [6.7, 3.3, 5.7, 2.5, 'Iris-virginica'],\n",
       "       [6.7, 3.0, 5.2, 2.3, 'Iris-virginica'],\n",
       "       [6.3, 2.5, 5.0, 1.9, 'Iris-virginica'],\n",
       "       [6.5, 3.0, 5.2, 2.0, 'Iris-virginica'],\n",
       "       [6.2, 3.4, 5.4, 2.3, 'Iris-virginica'],\n",
       "       [5.9, 3.0, 5.1, 1.8, 'Iris-virginica']], dtype=object)"
      ]
     },
     "execution_count": 9,
     "metadata": {},
     "output_type": "execute_result"
    }
   ],
   "source": [
    "df.values"
   ]
  },
  {
   "cell_type": "code",
   "execution_count": 10,
   "id": "59ce54b6",
   "metadata": {
    "execution": {
     "iopub.execute_input": "2024-05-30T16:06:20.278360Z",
     "iopub.status.busy": "2024-05-30T16:06:20.277966Z",
     "iopub.status.idle": "2024-05-30T16:06:20.286406Z",
     "shell.execute_reply": "2024-05-30T16:06:20.285359Z"
    },
    "papermill": {
     "duration": 0.027437,
     "end_time": "2024-05-30T16:06:20.288952",
     "exception": false,
     "start_time": "2024-05-30T16:06:20.261515",
     "status": "completed"
    },
    "tags": []
   },
   "outputs": [
    {
     "data": {
      "text/plain": [
       "sepal_length    150\n",
       "sepal_width     150\n",
       "petal_length    150\n",
       "petal_width     150\n",
       "species         150\n",
       "dtype: int64"
      ]
     },
     "execution_count": 10,
     "metadata": {},
     "output_type": "execute_result"
    }
   ],
   "source": [
    "df.count()"
   ]
  },
  {
   "cell_type": "code",
   "execution_count": 11,
   "id": "e57d2d3f",
   "metadata": {
    "execution": {
     "iopub.execute_input": "2024-05-30T16:06:20.320933Z",
     "iopub.status.busy": "2024-05-30T16:06:20.320570Z",
     "iopub.status.idle": "2024-05-30T16:06:20.326791Z",
     "shell.execute_reply": "2024-05-30T16:06:20.325717Z"
    },
    "papermill": {
     "duration": 0.024896,
     "end_time": "2024-05-30T16:06:20.329064",
     "exception": false,
     "start_time": "2024-05-30T16:06:20.304168",
     "status": "completed"
    },
    "tags": []
   },
   "outputs": [
    {
     "data": {
      "text/plain": [
       "pandas.core.frame.DataFrame"
      ]
     },
     "execution_count": 11,
     "metadata": {},
     "output_type": "execute_result"
    }
   ],
   "source": [
    "type(df)"
   ]
  },
  {
   "cell_type": "code",
   "execution_count": 12,
   "id": "196f68ef",
   "metadata": {
    "execution": {
     "iopub.execute_input": "2024-05-30T16:06:20.362255Z",
     "iopub.status.busy": "2024-05-30T16:06:20.361244Z",
     "iopub.status.idle": "2024-05-30T16:06:20.386785Z",
     "shell.execute_reply": "2024-05-30T16:06:20.385986Z"
    },
    "papermill": {
     "duration": 0.044667,
     "end_time": "2024-05-30T16:06:20.388941",
     "exception": false,
     "start_time": "2024-05-30T16:06:20.344274",
     "status": "completed"
    },
    "tags": []
   },
   "outputs": [
    {
     "data": {
      "text/html": [
       "<div>\n",
       "<style scoped>\n",
       "    .dataframe tbody tr th:only-of-type {\n",
       "        vertical-align: middle;\n",
       "    }\n",
       "\n",
       "    .dataframe tbody tr th {\n",
       "        vertical-align: top;\n",
       "    }\n",
       "\n",
       "    .dataframe thead th {\n",
       "        text-align: right;\n",
       "    }\n",
       "</style>\n",
       "<table border=\"1\" class=\"dataframe\">\n",
       "  <thead>\n",
       "    <tr style=\"text-align: right;\">\n",
       "      <th></th>\n",
       "      <th>sepal_length</th>\n",
       "      <th>sepal_width</th>\n",
       "      <th>petal_length</th>\n",
       "      <th>petal_width</th>\n",
       "    </tr>\n",
       "  </thead>\n",
       "  <tbody>\n",
       "    <tr>\n",
       "      <th>count</th>\n",
       "      <td>150.000000</td>\n",
       "      <td>150.000000</td>\n",
       "      <td>150.000000</td>\n",
       "      <td>150.000000</td>\n",
       "    </tr>\n",
       "    <tr>\n",
       "      <th>mean</th>\n",
       "      <td>5.843333</td>\n",
       "      <td>3.054000</td>\n",
       "      <td>3.758667</td>\n",
       "      <td>1.198667</td>\n",
       "    </tr>\n",
       "    <tr>\n",
       "      <th>std</th>\n",
       "      <td>0.828066</td>\n",
       "      <td>0.433594</td>\n",
       "      <td>1.764420</td>\n",
       "      <td>0.763161</td>\n",
       "    </tr>\n",
       "    <tr>\n",
       "      <th>min</th>\n",
       "      <td>4.300000</td>\n",
       "      <td>2.000000</td>\n",
       "      <td>1.000000</td>\n",
       "      <td>0.100000</td>\n",
       "    </tr>\n",
       "    <tr>\n",
       "      <th>25%</th>\n",
       "      <td>5.100000</td>\n",
       "      <td>2.800000</td>\n",
       "      <td>1.600000</td>\n",
       "      <td>0.300000</td>\n",
       "    </tr>\n",
       "    <tr>\n",
       "      <th>50%</th>\n",
       "      <td>5.800000</td>\n",
       "      <td>3.000000</td>\n",
       "      <td>4.350000</td>\n",
       "      <td>1.300000</td>\n",
       "    </tr>\n",
       "    <tr>\n",
       "      <th>75%</th>\n",
       "      <td>6.400000</td>\n",
       "      <td>3.300000</td>\n",
       "      <td>5.100000</td>\n",
       "      <td>1.800000</td>\n",
       "    </tr>\n",
       "    <tr>\n",
       "      <th>max</th>\n",
       "      <td>7.900000</td>\n",
       "      <td>4.400000</td>\n",
       "      <td>6.900000</td>\n",
       "      <td>2.500000</td>\n",
       "    </tr>\n",
       "  </tbody>\n",
       "</table>\n",
       "</div>"
      ],
      "text/plain": [
       "       sepal_length  sepal_width  petal_length  petal_width\n",
       "count    150.000000   150.000000    150.000000   150.000000\n",
       "mean       5.843333     3.054000      3.758667     1.198667\n",
       "std        0.828066     0.433594      1.764420     0.763161\n",
       "min        4.300000     2.000000      1.000000     0.100000\n",
       "25%        5.100000     2.800000      1.600000     0.300000\n",
       "50%        5.800000     3.000000      4.350000     1.300000\n",
       "75%        6.400000     3.300000      5.100000     1.800000\n",
       "max        7.900000     4.400000      6.900000     2.500000"
      ]
     },
     "execution_count": 12,
     "metadata": {},
     "output_type": "execute_result"
    }
   ],
   "source": [
    "df.describe()"
   ]
  },
  {
   "cell_type": "code",
   "execution_count": 13,
   "id": "2a143b63",
   "metadata": {
    "execution": {
     "iopub.execute_input": "2024-05-30T16:06:20.422198Z",
     "iopub.status.busy": "2024-05-30T16:06:20.421797Z",
     "iopub.status.idle": "2024-05-30T16:06:20.430059Z",
     "shell.execute_reply": "2024-05-30T16:06:20.428963Z"
    },
    "papermill": {
     "duration": 0.027162,
     "end_time": "2024-05-30T16:06:20.432167",
     "exception": false,
     "start_time": "2024-05-30T16:06:20.405005",
     "status": "completed"
    },
    "tags": []
   },
   "outputs": [
    {
     "data": {
      "text/plain": [
       "sepal_length    float64\n",
       "sepal_width     float64\n",
       "petal_length    float64\n",
       "petal_width     float64\n",
       "species          object\n",
       "dtype: object"
      ]
     },
     "execution_count": 13,
     "metadata": {},
     "output_type": "execute_result"
    }
   ],
   "source": [
    "df.dtypes"
   ]
  },
  {
   "cell_type": "code",
   "execution_count": 14,
   "id": "06b34d8e",
   "metadata": {
    "execution": {
     "iopub.execute_input": "2024-05-30T16:06:20.465450Z",
     "iopub.status.busy": "2024-05-30T16:06:20.464808Z",
     "iopub.status.idle": "2024-05-30T16:06:20.476918Z",
     "shell.execute_reply": "2024-05-30T16:06:20.475953Z"
    },
    "papermill": {
     "duration": 0.030886,
     "end_time": "2024-05-30T16:06:20.479248",
     "exception": false,
     "start_time": "2024-05-30T16:06:20.448362",
     "status": "completed"
    },
    "tags": []
   },
   "outputs": [
    {
     "data": {
      "text/plain": [
       "<bound method DataFrame.info of      sepal_length  sepal_width  petal_length  petal_width         species\n",
       "0             5.1          3.5           1.4          0.2     Iris-setosa\n",
       "1             4.9          3.0           1.4          0.2     Iris-setosa\n",
       "2             4.7          3.2           1.3          0.2     Iris-setosa\n",
       "3             4.6          3.1           1.5          0.2     Iris-setosa\n",
       "4             5.0          3.6           1.4          0.2     Iris-setosa\n",
       "..            ...          ...           ...          ...             ...\n",
       "145           6.7          3.0           5.2          2.3  Iris-virginica\n",
       "146           6.3          2.5           5.0          1.9  Iris-virginica\n",
       "147           6.5          3.0           5.2          2.0  Iris-virginica\n",
       "148           6.2          3.4           5.4          2.3  Iris-virginica\n",
       "149           5.9          3.0           5.1          1.8  Iris-virginica\n",
       "\n",
       "[150 rows x 5 columns]>"
      ]
     },
     "execution_count": 14,
     "metadata": {},
     "output_type": "execute_result"
    }
   ],
   "source": [
    "df.info"
   ]
  },
  {
   "cell_type": "code",
   "execution_count": 15,
   "id": "55b2cec9",
   "metadata": {
    "execution": {
     "iopub.execute_input": "2024-05-30T16:06:20.512509Z",
     "iopub.status.busy": "2024-05-30T16:06:20.512110Z",
     "iopub.status.idle": "2024-05-30T16:06:20.520465Z",
     "shell.execute_reply": "2024-05-30T16:06:20.519387Z"
    },
    "papermill": {
     "duration": 0.027733,
     "end_time": "2024-05-30T16:06:20.522741",
     "exception": false,
     "start_time": "2024-05-30T16:06:20.495008",
     "status": "completed"
    },
    "tags": []
   },
   "outputs": [
    {
     "data": {
      "text/plain": [
       "sepal_length    0\n",
       "sepal_width     0\n",
       "petal_length    0\n",
       "petal_width     0\n",
       "species         0\n",
       "dtype: int64"
      ]
     },
     "execution_count": 15,
     "metadata": {},
     "output_type": "execute_result"
    }
   ],
   "source": [
    "df.isnull().sum()"
   ]
  },
  {
   "cell_type": "markdown",
   "id": "1c5a4472",
   "metadata": {
    "papermill": {
     "duration": 0.015663,
     "end_time": "2024-05-30T16:06:20.554308",
     "exception": false,
     "start_time": "2024-05-30T16:06:20.538645",
     "status": "completed"
    },
    "tags": []
   },
   "source": [
    "Change attribute names"
   ]
  },
  {
   "cell_type": "code",
   "execution_count": 16,
   "id": "04dac1c3",
   "metadata": {
    "execution": {
     "iopub.execute_input": "2024-05-30T16:06:20.587814Z",
     "iopub.status.busy": "2024-05-30T16:06:20.587375Z",
     "iopub.status.idle": "2024-05-30T16:06:20.594262Z",
     "shell.execute_reply": "2024-05-30T16:06:20.593498Z"
    },
    "papermill": {
     "duration": 0.026051,
     "end_time": "2024-05-30T16:06:20.596278",
     "exception": false,
     "start_time": "2024-05-30T16:06:20.570227",
     "status": "completed"
    },
    "tags": []
   },
   "outputs": [
    {
     "data": {
      "text/plain": [
       "Index(['sepal_length', 'sepal_width', 'petal_length', 'petal_width',\n",
       "       'species'],\n",
       "      dtype='object')"
      ]
     },
     "execution_count": 16,
     "metadata": {},
     "output_type": "execute_result"
    }
   ],
   "source": [
    "act_cols = df.columns\n",
    "act_cols"
   ]
  },
  {
   "cell_type": "code",
   "execution_count": 17,
   "id": "41a46f0e",
   "metadata": {
    "execution": {
     "iopub.execute_input": "2024-05-30T16:06:20.630484Z",
     "iopub.status.busy": "2024-05-30T16:06:20.630086Z",
     "iopub.status.idle": "2024-05-30T16:06:20.645492Z",
     "shell.execute_reply": "2024-05-30T16:06:20.644202Z"
    },
    "papermill": {
     "duration": 0.035227,
     "end_time": "2024-05-30T16:06:20.647710",
     "exception": false,
     "start_time": "2024-05-30T16:06:20.612483",
     "status": "completed"
    },
    "tags": []
   },
   "outputs": [
    {
     "data": {
      "text/html": [
       "<div>\n",
       "<style scoped>\n",
       "    .dataframe tbody tr th:only-of-type {\n",
       "        vertical-align: middle;\n",
       "    }\n",
       "\n",
       "    .dataframe tbody tr th {\n",
       "        vertical-align: top;\n",
       "    }\n",
       "\n",
       "    .dataframe thead th {\n",
       "        text-align: right;\n",
       "    }\n",
       "</style>\n",
       "<table border=\"1\" class=\"dataframe\">\n",
       "  <thead>\n",
       "    <tr style=\"text-align: right;\">\n",
       "      <th></th>\n",
       "      <th>SL</th>\n",
       "      <th>SW</th>\n",
       "      <th>PL</th>\n",
       "      <th>PW</th>\n",
       "      <th>Flowers</th>\n",
       "    </tr>\n",
       "  </thead>\n",
       "  <tbody>\n",
       "    <tr>\n",
       "      <th>0</th>\n",
       "      <td>5.1</td>\n",
       "      <td>3.5</td>\n",
       "      <td>1.4</td>\n",
       "      <td>0.2</td>\n",
       "      <td>Iris-setosa</td>\n",
       "    </tr>\n",
       "    <tr>\n",
       "      <th>1</th>\n",
       "      <td>4.9</td>\n",
       "      <td>3.0</td>\n",
       "      <td>1.4</td>\n",
       "      <td>0.2</td>\n",
       "      <td>Iris-setosa</td>\n",
       "    </tr>\n",
       "    <tr>\n",
       "      <th>2</th>\n",
       "      <td>4.7</td>\n",
       "      <td>3.2</td>\n",
       "      <td>1.3</td>\n",
       "      <td>0.2</td>\n",
       "      <td>Iris-setosa</td>\n",
       "    </tr>\n",
       "    <tr>\n",
       "      <th>3</th>\n",
       "      <td>4.6</td>\n",
       "      <td>3.1</td>\n",
       "      <td>1.5</td>\n",
       "      <td>0.2</td>\n",
       "      <td>Iris-setosa</td>\n",
       "    </tr>\n",
       "    <tr>\n",
       "      <th>4</th>\n",
       "      <td>5.0</td>\n",
       "      <td>3.6</td>\n",
       "      <td>1.4</td>\n",
       "      <td>0.2</td>\n",
       "      <td>Iris-setosa</td>\n",
       "    </tr>\n",
       "  </tbody>\n",
       "</table>\n",
       "</div>"
      ],
      "text/plain": [
       "    SL   SW   PL   PW      Flowers\n",
       "0  5.1  3.5  1.4  0.2  Iris-setosa\n",
       "1  4.9  3.0  1.4  0.2  Iris-setosa\n",
       "2  4.7  3.2  1.3  0.2  Iris-setosa\n",
       "3  4.6  3.1  1.5  0.2  Iris-setosa\n",
       "4  5.0  3.6  1.4  0.2  Iris-setosa"
      ]
     },
     "execution_count": 17,
     "metadata": {},
     "output_type": "execute_result"
    }
   ],
   "source": [
    "new_cols = ['SL','SW','PL','PW','Flowers']\n",
    "df.columns = new_cols\n",
    "df.head(5)"
   ]
  },
  {
   "cell_type": "code",
   "execution_count": 18,
   "id": "2ff3e3e1",
   "metadata": {
    "execution": {
     "iopub.execute_input": "2024-05-30T16:06:20.682073Z",
     "iopub.status.busy": "2024-05-30T16:06:20.681683Z",
     "iopub.status.idle": "2024-05-30T16:06:20.687850Z",
     "shell.execute_reply": "2024-05-30T16:06:20.687114Z"
    },
    "papermill": {
     "duration": 0.025876,
     "end_time": "2024-05-30T16:06:20.689906",
     "exception": false,
     "start_time": "2024-05-30T16:06:20.664030",
     "status": "completed"
    },
    "tags": []
   },
   "outputs": [
    {
     "data": {
      "text/plain": [
       "pandas.core.series.Series"
      ]
     },
     "execution_count": 18,
     "metadata": {},
     "output_type": "execute_result"
    }
   ],
   "source": [
    "type(df[\"SL\"])"
   ]
  },
  {
   "cell_type": "code",
   "execution_count": 19,
   "id": "47d5b759",
   "metadata": {
    "execution": {
     "iopub.execute_input": "2024-05-30T16:06:20.726103Z",
     "iopub.status.busy": "2024-05-30T16:06:20.725690Z",
     "iopub.status.idle": "2024-05-30T16:06:20.733015Z",
     "shell.execute_reply": "2024-05-30T16:06:20.731972Z"
    },
    "papermill": {
     "duration": 0.027601,
     "end_time": "2024-05-30T16:06:20.735308",
     "exception": false,
     "start_time": "2024-05-30T16:06:20.707707",
     "status": "completed"
    },
    "tags": []
   },
   "outputs": [
    {
     "data": {
      "text/plain": [
       "pandas.core.series.Series"
      ]
     },
     "execution_count": 19,
     "metadata": {},
     "output_type": "execute_result"
    }
   ],
   "source": [
    "type(df[\"SW\"])"
   ]
  },
  {
   "cell_type": "code",
   "execution_count": 20,
   "id": "f286725b",
   "metadata": {
    "execution": {
     "iopub.execute_input": "2024-05-30T16:06:20.826422Z",
     "iopub.status.busy": "2024-05-30T16:06:20.825967Z",
     "iopub.status.idle": "2024-05-30T16:06:20.832744Z",
     "shell.execute_reply": "2024-05-30T16:06:20.831585Z"
    },
    "papermill": {
     "duration": 0.026439,
     "end_time": "2024-05-30T16:06:20.834965",
     "exception": false,
     "start_time": "2024-05-30T16:06:20.808526",
     "status": "completed"
    },
    "tags": []
   },
   "outputs": [
    {
     "data": {
      "text/plain": [
       "pandas.core.series.Series"
      ]
     },
     "execution_count": 20,
     "metadata": {},
     "output_type": "execute_result"
    }
   ],
   "source": [
    "type(df[\"PL\"])"
   ]
  },
  {
   "cell_type": "code",
   "execution_count": 21,
   "id": "a2117aec",
   "metadata": {
    "execution": {
     "iopub.execute_input": "2024-05-30T16:06:20.870841Z",
     "iopub.status.busy": "2024-05-30T16:06:20.870045Z",
     "iopub.status.idle": "2024-05-30T16:06:20.877150Z",
     "shell.execute_reply": "2024-05-30T16:06:20.876101Z"
    },
    "papermill": {
     "duration": 0.027522,
     "end_time": "2024-05-30T16:06:20.879493",
     "exception": false,
     "start_time": "2024-05-30T16:06:20.851971",
     "status": "completed"
    },
    "tags": []
   },
   "outputs": [
    {
     "data": {
      "text/plain": [
       "pandas.core.series.Series"
      ]
     },
     "execution_count": 21,
     "metadata": {},
     "output_type": "execute_result"
    }
   ],
   "source": [
    "type(df[\"PW\"])"
   ]
  },
  {
   "cell_type": "code",
   "execution_count": 22,
   "id": "789886e6",
   "metadata": {
    "execution": {
     "iopub.execute_input": "2024-05-30T16:06:20.915094Z",
     "iopub.status.busy": "2024-05-30T16:06:20.914739Z",
     "iopub.status.idle": "2024-05-30T16:06:20.931586Z",
     "shell.execute_reply": "2024-05-30T16:06:20.930485Z"
    },
    "papermill": {
     "duration": 0.037453,
     "end_time": "2024-05-30T16:06:20.933759",
     "exception": false,
     "start_time": "2024-05-30T16:06:20.896306",
     "status": "completed"
    },
    "tags": []
   },
   "outputs": [
    {
     "data": {
      "text/html": [
       "<div>\n",
       "<style scoped>\n",
       "    .dataframe tbody tr th:only-of-type {\n",
       "        vertical-align: middle;\n",
       "    }\n",
       "\n",
       "    .dataframe tbody tr th {\n",
       "        vertical-align: top;\n",
       "    }\n",
       "\n",
       "    .dataframe thead th {\n",
       "        text-align: right;\n",
       "    }\n",
       "</style>\n",
       "<table border=\"1\" class=\"dataframe\">\n",
       "  <thead>\n",
       "    <tr style=\"text-align: right;\">\n",
       "      <th></th>\n",
       "      <th>SL</th>\n",
       "      <th>SW</th>\n",
       "      <th>PL</th>\n",
       "      <th>PW</th>\n",
       "      <th>Flowers</th>\n",
       "    </tr>\n",
       "  </thead>\n",
       "  <tbody>\n",
       "    <tr>\n",
       "      <th>111</th>\n",
       "      <td>6.4</td>\n",
       "      <td>2.7</td>\n",
       "      <td>5.3</td>\n",
       "      <td>1.9</td>\n",
       "      <td>Iris-virginica</td>\n",
       "    </tr>\n",
       "    <tr>\n",
       "      <th>122</th>\n",
       "      <td>7.7</td>\n",
       "      <td>2.8</td>\n",
       "      <td>6.7</td>\n",
       "      <td>2.0</td>\n",
       "      <td>Iris-virginica</td>\n",
       "    </tr>\n",
       "    <tr>\n",
       "      <th>121</th>\n",
       "      <td>5.6</td>\n",
       "      <td>2.8</td>\n",
       "      <td>4.9</td>\n",
       "      <td>2.0</td>\n",
       "      <td>Iris-virginica</td>\n",
       "    </tr>\n",
       "    <tr>\n",
       "      <th>120</th>\n",
       "      <td>6.9</td>\n",
       "      <td>3.2</td>\n",
       "      <td>5.7</td>\n",
       "      <td>2.3</td>\n",
       "      <td>Iris-virginica</td>\n",
       "    </tr>\n",
       "    <tr>\n",
       "      <th>119</th>\n",
       "      <td>6.0</td>\n",
       "      <td>2.2</td>\n",
       "      <td>5.0</td>\n",
       "      <td>1.5</td>\n",
       "      <td>Iris-virginica</td>\n",
       "    </tr>\n",
       "  </tbody>\n",
       "</table>\n",
       "</div>"
      ],
      "text/plain": [
       "      SL   SW   PL   PW         Flowers\n",
       "111  6.4  2.7  5.3  1.9  Iris-virginica\n",
       "122  7.7  2.8  6.7  2.0  Iris-virginica\n",
       "121  5.6  2.8  4.9  2.0  Iris-virginica\n",
       "120  6.9  3.2  5.7  2.3  Iris-virginica\n",
       "119  6.0  2.2  5.0  1.5  Iris-virginica"
      ]
     },
     "execution_count": 22,
     "metadata": {},
     "output_type": "execute_result"
    }
   ],
   "source": [
    "df.sort_values('Flowers',ascending = False)[1:6]"
   ]
  },
  {
   "cell_type": "code",
   "execution_count": 23,
   "id": "61cfb7a9",
   "metadata": {
    "execution": {
     "iopub.execute_input": "2024-05-30T16:06:20.970379Z",
     "iopub.status.busy": "2024-05-30T16:06:20.969709Z",
     "iopub.status.idle": "2024-05-30T16:06:20.984609Z",
     "shell.execute_reply": "2024-05-30T16:06:20.983600Z"
    },
    "papermill": {
     "duration": 0.03616,
     "end_time": "2024-05-30T16:06:20.986986",
     "exception": false,
     "start_time": "2024-05-30T16:06:20.950826",
     "status": "completed"
    },
    "tags": []
   },
   "outputs": [
    {
     "data": {
      "text/html": [
       "<div>\n",
       "<style scoped>\n",
       "    .dataframe tbody tr th:only-of-type {\n",
       "        vertical-align: middle;\n",
       "    }\n",
       "\n",
       "    .dataframe tbody tr th {\n",
       "        vertical-align: top;\n",
       "    }\n",
       "\n",
       "    .dataframe thead th {\n",
       "        text-align: right;\n",
       "    }\n",
       "</style>\n",
       "<table border=\"1\" class=\"dataframe\">\n",
       "  <thead>\n",
       "    <tr style=\"text-align: right;\">\n",
       "      <th></th>\n",
       "      <th>SL</th>\n",
       "      <th>SW</th>\n",
       "      <th>PL</th>\n",
       "      <th>PW</th>\n",
       "      <th>Flowers</th>\n",
       "    </tr>\n",
       "  </thead>\n",
       "  <tbody>\n",
       "    <tr>\n",
       "      <th>149</th>\n",
       "      <td>5.9</td>\n",
       "      <td>3.0</td>\n",
       "      <td>5.1</td>\n",
       "      <td>1.8</td>\n",
       "      <td>Iris-virginica</td>\n",
       "    </tr>\n",
       "    <tr>\n",
       "      <th>148</th>\n",
       "      <td>6.2</td>\n",
       "      <td>3.4</td>\n",
       "      <td>5.4</td>\n",
       "      <td>2.3</td>\n",
       "      <td>Iris-virginica</td>\n",
       "    </tr>\n",
       "    <tr>\n",
       "      <th>147</th>\n",
       "      <td>6.5</td>\n",
       "      <td>3.0</td>\n",
       "      <td>5.2</td>\n",
       "      <td>2.0</td>\n",
       "      <td>Iris-virginica</td>\n",
       "    </tr>\n",
       "    <tr>\n",
       "      <th>146</th>\n",
       "      <td>6.3</td>\n",
       "      <td>2.5</td>\n",
       "      <td>5.0</td>\n",
       "      <td>1.9</td>\n",
       "      <td>Iris-virginica</td>\n",
       "    </tr>\n",
       "    <tr>\n",
       "      <th>145</th>\n",
       "      <td>6.7</td>\n",
       "      <td>3.0</td>\n",
       "      <td>5.2</td>\n",
       "      <td>2.3</td>\n",
       "      <td>Iris-virginica</td>\n",
       "    </tr>\n",
       "    <tr>\n",
       "      <th>144</th>\n",
       "      <td>6.7</td>\n",
       "      <td>3.3</td>\n",
       "      <td>5.7</td>\n",
       "      <td>2.5</td>\n",
       "      <td>Iris-virginica</td>\n",
       "    </tr>\n",
       "  </tbody>\n",
       "</table>\n",
       "</div>"
      ],
      "text/plain": [
       "      SL   SW   PL   PW         Flowers\n",
       "149  5.9  3.0  5.1  1.8  Iris-virginica\n",
       "148  6.2  3.4  5.4  2.3  Iris-virginica\n",
       "147  6.5  3.0  5.2  2.0  Iris-virginica\n",
       "146  6.3  2.5  5.0  1.9  Iris-virginica\n",
       "145  6.7  3.0  5.2  2.3  Iris-virginica\n",
       "144  6.7  3.3  5.7  2.5  Iris-virginica"
      ]
     },
     "execution_count": 23,
     "metadata": {},
     "output_type": "execute_result"
    }
   ],
   "source": [
    "df.sort_index(ascending = False)[:6]"
   ]
  },
  {
   "cell_type": "markdown",
   "id": "f07312c4",
   "metadata": {
    "papermill": {
     "duration": 0.017187,
     "end_time": "2024-05-30T16:06:21.021845",
     "exception": false,
     "start_time": "2024-05-30T16:06:21.004658",
     "status": "completed"
    },
    "tags": []
   },
   "source": [
    "Part of dataset"
   ]
  },
  {
   "cell_type": "code",
   "execution_count": 24,
   "id": "71cf7c4b",
   "metadata": {
    "execution": {
     "iopub.execute_input": "2024-05-30T16:06:21.058665Z",
     "iopub.status.busy": "2024-05-30T16:06:21.058284Z",
     "iopub.status.idle": "2024-05-30T16:06:21.071745Z",
     "shell.execute_reply": "2024-05-30T16:06:21.070736Z"
    },
    "papermill": {
     "duration": 0.035286,
     "end_time": "2024-05-30T16:06:21.074485",
     "exception": false,
     "start_time": "2024-05-30T16:06:21.039199",
     "status": "completed"
    },
    "tags": []
   },
   "outputs": [
    {
     "data": {
      "text/html": [
       "<div>\n",
       "<style scoped>\n",
       "    .dataframe tbody tr th:only-of-type {\n",
       "        vertical-align: middle;\n",
       "    }\n",
       "\n",
       "    .dataframe tbody tr th {\n",
       "        vertical-align: top;\n",
       "    }\n",
       "\n",
       "    .dataframe thead th {\n",
       "        text-align: right;\n",
       "    }\n",
       "</style>\n",
       "<table border=\"1\" class=\"dataframe\">\n",
       "  <thead>\n",
       "    <tr style=\"text-align: right;\">\n",
       "      <th></th>\n",
       "      <th>SL</th>\n",
       "      <th>SW</th>\n",
       "      <th>PL</th>\n",
       "      <th>PW</th>\n",
       "      <th>Flowers</th>\n",
       "    </tr>\n",
       "  </thead>\n",
       "  <tbody>\n",
       "    <tr>\n",
       "      <th>135</th>\n",
       "      <td>7.7</td>\n",
       "      <td>3.0</td>\n",
       "      <td>6.1</td>\n",
       "      <td>2.3</td>\n",
       "      <td>Iris-virginica</td>\n",
       "    </tr>\n",
       "    <tr>\n",
       "      <th>136</th>\n",
       "      <td>6.3</td>\n",
       "      <td>3.4</td>\n",
       "      <td>5.6</td>\n",
       "      <td>2.4</td>\n",
       "      <td>Iris-virginica</td>\n",
       "    </tr>\n",
       "    <tr>\n",
       "      <th>137</th>\n",
       "      <td>6.4</td>\n",
       "      <td>3.1</td>\n",
       "      <td>5.5</td>\n",
       "      <td>1.8</td>\n",
       "      <td>Iris-virginica</td>\n",
       "    </tr>\n",
       "    <tr>\n",
       "      <th>138</th>\n",
       "      <td>6.0</td>\n",
       "      <td>3.0</td>\n",
       "      <td>4.8</td>\n",
       "      <td>1.8</td>\n",
       "      <td>Iris-virginica</td>\n",
       "    </tr>\n",
       "    <tr>\n",
       "      <th>139</th>\n",
       "      <td>6.9</td>\n",
       "      <td>3.1</td>\n",
       "      <td>5.4</td>\n",
       "      <td>2.1</td>\n",
       "      <td>Iris-virginica</td>\n",
       "    </tr>\n",
       "  </tbody>\n",
       "</table>\n",
       "</div>"
      ],
      "text/plain": [
       "      SL   SW   PL   PW         Flowers\n",
       "135  7.7  3.0  6.1  2.3  Iris-virginica\n",
       "136  6.3  3.4  5.6  2.4  Iris-virginica\n",
       "137  6.4  3.1  5.5  1.8  Iris-virginica\n",
       "138  6.0  3.0  4.8  1.8  Iris-virginica\n",
       "139  6.9  3.1  5.4  2.1  Iris-virginica"
      ]
     },
     "execution_count": 24,
     "metadata": {},
     "output_type": "execute_result"
    }
   ],
   "source": [
    "df[135:140]"
   ]
  },
  {
   "cell_type": "code",
   "execution_count": 25,
   "id": "b177403b",
   "metadata": {
    "execution": {
     "iopub.execute_input": "2024-05-30T16:06:21.111976Z",
     "iopub.status.busy": "2024-05-30T16:06:21.111603Z",
     "iopub.status.idle": "2024-05-30T16:06:21.123737Z",
     "shell.execute_reply": "2024-05-30T16:06:21.122672Z"
    },
    "papermill": {
     "duration": 0.033753,
     "end_time": "2024-05-30T16:06:21.126114",
     "exception": false,
     "start_time": "2024-05-30T16:06:21.092361",
     "status": "completed"
    },
    "tags": []
   },
   "outputs": [
    {
     "data": {
      "text/html": [
       "<div>\n",
       "<style scoped>\n",
       "    .dataframe tbody tr th:only-of-type {\n",
       "        vertical-align: middle;\n",
       "    }\n",
       "\n",
       "    .dataframe tbody tr th {\n",
       "        vertical-align: top;\n",
       "    }\n",
       "\n",
       "    .dataframe thead th {\n",
       "        text-align: right;\n",
       "    }\n",
       "</style>\n",
       "<table border=\"1\" class=\"dataframe\">\n",
       "  <thead>\n",
       "    <tr style=\"text-align: right;\">\n",
       "      <th></th>\n",
       "      <th>SW</th>\n",
       "      <th>PL</th>\n",
       "      <th>PW</th>\n",
       "    </tr>\n",
       "  </thead>\n",
       "  <tbody>\n",
       "    <tr>\n",
       "      <th>135</th>\n",
       "      <td>3.0</td>\n",
       "      <td>6.1</td>\n",
       "      <td>2.3</td>\n",
       "    </tr>\n",
       "    <tr>\n",
       "      <th>136</th>\n",
       "      <td>3.4</td>\n",
       "      <td>5.6</td>\n",
       "      <td>2.4</td>\n",
       "    </tr>\n",
       "    <tr>\n",
       "      <th>137</th>\n",
       "      <td>3.1</td>\n",
       "      <td>5.5</td>\n",
       "      <td>1.8</td>\n",
       "    </tr>\n",
       "    <tr>\n",
       "      <th>138</th>\n",
       "      <td>3.0</td>\n",
       "      <td>4.8</td>\n",
       "      <td>1.8</td>\n",
       "    </tr>\n",
       "    <tr>\n",
       "      <th>139</th>\n",
       "      <td>3.1</td>\n",
       "      <td>5.4</td>\n",
       "      <td>2.1</td>\n",
       "    </tr>\n",
       "  </tbody>\n",
       "</table>\n",
       "</div>"
      ],
      "text/plain": [
       "      SW   PL   PW\n",
       "135  3.0  6.1  2.3\n",
       "136  3.4  5.6  2.4\n",
       "137  3.1  5.5  1.8\n",
       "138  3.0  4.8  1.8\n",
       "139  3.1  5.4  2.1"
      ]
     },
     "execution_count": 25,
     "metadata": {},
     "output_type": "execute_result"
    }
   ],
   "source": [
    "# df.iocl[135:140][[\"SL\",\"PL\", PW\"]]\n",
    "df.iloc[135:140 , 1:4]"
   ]
  },
  {
   "cell_type": "code",
   "execution_count": 26,
   "id": "41615d21",
   "metadata": {
    "execution": {
     "iopub.execute_input": "2024-05-30T16:06:21.163680Z",
     "iopub.status.busy": "2024-05-30T16:06:21.163313Z",
     "iopub.status.idle": "2024-05-30T16:06:21.169898Z",
     "shell.execute_reply": "2024-05-30T16:06:21.168825Z"
    },
    "papermill": {
     "duration": 0.028243,
     "end_time": "2024-05-30T16:06:21.172275",
     "exception": false,
     "start_time": "2024-05-30T16:06:21.144032",
     "status": "completed"
    },
    "tags": []
   },
   "outputs": [
    {
     "data": {
      "text/plain": [
       "array([[5.4, 3.4, 1.7, 0.2, 'Iris-setosa'],\n",
       "       [5.1, 3.7, 1.5, 0.4, 'Iris-setosa'],\n",
       "       [4.6, 3.6, 1.0, 0.2, 'Iris-setosa'],\n",
       "       [5.1, 3.3, 1.7, 0.5, 'Iris-setosa'],\n",
       "       [4.8, 3.4, 1.9, 0.2, 'Iris-setosa']], dtype=object)"
      ]
     },
     "execution_count": 26,
     "metadata": {},
     "output_type": "execute_result"
    }
   ],
   "source": [
    "df.values[20:25]"
   ]
  },
  {
   "cell_type": "markdown",
   "id": "38623c30",
   "metadata": {
    "papermill": {
     "duration": 0.017814,
     "end_time": "2024-05-30T16:06:21.208815",
     "exception": false,
     "start_time": "2024-05-30T16:06:21.191001",
     "status": "completed"
    },
    "tags": []
   },
   "source": [
    "Task(s)\n",
    "1. Create a DataFrame from iris bunch data type dataset available with sci-kit learn"
   ]
  },
  {
   "cell_type": "code",
   "execution_count": 27,
   "id": "964b9068",
   "metadata": {
    "execution": {
     "iopub.execute_input": "2024-05-30T16:06:21.247016Z",
     "iopub.status.busy": "2024-05-30T16:06:21.246651Z",
     "iopub.status.idle": "2024-05-30T16:06:21.260039Z",
     "shell.execute_reply": "2024-05-30T16:06:21.259251Z"
    },
    "papermill": {
     "duration": 0.035209,
     "end_time": "2024-05-30T16:06:21.262206",
     "exception": false,
     "start_time": "2024-05-30T16:06:21.226997",
     "status": "completed"
    },
    "tags": []
   },
   "outputs": [],
   "source": [
    "import pandas as pd\n",
    "from sklearn.datasets import load_iris\n",
    "\n",
    "# Load the Iris dataset\n",
    "iris = load_iris()\n",
    "\n",
    "# Create a DataFrame\n",
    "iris_df = pd.DataFrame(data=iris.data, columns=iris.feature_names)\n",
    "\n",
    "# Add the target column\n",
    "iris_df['target'] = iris.target"
   ]
  },
  {
   "cell_type": "code",
   "execution_count": 28,
   "id": "cf8b7db9",
   "metadata": {
    "execution": {
     "iopub.execute_input": "2024-05-30T16:06:21.300765Z",
     "iopub.status.busy": "2024-05-30T16:06:21.300003Z",
     "iopub.status.idle": "2024-05-30T16:06:21.314352Z",
     "shell.execute_reply": "2024-05-30T16:06:21.313375Z"
    },
    "papermill": {
     "duration": 0.036161,
     "end_time": "2024-05-30T16:06:21.316720",
     "exception": false,
     "start_time": "2024-05-30T16:06:21.280559",
     "status": "completed"
    },
    "tags": []
   },
   "outputs": [
    {
     "data": {
      "text/html": [
       "<div>\n",
       "<style scoped>\n",
       "    .dataframe tbody tr th:only-of-type {\n",
       "        vertical-align: middle;\n",
       "    }\n",
       "\n",
       "    .dataframe tbody tr th {\n",
       "        vertical-align: top;\n",
       "    }\n",
       "\n",
       "    .dataframe thead th {\n",
       "        text-align: right;\n",
       "    }\n",
       "</style>\n",
       "<table border=\"1\" class=\"dataframe\">\n",
       "  <thead>\n",
       "    <tr style=\"text-align: right;\">\n",
       "      <th></th>\n",
       "      <th>sepal length (cm)</th>\n",
       "      <th>sepal width (cm)</th>\n",
       "      <th>petal length (cm)</th>\n",
       "      <th>petal width (cm)</th>\n",
       "      <th>target</th>\n",
       "    </tr>\n",
       "  </thead>\n",
       "  <tbody>\n",
       "    <tr>\n",
       "      <th>0</th>\n",
       "      <td>5.1</td>\n",
       "      <td>3.5</td>\n",
       "      <td>1.4</td>\n",
       "      <td>0.2</td>\n",
       "      <td>0</td>\n",
       "    </tr>\n",
       "    <tr>\n",
       "      <th>1</th>\n",
       "      <td>4.9</td>\n",
       "      <td>3.0</td>\n",
       "      <td>1.4</td>\n",
       "      <td>0.2</td>\n",
       "      <td>0</td>\n",
       "    </tr>\n",
       "    <tr>\n",
       "      <th>2</th>\n",
       "      <td>4.7</td>\n",
       "      <td>3.2</td>\n",
       "      <td>1.3</td>\n",
       "      <td>0.2</td>\n",
       "      <td>0</td>\n",
       "    </tr>\n",
       "    <tr>\n",
       "      <th>3</th>\n",
       "      <td>4.6</td>\n",
       "      <td>3.1</td>\n",
       "      <td>1.5</td>\n",
       "      <td>0.2</td>\n",
       "      <td>0</td>\n",
       "    </tr>\n",
       "    <tr>\n",
       "      <th>4</th>\n",
       "      <td>5.0</td>\n",
       "      <td>3.6</td>\n",
       "      <td>1.4</td>\n",
       "      <td>0.2</td>\n",
       "      <td>0</td>\n",
       "    </tr>\n",
       "  </tbody>\n",
       "</table>\n",
       "</div>"
      ],
      "text/plain": [
       "   sepal length (cm)  sepal width (cm)  petal length (cm)  petal width (cm)  \\\n",
       "0                5.1               3.5                1.4               0.2   \n",
       "1                4.9               3.0                1.4               0.2   \n",
       "2                4.7               3.2                1.3               0.2   \n",
       "3                4.6               3.1                1.5               0.2   \n",
       "4                5.0               3.6                1.4               0.2   \n",
       "\n",
       "   target  \n",
       "0       0  \n",
       "1       0  \n",
       "2       0  \n",
       "3       0  \n",
       "4       0  "
      ]
     },
     "execution_count": 28,
     "metadata": {},
     "output_type": "execute_result"
    }
   ],
   "source": [
    "iris_df.head(5)"
   ]
  },
  {
   "cell_type": "markdown",
   "id": "02570f38",
   "metadata": {
    "papermill": {
     "duration": 0.018271,
     "end_time": "2024-05-30T16:06:21.353665",
     "exception": false,
     "start_time": "2024-05-30T16:06:21.335394",
     "status": "completed"
    },
    "tags": []
   },
   "source": [
    "# Visualizations"
   ]
  },
  {
   "cell_type": "markdown",
   "id": "28a6b35d",
   "metadata": {
    "papermill": {
     "duration": 0.01805,
     "end_time": "2024-05-30T16:06:21.390089",
     "exception": false,
     "start_time": "2024-05-30T16:06:21.372039",
     "status": "completed"
    },
    "tags": []
   },
   "source": [
    "1.Pair Plot:"
   ]
  },
  {
   "cell_type": "code",
   "execution_count": 29,
   "id": "55ef394c",
   "metadata": {
    "execution": {
     "iopub.execute_input": "2024-05-30T16:06:21.428983Z",
     "iopub.status.busy": "2024-05-30T16:06:21.428617Z",
     "iopub.status.idle": "2024-05-30T16:06:27.978020Z",
     "shell.execute_reply": "2024-05-30T16:06:27.977240Z"
    },
    "papermill": {
     "duration": 6.574297,
     "end_time": "2024-05-30T16:06:27.982858",
     "exception": false,
     "start_time": "2024-05-30T16:06:21.408561",
     "status": "completed"
    },
    "tags": []
   },
   "outputs": [
    {
     "name": "stderr",
     "output_type": "stream",
     "text": [
      "/opt/conda/lib/python3.10/site-packages/seaborn/_oldcore.py:1119: FutureWarning: use_inf_as_na option is deprecated and will be removed in a future version. Convert inf values to NaN before operating instead.\n",
      "  with pd.option_context('mode.use_inf_as_na', True):\n",
      "/opt/conda/lib/python3.10/site-packages/seaborn/_oldcore.py:1075: FutureWarning: When grouping with a length-1 list-like, you will need to pass a length-1 tuple to get_group in a future version of pandas. Pass `(name,)` instead of `name` to silence this warning.\n",
      "  data_subset = grouped_data.get_group(pd_key)\n",
      "/opt/conda/lib/python3.10/site-packages/seaborn/_oldcore.py:1119: FutureWarning: use_inf_as_na option is deprecated and will be removed in a future version. Convert inf values to NaN before operating instead.\n",
      "  with pd.option_context('mode.use_inf_as_na', True):\n",
      "/opt/conda/lib/python3.10/site-packages/seaborn/_oldcore.py:1075: FutureWarning: When grouping with a length-1 list-like, you will need to pass a length-1 tuple to get_group in a future version of pandas. Pass `(name,)` instead of `name` to silence this warning.\n",
      "  data_subset = grouped_data.get_group(pd_key)\n",
      "/opt/conda/lib/python3.10/site-packages/seaborn/_oldcore.py:1119: FutureWarning: use_inf_as_na option is deprecated and will be removed in a future version. Convert inf values to NaN before operating instead.\n",
      "  with pd.option_context('mode.use_inf_as_na', True):\n",
      "/opt/conda/lib/python3.10/site-packages/seaborn/_oldcore.py:1075: FutureWarning: When grouping with a length-1 list-like, you will need to pass a length-1 tuple to get_group in a future version of pandas. Pass `(name,)` instead of `name` to silence this warning.\n",
      "  data_subset = grouped_data.get_group(pd_key)\n",
      "/opt/conda/lib/python3.10/site-packages/seaborn/_oldcore.py:1119: FutureWarning: use_inf_as_na option is deprecated and will be removed in a future version. Convert inf values to NaN before operating instead.\n",
      "  with pd.option_context('mode.use_inf_as_na', True):\n",
      "/opt/conda/lib/python3.10/site-packages/seaborn/_oldcore.py:1075: FutureWarning: When grouping with a length-1 list-like, you will need to pass a length-1 tuple to get_group in a future version of pandas. Pass `(name,)` instead of `name` to silence this warning.\n",
      "  data_subset = grouped_data.get_group(pd_key)\n"
     ]
    },
    {
     "data": {
      "image/png": "[encoded data removed]",
      "text/plain": [
       "<Figure size 1058.88x1000 with 20 Axes>"
      ]
     },
     "metadata": {},
     "output_type": "display_data"
    }
   ],
   "source": [
    "# Pair Plot\n",
    "sns.pairplot(iris_df, hue='target', markers=[\"o\", \"s\", \"D\"])\n",
    "plt.show()"
   ]
  },
  {
   "cell_type": "markdown",
   "id": "0a8e882d",
   "metadata": {
    "papermill": {
     "duration": 0.021904,
     "end_time": "2024-05-30T16:06:28.027282",
     "exception": false,
     "start_time": "2024-05-30T16:06:28.005378",
     "status": "completed"
    },
    "tags": []
   },
   "source": [
    "2. Correlation Matrix and Heatmap:"
   ]
  },
  {
   "cell_type": "code",
   "execution_count": 30,
   "id": "2abf55bb",
   "metadata": {
    "execution": {
     "iopub.execute_input": "2024-05-30T16:06:28.073419Z",
     "iopub.status.busy": "2024-05-30T16:06:28.072778Z",
     "iopub.status.idle": "2024-05-30T16:06:28.458573Z",
     "shell.execute_reply": "2024-05-30T16:06:28.457763Z"
    },
    "papermill": {
     "duration": 0.41144,
     "end_time": "2024-05-30T16:06:28.460897",
     "exception": false,
     "start_time": "2024-05-30T16:06:28.049457",
     "status": "completed"
    },
    "tags": []
   },
   "outputs": [
    {
     "data": {
      "image/png": "[encoded data removed]",
      "text/plain": [
       "<Figure size 640x480 with 2 Axes>"
      ]
     },
     "metadata": {},
     "output_type": "display_data"
    }
   ],
   "source": [
    "# Correlation Matrix\n",
    "corr_matrix = iris_df.corr()\n",
    "sns.heatmap(corr_matrix, annot=True, cmap='coolwarm')\n",
    "plt.show()"
   ]
  },
  {
   "cell_type": "markdown",
   "id": "1295cdfd",
   "metadata": {
    "papermill": {
     "duration": 0.02256,
     "end_time": "2024-05-30T16:06:28.507092",
     "exception": false,
     "start_time": "2024-05-30T16:06:28.484532",
     "status": "completed"
    },
    "tags": []
   },
   "source": [
    "# PCA ( Principal Component Analysis) for Dimensionality Reduction"
   ]
  },
  {
   "cell_type": "code",
   "execution_count": 31,
   "id": "0df7d664",
   "metadata": {
    "execution": {
     "iopub.execute_input": "2024-05-30T16:06:28.554601Z",
     "iopub.status.busy": "2024-05-30T16:06:28.553890Z",
     "iopub.status.idle": "2024-05-30T16:06:28.568969Z",
     "shell.execute_reply": "2024-05-30T16:06:28.568203Z"
    },
    "papermill": {
     "duration": 0.041441,
     "end_time": "2024-05-30T16:06:28.571306",
     "exception": false,
     "start_time": "2024-05-30T16:06:28.529865",
     "status": "completed"
    },
    "tags": []
   },
   "outputs": [],
   "source": [
    "# PCA for Dimensionality Reduction\n",
    "pca = PCA(n_components=2)\n",
    "pca_result = pca.fit_transform(iris.data)\n",
    "pca_df = pd.DataFrame(data=pca_result, columns=['PC1', 'PC2'])\n",
    "pca_df['target'] = iris.target"
   ]
  },
  {
   "cell_type": "code",
   "execution_count": 32,
   "id": "81ebcc7f",
   "metadata": {
    "execution": {
     "iopub.execute_input": "2024-05-30T16:06:28.618626Z",
     "iopub.status.busy": "2024-05-30T16:06:28.617900Z",
     "iopub.status.idle": "2024-05-30T16:06:28.971912Z",
     "shell.execute_reply": "2024-05-30T16:06:28.971075Z"
    },
    "papermill": {
     "duration": 0.380263,
     "end_time": "2024-05-30T16:06:28.974522",
     "exception": false,
     "start_time": "2024-05-30T16:06:28.594259",
     "status": "completed"
    },
    "tags": []
   },
   "outputs": [
    {
     "data": {
      "image/png": "[encoded data removed]",
      "text/plain": [
       "<Figure size 640x480 with 1 Axes>"
      ]
     },
     "metadata": {},
     "output_type": "display_data"
    }
   ],
   "source": [
    "# Scatter Plot of PCA Result\n",
    "sns.scatterplot(x='PC1', y='PC2', hue='target', data=pca_df, palette='Set1')\n",
    "plt.show()"
   ]
  },
  {
   "cell_type": "markdown",
   "id": "782381e1",
   "metadata": {
    "papermill": {
     "duration": 0.024079,
     "end_time": "2024-05-30T16:06:29.023430",
     "exception": false,
     "start_time": "2024-05-30T16:06:28.999351",
     "status": "completed"
    },
    "tags": []
   },
   "source": [
    "# Train-Test Split"
   ]
  },
  {
   "cell_type": "code",
   "execution_count": 33,
   "id": "bc44dbad",
   "metadata": {
    "execution": {
     "iopub.execute_input": "2024-05-30T16:06:29.073093Z",
     "iopub.status.busy": "2024-05-30T16:06:29.072065Z",
     "iopub.status.idle": "2024-05-30T16:06:29.078475Z",
     "shell.execute_reply": "2024-05-30T16:06:29.077423Z"
    },
    "papermill": {
     "duration": 0.033618,
     "end_time": "2024-05-30T16:06:29.080661",
     "exception": false,
     "start_time": "2024-05-30T16:06:29.047043",
     "status": "completed"
    },
    "tags": []
   },
   "outputs": [],
   "source": [
    "# Train-Test Split\n",
    "X_train, X_test, y_train, y_test = train_test_split(iris.data, iris.target, test_size=0.3, random_state=42)\n"
   ]
  },
  {
   "cell_type": "markdown",
   "id": "9b767a8b",
   "metadata": {
    "papermill": {
     "duration": 0.023588,
     "end_time": "2024-05-30T16:06:29.128062",
     "exception": false,
     "start_time": "2024-05-30T16:06:29.104474",
     "status": "completed"
    },
    "tags": []
   },
   "source": [
    "# Train SVM (Support Vector Machine) Model and Evaluate"
   ]
  },
  {
   "cell_type": "code",
   "execution_count": 34,
   "id": "4d555205",
   "metadata": {
    "execution": {
     "iopub.execute_input": "2024-05-30T16:06:29.176486Z",
     "iopub.status.busy": "2024-05-30T16:06:29.176084Z",
     "iopub.status.idle": "2024-05-30T16:06:29.194617Z",
     "shell.execute_reply": "2024-05-30T16:06:29.193333Z"
    },
    "papermill": {
     "duration": 0.045444,
     "end_time": "2024-05-30T16:06:29.196829",
     "exception": false,
     "start_time": "2024-05-30T16:06:29.151385",
     "status": "completed"
    },
    "tags": []
   },
   "outputs": [
    {
     "name": "stdout",
     "output_type": "stream",
     "text": [
      "[[19  0  0]\n",
      " [ 0 13  0]\n",
      " [ 0  0 13]]\n",
      "              precision    recall  f1-score   support\n",
      "\n",
      "           0       1.00      1.00      1.00        19\n",
      "           1       1.00      1.00      1.00        13\n",
      "           2       1.00      1.00      1.00        13\n",
      "\n",
      "    accuracy                           1.00        45\n",
      "   macro avg       1.00      1.00      1.00        45\n",
      "weighted avg       1.00      1.00      1.00        45\n",
      "\n"
     ]
    }
   ],
   "source": [
    "# Train SVM Model\n",
    "svm_model = SVC(kernel='linear')\n",
    "svm_model.fit(X_train, y_train)\n",
    "\n",
    "# Predictions\n",
    "y_pred = svm_model.predict(X_test)\n",
    "\n",
    "# Confusion Matrix and Classification Report\n",
    "print(confusion_matrix(y_test, y_pred))\n",
    "print(classification_report(y_test, y_pred))\n"
   ]
  },
  {
   "cell_type": "code",
   "execution_count": null,
   "id": "ceefa95a",
   "metadata": {
    "papermill": {
     "duration": 0.023801,
     "end_time": "2024-05-30T16:06:29.244495",
     "exception": false,
     "start_time": "2024-05-30T16:06:29.220694",
     "status": "completed"
    },
    "tags": []
   },
   "outputs": [],
   "source": []
  }
 ],
 "metadata": {
  "kaggle": {
   "accelerator": "none",
   "dataSources": [
    {
     "datasetId": 17860,
     "sourceId": 23404,
     "sourceType": "datasetVersion"
    }
   ],
   "dockerImageVersionId": 30698,
   "isGpuEnabled": false,
   "isInternetEnabled": true,
   "language": "python",
   "sourceType": "notebook"
  },
  "kernelspec": {
   "display_name": "Python 3",
   "language": "python",
   "name": "python3"
  },
  "language_info": {
   "codemirror_mode": {
    "name": "ipython",
    "version": 3
   },
   "file_extension": ".py",
   "mimetype": "text/x-python",
   "name": "python",
   "nbconvert_exporter": "python",
   "pygments_lexer": "ipython3",
   "version": "3.10.13"
  },
  "papermill": {
   "default_parameters": {},
   "duration": 15.891792,
   "end_time": "2024-05-30T16:06:29.989641",
   "environment_variables": {},
   "exception": null,
   "input_path": "__notebook__.ipynb",
   "output_path": "__notebook__.ipynb",
   "parameters": {},
   "start_time": "2024-05-30T16:06:14.097849",
   "version": "2.5.0"
  }
 },
 "nbformat": 4,
 "nbformat_minor": 5
}
