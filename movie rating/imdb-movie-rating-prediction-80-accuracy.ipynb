{
 "cells": [
  {
   "cell_type": "markdown",
   "id": "6ff98a46",
   "metadata": {
    "papermill": {
     "duration": 0.014973,
     "end_time": "2024-05-07T09:05:57.675901",
     "exception": false,
     "start_time": "2024-05-07T09:05:57.660928",
     "status": "completed"
    },
    "tags": []
   },
   "source": [
    "## Prediction ON IMDB MOVIE RATING - Sindhura Nadendla"
   ]
  },
  {
   "cell_type": "markdown",
   "id": "904fe319",
   "metadata": {
    "papermill": {
     "duration": 0.012873,
     "end_time": "2024-05-07T09:05:57.702064",
     "exception": false,
     "start_time": "2024-05-07T09:05:57.689191",
     "status": "completed"
    },
    "tags": []
   },
   "source": [
    "## Load the dataset "
   ]
  },
  {
   "cell_type": "code",
   "execution_count": 1,
   "id": "de4d906b",
   "metadata": {
    "execution": {
     "iopub.execute_input": "2024-05-07T09:05:57.732601Z",
     "iopub.status.busy": "2024-05-07T09:05:57.731859Z",
     "iopub.status.idle": "2024-05-07T09:05:57.742580Z",
     "shell.execute_reply": "2024-05-07T09:05:57.741563Z"
    },
    "papermill": {
     "duration": 0.03065,
     "end_time": "2024-05-07T09:05:57.745999",
     "exception": false,
     "start_time": "2024-05-07T09:05:57.715349",
     "status": "completed"
    },
    "tags": []
   },
   "outputs": [],
   "source": [
    "from warnings import filterwarnings\n",
    "filterwarnings('ignore')"
   ]
  },
  {
   "cell_type": "code",
   "execution_count": 2,
   "id": "af8e8246",
   "metadata": {
    "execution": {
     "iopub.execute_input": "2024-05-07T09:05:57.776799Z",
     "iopub.status.busy": "2024-05-07T09:05:57.776013Z",
     "iopub.status.idle": "2024-05-07T09:05:58.821347Z",
     "shell.execute_reply": "2024-05-07T09:05:58.820199Z"
    },
    "papermill": {
     "duration": 1.06267,
     "end_time": "2024-05-07T09:05:58.823824",
     "exception": false,
     "start_time": "2024-05-07T09:05:57.761154",
     "status": "completed"
    },
    "tags": []
   },
   "outputs": [
    {
     "data": {
      "text/html": [
       "<div>\n",
       "<style scoped>\n",
       "    .dataframe tbody tr th:only-of-type {\n",
       "        vertical-align: middle;\n",
       "    }\n",
       "\n",
       "    .dataframe tbody tr th {\n",
       "        vertical-align: top;\n",
       "    }\n",
       "\n",
       "    .dataframe thead th {\n",
       "        text-align: right;\n",
       "    }\n",
       "</style>\n",
       "<table border=\"1\" class=\"dataframe\">\n",
       "  <thead>\n",
       "    <tr style=\"text-align: right;\">\n",
       "      <th></th>\n",
       "      <th>Name</th>\n",
       "      <th>Year</th>\n",
       "      <th>Duration</th>\n",
       "      <th>Genre</th>\n",
       "      <th>Rating</th>\n",
       "      <th>Votes</th>\n",
       "      <th>Director</th>\n",
       "      <th>Actor 1</th>\n",
       "      <th>Actor 2</th>\n",
       "      <th>Actor 3</th>\n",
       "    </tr>\n",
       "  </thead>\n",
       "  <tbody>\n",
       "    <tr>\n",
       "      <th>0</th>\n",
       "      <td>NaN</td>\n",
       "      <td>NaN</td>\n",
       "      <td>NaN</td>\n",
       "      <td>Drama</td>\n",
       "      <td>NaN</td>\n",
       "      <td>NaN</td>\n",
       "      <td>J.S. Randhawa</td>\n",
       "      <td>Manmauji</td>\n",
       "      <td>Birbal</td>\n",
       "      <td>Rajendra Bhatia</td>\n",
       "    </tr>\n",
       "    <tr>\n",
       "      <th>1</th>\n",
       "      <td>#Gadhvi (He thought he was Gandhi)</td>\n",
       "      <td>(2019)</td>\n",
       "      <td>109 min</td>\n",
       "      <td>Drama</td>\n",
       "      <td>7.0</td>\n",
       "      <td>8</td>\n",
       "      <td>Gaurav Bakshi</td>\n",
       "      <td>Rasika Dugal</td>\n",
       "      <td>Vivek Ghamande</td>\n",
       "      <td>Arvind Jangid</td>\n",
       "    </tr>\n",
       "    <tr>\n",
       "      <th>2</th>\n",
       "      <td>#Homecoming</td>\n",
       "      <td>(2021)</td>\n",
       "      <td>90 min</td>\n",
       "      <td>Drama, Musical</td>\n",
       "      <td>NaN</td>\n",
       "      <td>NaN</td>\n",
       "      <td>Soumyajit Majumdar</td>\n",
       "      <td>Sayani Gupta</td>\n",
       "      <td>Plabita Borthakur</td>\n",
       "      <td>Roy Angana</td>\n",
       "    </tr>\n",
       "    <tr>\n",
       "      <th>3</th>\n",
       "      <td>#Yaaram</td>\n",
       "      <td>(2019)</td>\n",
       "      <td>110 min</td>\n",
       "      <td>Comedy, Romance</td>\n",
       "      <td>4.4</td>\n",
       "      <td>35</td>\n",
       "      <td>Ovais Khan</td>\n",
       "      <td>Prateik</td>\n",
       "      <td>Ishita Raj</td>\n",
       "      <td>Siddhant Kapoor</td>\n",
       "    </tr>\n",
       "    <tr>\n",
       "      <th>4</th>\n",
       "      <td>...And Once Again</td>\n",
       "      <td>(2010)</td>\n",
       "      <td>105 min</td>\n",
       "      <td>Drama</td>\n",
       "      <td>NaN</td>\n",
       "      <td>NaN</td>\n",
       "      <td>Amol Palekar</td>\n",
       "      <td>Rajat Kapoor</td>\n",
       "      <td>Rituparna Sengupta</td>\n",
       "      <td>Antara Mali</td>\n",
       "    </tr>\n",
       "  </tbody>\n",
       "</table>\n",
       "</div>"
      ],
      "text/plain": [
       "                                 Name    Year Duration            Genre  \\\n",
       "0                                 NaN     NaN      NaN            Drama   \n",
       "1  #Gadhvi (He thought he was Gandhi)  (2019)  109 min            Drama   \n",
       "2                         #Homecoming  (2021)   90 min   Drama, Musical   \n",
       "3                             #Yaaram  (2019)  110 min  Comedy, Romance   \n",
       "4                   ...And Once Again  (2010)  105 min            Drama   \n",
       "\n",
       "   Rating Votes            Director       Actor 1             Actor 2  \\\n",
       "0     NaN   NaN       J.S. Randhawa      Manmauji              Birbal   \n",
       "1     7.0     8       Gaurav Bakshi  Rasika Dugal      Vivek Ghamande   \n",
       "2     NaN   NaN  Soumyajit Majumdar  Sayani Gupta   Plabita Borthakur   \n",
       "3     4.4    35          Ovais Khan       Prateik          Ishita Raj   \n",
       "4     NaN   NaN        Amol Palekar  Rajat Kapoor  Rituparna Sengupta   \n",
       "\n",
       "           Actor 3  \n",
       "0  Rajendra Bhatia  \n",
       "1    Arvind Jangid  \n",
       "2       Roy Angana  \n",
       "3  Siddhant Kapoor  \n",
       "4      Antara Mali  "
      ]
     },
     "execution_count": 2,
     "metadata": {},
     "output_type": "execute_result"
    }
   ],
   "source": [
    "import pandas as pd\n",
    "df = pd.read_csv('/kaggle/input/imdb-india-movies/IMDb Movies India.csv',na_values=(' '),encoding='latin-1')\n",
    "df.head()"
   ]
  },
  {
   "cell_type": "code",
   "execution_count": 3,
   "id": "b1d56a6c",
   "metadata": {
    "execution": {
     "iopub.execute_input": "2024-05-07T09:05:58.854176Z",
     "iopub.status.busy": "2024-05-07T09:05:58.853056Z",
     "iopub.status.idle": "2024-05-07T09:05:58.860635Z",
     "shell.execute_reply": "2024-05-07T09:05:58.859475Z"
    },
    "papermill": {
     "duration": 0.025019,
     "end_time": "2024-05-07T09:05:58.862896",
     "exception": false,
     "start_time": "2024-05-07T09:05:58.837877",
     "status": "completed"
    },
    "tags": []
   },
   "outputs": [
    {
     "data": {
      "text/plain": [
       "(15509, 10)"
      ]
     },
     "execution_count": 3,
     "metadata": {},
     "output_type": "execute_result"
    }
   ],
   "source": [
    "df.shape"
   ]
  },
  {
   "cell_type": "code",
   "execution_count": 4,
   "id": "a598c5fc",
   "metadata": {
    "execution": {
     "iopub.execute_input": "2024-05-07T09:05:58.893266Z",
     "iopub.status.busy": "2024-05-07T09:05:58.892895Z",
     "iopub.status.idle": "2024-05-07T09:05:58.899587Z",
     "shell.execute_reply": "2024-05-07T09:05:58.898480Z"
    },
    "papermill": {
     "duration": 0.025212,
     "end_time": "2024-05-07T09:05:58.902259",
     "exception": false,
     "start_time": "2024-05-07T09:05:58.877047",
     "status": "completed"
    },
    "tags": []
   },
   "outputs": [
    {
     "data": {
      "text/plain": [
       "Index(['Name', 'Year', 'Duration', 'Genre', 'Rating', 'Votes', 'Director',\n",
       "       'Actor 1', 'Actor 2', 'Actor 3'],\n",
       "      dtype='object')"
      ]
     },
     "execution_count": 4,
     "metadata": {},
     "output_type": "execute_result"
    }
   ],
   "source": [
    "df.columns"
   ]
  },
  {
   "cell_type": "markdown",
   "id": "876e944f",
   "metadata": {
    "papermill": {
     "duration": 0.013717,
     "end_time": "2024-05-07T09:05:58.930768",
     "exception": false,
     "start_time": "2024-05-07T09:05:58.917051",
     "status": "completed"
    },
    "tags": []
   },
   "source": [
    "## Perform basic data quality checks"
   ]
  },
  {
   "cell_type": "code",
   "execution_count": 5,
   "id": "fb02ba29",
   "metadata": {
    "execution": {
     "iopub.execute_input": "2024-05-07T09:05:58.960739Z",
     "iopub.status.busy": "2024-05-07T09:05:58.959972Z",
     "iopub.status.idle": "2024-05-07T09:05:58.995818Z",
     "shell.execute_reply": "2024-05-07T09:05:58.994693Z"
    },
    "papermill": {
     "duration": 0.053381,
     "end_time": "2024-05-07T09:05:58.998156",
     "exception": false,
     "start_time": "2024-05-07T09:05:58.944775",
     "status": "completed"
    },
    "tags": []
   },
   "outputs": [
    {
     "name": "stdout",
     "output_type": "stream",
     "text": [
      "<class 'pandas.core.frame.DataFrame'>\n",
      "RangeIndex: 15509 entries, 0 to 15508\n",
      "Data columns (total 10 columns):\n",
      " #   Column    Non-Null Count  Dtype  \n",
      "---  ------    --------------  -----  \n",
      " 0   Name      15508 non-null  object \n",
      " 1   Year      14981 non-null  object \n",
      " 2   Duration  7240 non-null   object \n",
      " 3   Genre     13632 non-null  object \n",
      " 4   Rating    7919 non-null   float64\n",
      " 5   Votes     7920 non-null   object \n",
      " 6   Director  14984 non-null  object \n",
      " 7   Actor 1   13892 non-null  object \n",
      " 8   Actor 2   13125 non-null  object \n",
      " 9   Actor 3   12365 non-null  object \n",
      "dtypes: float64(1), object(9)\n",
      "memory usage: 1.2+ MB\n"
     ]
    }
   ],
   "source": [
    "df.info()"
   ]
  },
  {
   "cell_type": "code",
   "execution_count": 6,
   "id": "6da44457",
   "metadata": {
    "execution": {
     "iopub.execute_input": "2024-05-07T09:05:59.028421Z",
     "iopub.status.busy": "2024-05-07T09:05:59.027646Z",
     "iopub.status.idle": "2024-05-07T09:05:59.043213Z",
     "shell.execute_reply": "2024-05-07T09:05:59.042066Z"
    },
    "papermill": {
     "duration": 0.033682,
     "end_time": "2024-05-07T09:05:59.045944",
     "exception": false,
     "start_time": "2024-05-07T09:05:59.012262",
     "status": "completed"
    },
    "tags": []
   },
   "outputs": [
    {
     "data": {
      "text/plain": [
       "Name           1\n",
       "Year         528\n",
       "Duration    8269\n",
       "Genre       1877\n",
       "Rating      7590\n",
       "Votes       7589\n",
       "Director     525\n",
       "Actor 1     1617\n",
       "Actor 2     2384\n",
       "Actor 3     3144\n",
       "dtype: int64"
      ]
     },
     "execution_count": 6,
     "metadata": {},
     "output_type": "execute_result"
    }
   ],
   "source": [
    "df.isna().sum()"
   ]
  },
  {
   "cell_type": "code",
   "execution_count": 7,
   "id": "1ec0aba9",
   "metadata": {
    "execution": {
     "iopub.execute_input": "2024-05-07T09:05:59.076594Z",
     "iopub.status.busy": "2024-05-07T09:05:59.076107Z",
     "iopub.status.idle": "2024-05-07T09:05:59.101557Z",
     "shell.execute_reply": "2024-05-07T09:05:59.100614Z"
    },
    "papermill": {
     "duration": 0.043703,
     "end_time": "2024-05-07T09:05:59.103889",
     "exception": false,
     "start_time": "2024-05-07T09:05:59.060186",
     "status": "completed"
    },
    "tags": []
   },
   "outputs": [
    {
     "data": {
      "text/plain": [
       "6"
      ]
     },
     "execution_count": 7,
     "metadata": {},
     "output_type": "execute_result"
    }
   ],
   "source": [
    "df.duplicated().sum()"
   ]
  },
  {
   "cell_type": "markdown",
   "id": "f8dd6394",
   "metadata": {
    "papermill": {
     "duration": 0.014172,
     "end_time": "2024-05-07T09:05:59.132617",
     "exception": false,
     "start_time": "2024-05-07T09:05:59.118445",
     "status": "completed"
    },
    "tags": []
   },
   "source": [
    "There are missing values and duplicated rows in the dataset."
   ]
  },
  {
   "cell_type": "code",
   "execution_count": 8,
   "id": "709f3206",
   "metadata": {
    "execution": {
     "iopub.execute_input": "2024-05-07T09:05:59.164331Z",
     "iopub.status.busy": "2024-05-07T09:05:59.163170Z",
     "iopub.status.idle": "2024-05-07T09:05:59.216217Z",
     "shell.execute_reply": "2024-05-07T09:05:59.214964Z"
    },
    "papermill": {
     "duration": 0.071052,
     "end_time": "2024-05-07T09:05:59.218770",
     "exception": false,
     "start_time": "2024-05-07T09:05:59.147718",
     "status": "completed"
    },
    "tags": []
   },
   "outputs": [
    {
     "data": {
      "text/plain": [
       "0"
      ]
     },
     "execution_count": 8,
     "metadata": {},
     "output_type": "execute_result"
    }
   ],
   "source": [
    "# drop the duplicated rows\n",
    "df.drop_duplicates(inplace=True)\n",
    "df.duplicated().sum()"
   ]
  },
  {
   "cell_type": "markdown",
   "id": "c0021fb0",
   "metadata": {
    "papermill": {
     "duration": 0.014317,
     "end_time": "2024-05-07T09:05:59.247736",
     "exception": false,
     "start_time": "2024-05-07T09:05:59.233419",
     "status": "completed"
    },
    "tags": []
   },
   "source": [
    "## Feature Engineering \n",
    "Steps performed under this section\n",
    "1. Dropping statistically insignificant columns\n",
    "\n",
    "    Movie name doesnt have much significance here. So lets drop that column\n",
    "    Movie Duration has many missing columns, so lets discard this feature\n",
    "2. Handling missing values\n",
    "\n",
    "    Rating, Votes has many missing values, almost half of the rows of dataset are missing. \n",
    "    Rating is our target feature, lets handle missing values.\n",
    "    As per IMDB structure, final rating is determined by aggregated value of votes. Lets handle missing Votes.\n",
    "3. Convert Year,Votes to int\n",
    "4. Encoding Categorical features using Target encoding-Mean encoding\n",
    "5. Separate X and Y features\n",
    "6. Split the dataset into training data and testing data\n",
    "-------------------------------------------------------------------------------------------------"
   ]
  },
  {
   "cell_type": "markdown",
   "id": "69778d29",
   "metadata": {
    "papermill": {
     "duration": 0.014108,
     "end_time": "2024-05-07T09:05:59.277195",
     "exception": false,
     "start_time": "2024-05-07T09:05:59.263087",
     "status": "completed"
    },
    "tags": []
   },
   "source": [
    "1. Dropping statistically insignificant columns"
   ]
  },
  {
   "cell_type": "code",
   "execution_count": 9,
   "id": "e9fd67bf",
   "metadata": {
    "execution": {
     "iopub.execute_input": "2024-05-07T09:05:59.307747Z",
     "iopub.status.busy": "2024-05-07T09:05:59.307376Z",
     "iopub.status.idle": "2024-05-07T09:05:59.326170Z",
     "shell.execute_reply": "2024-05-07T09:05:59.325105Z"
    },
    "papermill": {
     "duration": 0.03698,
     "end_time": "2024-05-07T09:05:59.328688",
     "exception": false,
     "start_time": "2024-05-07T09:05:59.291708",
     "status": "completed"
    },
    "tags": []
   },
   "outputs": [
    {
     "data": {
      "text/html": [
       "<div>\n",
       "<style scoped>\n",
       "    .dataframe tbody tr th:only-of-type {\n",
       "        vertical-align: middle;\n",
       "    }\n",
       "\n",
       "    .dataframe tbody tr th {\n",
       "        vertical-align: top;\n",
       "    }\n",
       "\n",
       "    .dataframe thead th {\n",
       "        text-align: right;\n",
       "    }\n",
       "</style>\n",
       "<table border=\"1\" class=\"dataframe\">\n",
       "  <thead>\n",
       "    <tr style=\"text-align: right;\">\n",
       "      <th></th>\n",
       "      <th>Year</th>\n",
       "      <th>Genre</th>\n",
       "      <th>Rating</th>\n",
       "      <th>Votes</th>\n",
       "      <th>Director</th>\n",
       "      <th>Actor 1</th>\n",
       "      <th>Actor 2</th>\n",
       "      <th>Actor 3</th>\n",
       "    </tr>\n",
       "  </thead>\n",
       "  <tbody>\n",
       "    <tr>\n",
       "      <th>0</th>\n",
       "      <td>NaN</td>\n",
       "      <td>Drama</td>\n",
       "      <td>NaN</td>\n",
       "      <td>NaN</td>\n",
       "      <td>J.S. Randhawa</td>\n",
       "      <td>Manmauji</td>\n",
       "      <td>Birbal</td>\n",
       "      <td>Rajendra Bhatia</td>\n",
       "    </tr>\n",
       "    <tr>\n",
       "      <th>1</th>\n",
       "      <td>(2019)</td>\n",
       "      <td>Drama</td>\n",
       "      <td>7.0</td>\n",
       "      <td>8</td>\n",
       "      <td>Gaurav Bakshi</td>\n",
       "      <td>Rasika Dugal</td>\n",
       "      <td>Vivek Ghamande</td>\n",
       "      <td>Arvind Jangid</td>\n",
       "    </tr>\n",
       "    <tr>\n",
       "      <th>2</th>\n",
       "      <td>(2021)</td>\n",
       "      <td>Drama, Musical</td>\n",
       "      <td>NaN</td>\n",
       "      <td>NaN</td>\n",
       "      <td>Soumyajit Majumdar</td>\n",
       "      <td>Sayani Gupta</td>\n",
       "      <td>Plabita Borthakur</td>\n",
       "      <td>Roy Angana</td>\n",
       "    </tr>\n",
       "    <tr>\n",
       "      <th>3</th>\n",
       "      <td>(2019)</td>\n",
       "      <td>Comedy, Romance</td>\n",
       "      <td>4.4</td>\n",
       "      <td>35</td>\n",
       "      <td>Ovais Khan</td>\n",
       "      <td>Prateik</td>\n",
       "      <td>Ishita Raj</td>\n",
       "      <td>Siddhant Kapoor</td>\n",
       "    </tr>\n",
       "    <tr>\n",
       "      <th>4</th>\n",
       "      <td>(2010)</td>\n",
       "      <td>Drama</td>\n",
       "      <td>NaN</td>\n",
       "      <td>NaN</td>\n",
       "      <td>Amol Palekar</td>\n",
       "      <td>Rajat Kapoor</td>\n",
       "      <td>Rituparna Sengupta</td>\n",
       "      <td>Antara Mali</td>\n",
       "    </tr>\n",
       "  </tbody>\n",
       "</table>\n",
       "</div>"
      ],
      "text/plain": [
       "     Year            Genre  Rating Votes            Director       Actor 1  \\\n",
       "0     NaN            Drama     NaN   NaN       J.S. Randhawa      Manmauji   \n",
       "1  (2019)            Drama     7.0     8       Gaurav Bakshi  Rasika Dugal   \n",
       "2  (2021)   Drama, Musical     NaN   NaN  Soumyajit Majumdar  Sayani Gupta   \n",
       "3  (2019)  Comedy, Romance     4.4    35          Ovais Khan       Prateik   \n",
       "4  (2010)            Drama     NaN   NaN        Amol Palekar  Rajat Kapoor   \n",
       "\n",
       "              Actor 2          Actor 3  \n",
       "0              Birbal  Rajendra Bhatia  \n",
       "1      Vivek Ghamande    Arvind Jangid  \n",
       "2   Plabita Borthakur       Roy Angana  \n",
       "3          Ishita Raj  Siddhant Kapoor  \n",
       "4  Rituparna Sengupta      Antara Mali  "
      ]
     },
     "execution_count": 9,
     "metadata": {},
     "output_type": "execute_result"
    }
   ],
   "source": [
    "df.drop(columns=['Name','Duration'],axis=1,inplace=True)\n",
    "df.head()"
   ]
  },
  {
   "cell_type": "code",
   "execution_count": 10,
   "id": "e3aec382",
   "metadata": {
    "execution": {
     "iopub.execute_input": "2024-05-07T09:05:59.360701Z",
     "iopub.status.busy": "2024-05-07T09:05:59.360328Z",
     "iopub.status.idle": "2024-05-07T09:05:59.367559Z",
     "shell.execute_reply": "2024-05-07T09:05:59.366405Z"
    },
    "papermill": {
     "duration": 0.025824,
     "end_time": "2024-05-07T09:05:59.369993",
     "exception": false,
     "start_time": "2024-05-07T09:05:59.344169",
     "status": "completed"
    },
    "tags": []
   },
   "outputs": [
    {
     "data": {
      "text/plain": [
       "(15503, 8)"
      ]
     },
     "execution_count": 10,
     "metadata": {},
     "output_type": "execute_result"
    }
   ],
   "source": [
    "df.shape"
   ]
  },
  {
   "cell_type": "markdown",
   "id": "46675151",
   "metadata": {
    "papermill": {
     "duration": 0.014492,
     "end_time": "2024-05-07T09:05:59.400052",
     "exception": false,
     "start_time": "2024-05-07T09:05:59.385560",
     "status": "completed"
    },
    "tags": []
   },
   "source": [
    "--------------------------------------------------------------------------------\n",
    "2. Handling missing values"
   ]
  },
  {
   "cell_type": "code",
   "execution_count": 11,
   "id": "607dac4b",
   "metadata": {
    "execution": {
     "iopub.execute_input": "2024-05-07T09:05:59.432059Z",
     "iopub.status.busy": "2024-05-07T09:05:59.431680Z",
     "iopub.status.idle": "2024-05-07T09:05:59.451669Z",
     "shell.execute_reply": "2024-05-07T09:05:59.450554Z"
    },
    "papermill": {
     "duration": 0.038712,
     "end_time": "2024-05-07T09:05:59.454190",
     "exception": false,
     "start_time": "2024-05-07T09:05:59.415478",
     "status": "completed"
    },
    "tags": []
   },
   "outputs": [],
   "source": [
    "## Drop duplicate rows\n",
    "df.drop_duplicates(inplace=True)"
   ]
  },
  {
   "cell_type": "code",
   "execution_count": 12,
   "id": "d85a179a",
   "metadata": {
    "execution": {
     "iopub.execute_input": "2024-05-07T09:05:59.486160Z",
     "iopub.status.busy": "2024-05-07T09:05:59.485769Z",
     "iopub.status.idle": "2024-05-07T09:05:59.505543Z",
     "shell.execute_reply": "2024-05-07T09:05:59.504436Z"
    },
    "papermill": {
     "duration": 0.038296,
     "end_time": "2024-05-07T09:05:59.507691",
     "exception": false,
     "start_time": "2024-05-07T09:05:59.469395",
     "status": "completed"
    },
    "tags": []
   },
   "outputs": [
    {
     "data": {
      "text/plain": [
       "0"
      ]
     },
     "execution_count": 12,
     "metadata": {},
     "output_type": "execute_result"
    }
   ],
   "source": [
    "df.duplicated().sum()"
   ]
  },
  {
   "cell_type": "code",
   "execution_count": 13,
   "id": "a5a88cc7",
   "metadata": {
    "execution": {
     "iopub.execute_input": "2024-05-07T09:05:59.540926Z",
     "iopub.status.busy": "2024-05-07T09:05:59.540550Z",
     "iopub.status.idle": "2024-05-07T09:05:59.558018Z",
     "shell.execute_reply": "2024-05-07T09:05:59.556741Z"
    },
    "papermill": {
     "duration": 0.038088,
     "end_time": "2024-05-07T09:05:59.560927",
     "exception": false,
     "start_time": "2024-05-07T09:05:59.522839",
     "status": "completed"
    },
    "tags": []
   },
   "outputs": [
    {
     "data": {
      "text/plain": [
       "Year         102\n",
       "Genre        485\n",
       "Rating        84\n",
       "Votes       2034\n",
       "Director    5938\n",
       "Actor 1     4718\n",
       "Actor 2     4891\n",
       "Actor 3     4820\n",
       "dtype: int64"
      ]
     },
     "execution_count": 13,
     "metadata": {},
     "output_type": "execute_result"
    }
   ],
   "source": [
    "df.nunique()"
   ]
  },
  {
   "cell_type": "code",
   "execution_count": 14,
   "id": "71e6734d",
   "metadata": {
    "execution": {
     "iopub.execute_input": "2024-05-07T09:05:59.596062Z",
     "iopub.status.busy": "2024-05-07T09:05:59.595656Z",
     "iopub.status.idle": "2024-05-07T09:05:59.601778Z",
     "shell.execute_reply": "2024-05-07T09:05:59.600569Z"
    },
    "papermill": {
     "duration": 0.02653,
     "end_time": "2024-05-07T09:05:59.603977",
     "exception": false,
     "start_time": "2024-05-07T09:05:59.577447",
     "status": "completed"
    },
    "tags": []
   },
   "outputs": [],
   "source": [
    "cat = list(df.columns[df.dtypes=='object'])"
   ]
  },
  {
   "cell_type": "code",
   "execution_count": 15,
   "id": "9db6a09c",
   "metadata": {
    "execution": {
     "iopub.execute_input": "2024-05-07T09:05:59.705681Z",
     "iopub.status.busy": "2024-05-07T09:05:59.705264Z",
     "iopub.status.idle": "2024-05-07T09:05:59.711963Z",
     "shell.execute_reply": "2024-05-07T09:05:59.710762Z"
    },
    "papermill": {
     "duration": 0.027439,
     "end_time": "2024-05-07T09:05:59.714383",
     "exception": false,
     "start_time": "2024-05-07T09:05:59.686944",
     "status": "completed"
    },
    "tags": []
   },
   "outputs": [],
   "source": [
    "mn = df['Rating'].mean()\n",
    "df['Rating'].fillna(mn,inplace=True)"
   ]
  },
  {
   "cell_type": "code",
   "execution_count": 16,
   "id": "db06a4be",
   "metadata": {
    "execution": {
     "iopub.execute_input": "2024-05-07T09:05:59.748287Z",
     "iopub.status.busy": "2024-05-07T09:05:59.747933Z",
     "iopub.status.idle": "2024-05-07T09:05:59.775931Z",
     "shell.execute_reply": "2024-05-07T09:05:59.774707Z"
    },
    "papermill": {
     "duration": 0.049095,
     "end_time": "2024-05-07T09:05:59.779740",
     "exception": false,
     "start_time": "2024-05-07T09:05:59.730645",
     "status": "completed"
    },
    "tags": []
   },
   "outputs": [],
   "source": [
    "for i in cat:\n",
    "    m = df[i].mode()[0]\n",
    "    df[i].fillna(m,inplace=True)"
   ]
  },
  {
   "cell_type": "code",
   "execution_count": 17,
   "id": "cd075d90",
   "metadata": {
    "execution": {
     "iopub.execute_input": "2024-05-07T09:05:59.813771Z",
     "iopub.status.busy": "2024-05-07T09:05:59.813370Z",
     "iopub.status.idle": "2024-05-07T09:05:59.828230Z",
     "shell.execute_reply": "2024-05-07T09:05:59.827015Z"
    },
    "papermill": {
     "duration": 0.034208,
     "end_time": "2024-05-07T09:05:59.830562",
     "exception": false,
     "start_time": "2024-05-07T09:05:59.796354",
     "status": "completed"
    },
    "tags": []
   },
   "outputs": [
    {
     "data": {
      "text/plain": [
       "Year        0\n",
       "Genre       0\n",
       "Rating      0\n",
       "Votes       0\n",
       "Director    0\n",
       "Actor 1     0\n",
       "Actor 2     0\n",
       "Actor 3     0\n",
       "dtype: int64"
      ]
     },
     "execution_count": 17,
     "metadata": {},
     "output_type": "execute_result"
    }
   ],
   "source": [
    "df.isna().sum()"
   ]
  },
  {
   "cell_type": "markdown",
   "id": "e65d6ad3",
   "metadata": {
    "papermill": {
     "duration": 0.016461,
     "end_time": "2024-05-07T09:05:59.863589",
     "exception": false,
     "start_time": "2024-05-07T09:05:59.847128",
     "status": "completed"
    },
    "tags": []
   },
   "source": [
    "--------------------------------------------------------------------------------\n",
    "3. Convert Year,Votes to int"
   ]
  },
  {
   "cell_type": "code",
   "execution_count": 18,
   "id": "6026f33d",
   "metadata": {
    "execution": {
     "iopub.execute_input": "2024-05-07T09:05:59.900383Z",
     "iopub.status.busy": "2024-05-07T09:05:59.899936Z",
     "iopub.status.idle": "2024-05-07T09:05:59.934687Z",
     "shell.execute_reply": "2024-05-07T09:05:59.933397Z"
    },
    "papermill": {
     "duration": 0.0556,
     "end_time": "2024-05-07T09:05:59.937285",
     "exception": false,
     "start_time": "2024-05-07T09:05:59.881685",
     "status": "completed"
    },
    "tags": []
   },
   "outputs": [],
   "source": [
    "# Lets convert Date column from string to int\n",
    "df['Year']= df['Year'].str.strip('()').astype(int)\n",
    "# Lets convert Votes column from string to int\n",
    "df['Votes'] = df['Votes'].str.replace(',','')\n",
    "df['Votes'] = df['Votes'].str.replace('.','')\n",
    "df['Votes'] = df['Votes'].str.strip('$')\n",
    "df['Votes'] = df['Votes'].str.strip('M')\n",
    "df['Votes'] = df['Votes'].astype(int)"
   ]
  },
  {
   "cell_type": "code",
   "execution_count": 19,
   "id": "b548c545",
   "metadata": {
    "execution": {
     "iopub.execute_input": "2024-05-07T09:05:59.971446Z",
     "iopub.status.busy": "2024-05-07T09:05:59.970929Z",
     "iopub.status.idle": "2024-05-07T09:05:59.990782Z",
     "shell.execute_reply": "2024-05-07T09:05:59.989698Z"
    },
    "papermill": {
     "duration": 0.039949,
     "end_time": "2024-05-07T09:05:59.993145",
     "exception": false,
     "start_time": "2024-05-07T09:05:59.953196",
     "status": "completed"
    },
    "tags": []
   },
   "outputs": [
    {
     "data": {
      "text/plain": [
       "Year         102\n",
       "Genre        485\n",
       "Rating        85\n",
       "Votes       2034\n",
       "Director    5938\n",
       "Actor 1     4718\n",
       "Actor 2     4891\n",
       "Actor 3     4820\n",
       "dtype: int64"
      ]
     },
     "execution_count": 19,
     "metadata": {},
     "output_type": "execute_result"
    }
   ],
   "source": [
    "df.nunique()"
   ]
  },
  {
   "cell_type": "markdown",
   "id": "2a55e180",
   "metadata": {
    "papermill": {
     "duration": 0.016625,
     "end_time": "2024-05-07T09:06:00.025855",
     "exception": false,
     "start_time": "2024-05-07T09:06:00.009230",
     "status": "completed"
    },
    "tags": []
   },
   "source": [
    "--------------------------------------------------------------------------------\n",
    "4. Encoding Categorical features using Target encoding-Mean encoding"
   ]
  },
  {
   "cell_type": "markdown",
   "id": "f515e18b",
   "metadata": {
    "papermill": {
     "duration": 0.016575,
     "end_time": "2024-05-07T09:06:00.059080",
     "exception": false,
     "start_time": "2024-05-07T09:06:00.042505",
     "status": "completed"
    },
    "tags": []
   },
   "source": [
    "As we can observe from above code that the Below features have high cardinality:\n",
    "\n",
    "    Votes\n",
    "    Director\n",
    "    Actor 1\n",
    "    Actor 2\n",
    "    Actor 3\n",
    "\n",
    "High cardinality : Features having large number of unique values or large number of categories.\n",
    "\n",
    "If we use One Hot Encoding for such features, it creates large number of binary columns, resulting in memory usage and large computation times. This is not a feasible scenario.\n",
    "\n",
    "Hence, for this scenario, we will use Target encoding where we calcluate a group aggregation (mean) for each column and subsitute the data with mean values.\n",
    "\n",
    "I will perform Target Encoding for the above mentioned features\n",
    "    "
   ]
  },
  {
   "cell_type": "code",
   "execution_count": 20,
   "id": "eeb7e399",
   "metadata": {
    "execution": {
     "iopub.execute_input": "2024-05-07T09:06:00.095676Z",
     "iopub.status.busy": "2024-05-07T09:06:00.094776Z",
     "iopub.status.idle": "2024-05-07T09:06:00.161440Z",
     "shell.execute_reply": "2024-05-07T09:06:00.160145Z"
    },
    "papermill": {
     "duration": 0.087235,
     "end_time": "2024-05-07T09:06:00.163942",
     "exception": false,
     "start_time": "2024-05-07T09:06:00.076707",
     "status": "completed"
    },
    "tags": []
   },
   "outputs": [
    {
     "data": {
      "text/html": [
       "<div>\n",
       "<style scoped>\n",
       "    .dataframe tbody tr th:only-of-type {\n",
       "        vertical-align: middle;\n",
       "    }\n",
       "\n",
       "    .dataframe tbody tr th {\n",
       "        vertical-align: top;\n",
       "    }\n",
       "\n",
       "    .dataframe thead th {\n",
       "        text-align: right;\n",
       "    }\n",
       "</style>\n",
       "<table border=\"1\" class=\"dataframe\">\n",
       "  <thead>\n",
       "    <tr style=\"text-align: right;\">\n",
       "      <th></th>\n",
       "      <th>Year</th>\n",
       "      <th>Rating</th>\n",
       "      <th>Genre encoded</th>\n",
       "      <th>Votes encoded</th>\n",
       "      <th>Director encoded</th>\n",
       "      <th>Actor 1 encoded</th>\n",
       "      <th>Actor 2 encoded</th>\n",
       "      <th>Actor 3 encoded</th>\n",
       "    </tr>\n",
       "  </thead>\n",
       "  <tbody>\n",
       "    <tr>\n",
       "      <th>0</th>\n",
       "      <td>2019</td>\n",
       "      <td>5.8</td>\n",
       "      <td>6.0</td>\n",
       "      <td>5.8</td>\n",
       "      <td>5.8</td>\n",
       "      <td>5.8</td>\n",
       "      <td>5.5</td>\n",
       "      <td>5.8</td>\n",
       "    </tr>\n",
       "    <tr>\n",
       "      <th>1</th>\n",
       "      <td>2019</td>\n",
       "      <td>7.0</td>\n",
       "      <td>6.0</td>\n",
       "      <td>5.8</td>\n",
       "      <td>7.0</td>\n",
       "      <td>6.8</td>\n",
       "      <td>7.0</td>\n",
       "      <td>7.0</td>\n",
       "    </tr>\n",
       "    <tr>\n",
       "      <th>2</th>\n",
       "      <td>2021</td>\n",
       "      <td>5.8</td>\n",
       "      <td>6.3</td>\n",
       "      <td>5.8</td>\n",
       "      <td>5.8</td>\n",
       "      <td>6.2</td>\n",
       "      <td>6.8</td>\n",
       "      <td>5.8</td>\n",
       "    </tr>\n",
       "    <tr>\n",
       "      <th>3</th>\n",
       "      <td>2019</td>\n",
       "      <td>4.4</td>\n",
       "      <td>5.7</td>\n",
       "      <td>5.9</td>\n",
       "      <td>4.4</td>\n",
       "      <td>5.4</td>\n",
       "      <td>4.4</td>\n",
       "      <td>4.4</td>\n",
       "    </tr>\n",
       "    <tr>\n",
       "      <th>4</th>\n",
       "      <td>2010</td>\n",
       "      <td>5.8</td>\n",
       "      <td>6.0</td>\n",
       "      <td>5.8</td>\n",
       "      <td>6.3</td>\n",
       "      <td>6.8</td>\n",
       "      <td>5.8</td>\n",
       "      <td>5.5</td>\n",
       "    </tr>\n",
       "  </tbody>\n",
       "</table>\n",
       "</div>"
      ],
      "text/plain": [
       "   Year  Rating  Genre encoded  Votes encoded  Director encoded  \\\n",
       "0  2019     5.8            6.0            5.8               5.8   \n",
       "1  2019     7.0            6.0            5.8               7.0   \n",
       "2  2021     5.8            6.3            5.8               5.8   \n",
       "3  2019     4.4            5.7            5.9               4.4   \n",
       "4  2010     5.8            6.0            5.8               6.3   \n",
       "\n",
       "   Actor 1 encoded  Actor 2 encoded  Actor 3 encoded  \n",
       "0              5.8              5.5              5.8  \n",
       "1              6.8              7.0              7.0  \n",
       "2              6.2              6.8              5.8  \n",
       "3              5.4              4.4              4.4  \n",
       "4              6.8              5.8              5.5  "
      ]
     },
     "execution_count": 20,
     "metadata": {},
     "output_type": "execute_result"
    }
   ],
   "source": [
    "## performing mean encoding\n",
    "df['Genre encoded'] = round(df.groupby('Genre')['Rating'].transform('mean'),1)\n",
    "df['Votes encoded'] = round(df.groupby('Votes')['Rating'].transform('mean'),1)\n",
    "df['Director encoded'] = round(df.groupby('Director')['Rating'].transform('mean'),1)\n",
    "df['Actor 1 encoded'] = round(df.groupby('Actor 1')['Rating'].transform('mean'),1)\n",
    "df['Actor 2 encoded'] = round(df.groupby('Actor 2')['Rating'].transform('mean'),1)\n",
    "df['Actor 3 encoded'] = round(df.groupby('Actor 3')['Rating'].transform('mean'),1)\n",
    "\n",
    "df.drop(columns=['Genre','Votes','Director','Actor 1','Actor 2','Actor 3'],inplace=True)\n",
    "df['Rating'] = round(df['Rating'],1)\n",
    "df.head()"
   ]
  },
  {
   "cell_type": "markdown",
   "id": "5f89d413",
   "metadata": {
    "papermill": {
     "duration": 0.016345,
     "end_time": "2024-05-07T09:06:00.196753",
     "exception": false,
     "start_time": "2024-05-07T09:06:00.180408",
     "status": "completed"
    },
    "tags": []
   },
   "source": [
    "--------------------------------------------------------------------------------\n",
    "5. Separate X and Y features"
   ]
  },
  {
   "cell_type": "code",
   "execution_count": 21,
   "id": "472e10fd",
   "metadata": {
    "execution": {
     "iopub.execute_input": "2024-05-07T09:06:00.232002Z",
     "iopub.status.busy": "2024-05-07T09:06:00.231627Z",
     "iopub.status.idle": "2024-05-07T09:06:00.238937Z",
     "shell.execute_reply": "2024-05-07T09:06:00.237845Z"
    },
    "papermill": {
     "duration": 0.027255,
     "end_time": "2024-05-07T09:06:00.241363",
     "exception": false,
     "start_time": "2024-05-07T09:06:00.214108",
     "status": "completed"
    },
    "tags": []
   },
   "outputs": [],
   "source": [
    "X = df.drop(columns='Rating')\n",
    "Y =df[['Rating']]"
   ]
  },
  {
   "cell_type": "code",
   "execution_count": 22,
   "id": "cc967e58",
   "metadata": {
    "execution": {
     "iopub.execute_input": "2024-05-07T09:06:00.277675Z",
     "iopub.status.busy": "2024-05-07T09:06:00.277251Z",
     "iopub.status.idle": "2024-05-07T09:06:00.292897Z",
     "shell.execute_reply": "2024-05-07T09:06:00.291810Z"
    },
    "papermill": {
     "duration": 0.036772,
     "end_time": "2024-05-07T09:06:00.294978",
     "exception": false,
     "start_time": "2024-05-07T09:06:00.258206",
     "status": "completed"
    },
    "tags": []
   },
   "outputs": [
    {
     "data": {
      "text/html": [
       "<div>\n",
       "<style scoped>\n",
       "    .dataframe tbody tr th:only-of-type {\n",
       "        vertical-align: middle;\n",
       "    }\n",
       "\n",
       "    .dataframe tbody tr th {\n",
       "        vertical-align: top;\n",
       "    }\n",
       "\n",
       "    .dataframe thead th {\n",
       "        text-align: right;\n",
       "    }\n",
       "</style>\n",
       "<table border=\"1\" class=\"dataframe\">\n",
       "  <thead>\n",
       "    <tr style=\"text-align: right;\">\n",
       "      <th></th>\n",
       "      <th>Year</th>\n",
       "      <th>Genre encoded</th>\n",
       "      <th>Votes encoded</th>\n",
       "      <th>Director encoded</th>\n",
       "      <th>Actor 1 encoded</th>\n",
       "      <th>Actor 2 encoded</th>\n",
       "      <th>Actor 3 encoded</th>\n",
       "    </tr>\n",
       "  </thead>\n",
       "  <tbody>\n",
       "    <tr>\n",
       "      <th>0</th>\n",
       "      <td>2019</td>\n",
       "      <td>6.0</td>\n",
       "      <td>5.8</td>\n",
       "      <td>5.8</td>\n",
       "      <td>5.8</td>\n",
       "      <td>5.5</td>\n",
       "      <td>5.8</td>\n",
       "    </tr>\n",
       "    <tr>\n",
       "      <th>1</th>\n",
       "      <td>2019</td>\n",
       "      <td>6.0</td>\n",
       "      <td>5.8</td>\n",
       "      <td>7.0</td>\n",
       "      <td>6.8</td>\n",
       "      <td>7.0</td>\n",
       "      <td>7.0</td>\n",
       "    </tr>\n",
       "    <tr>\n",
       "      <th>2</th>\n",
       "      <td>2021</td>\n",
       "      <td>6.3</td>\n",
       "      <td>5.8</td>\n",
       "      <td>5.8</td>\n",
       "      <td>6.2</td>\n",
       "      <td>6.8</td>\n",
       "      <td>5.8</td>\n",
       "    </tr>\n",
       "    <tr>\n",
       "      <th>3</th>\n",
       "      <td>2019</td>\n",
       "      <td>5.7</td>\n",
       "      <td>5.9</td>\n",
       "      <td>4.4</td>\n",
       "      <td>5.4</td>\n",
       "      <td>4.4</td>\n",
       "      <td>4.4</td>\n",
       "    </tr>\n",
       "    <tr>\n",
       "      <th>4</th>\n",
       "      <td>2010</td>\n",
       "      <td>6.0</td>\n",
       "      <td>5.8</td>\n",
       "      <td>6.3</td>\n",
       "      <td>6.8</td>\n",
       "      <td>5.8</td>\n",
       "      <td>5.5</td>\n",
       "    </tr>\n",
       "  </tbody>\n",
       "</table>\n",
       "</div>"
      ],
      "text/plain": [
       "   Year  Genre encoded  Votes encoded  Director encoded  Actor 1 encoded  \\\n",
       "0  2019            6.0            5.8               5.8              5.8   \n",
       "1  2019            6.0            5.8               7.0              6.8   \n",
       "2  2021            6.3            5.8               5.8              6.2   \n",
       "3  2019            5.7            5.9               4.4              5.4   \n",
       "4  2010            6.0            5.8               6.3              6.8   \n",
       "\n",
       "   Actor 2 encoded  Actor 3 encoded  \n",
       "0              5.5              5.8  \n",
       "1              7.0              7.0  \n",
       "2              6.8              5.8  \n",
       "3              4.4              4.4  \n",
       "4              5.8              5.5  "
      ]
     },
     "execution_count": 22,
     "metadata": {},
     "output_type": "execute_result"
    }
   ],
   "source": [
    "X.head()"
   ]
  },
  {
   "cell_type": "code",
   "execution_count": 23,
   "id": "59ff7347",
   "metadata": {
    "execution": {
     "iopub.execute_input": "2024-05-07T09:06:00.329924Z",
     "iopub.status.busy": "2024-05-07T09:06:00.329559Z",
     "iopub.status.idle": "2024-05-07T09:06:00.339566Z",
     "shell.execute_reply": "2024-05-07T09:06:00.338456Z"
    },
    "papermill": {
     "duration": 0.030215,
     "end_time": "2024-05-07T09:06:00.341716",
     "exception": false,
     "start_time": "2024-05-07T09:06:00.311501",
     "status": "completed"
    },
    "tags": []
   },
   "outputs": [
    {
     "data": {
      "text/html": [
       "<div>\n",
       "<style scoped>\n",
       "    .dataframe tbody tr th:only-of-type {\n",
       "        vertical-align: middle;\n",
       "    }\n",
       "\n",
       "    .dataframe tbody tr th {\n",
       "        vertical-align: top;\n",
       "    }\n",
       "\n",
       "    .dataframe thead th {\n",
       "        text-align: right;\n",
       "    }\n",
       "</style>\n",
       "<table border=\"1\" class=\"dataframe\">\n",
       "  <thead>\n",
       "    <tr style=\"text-align: right;\">\n",
       "      <th></th>\n",
       "      <th>Rating</th>\n",
       "    </tr>\n",
       "  </thead>\n",
       "  <tbody>\n",
       "    <tr>\n",
       "      <th>0</th>\n",
       "      <td>5.8</td>\n",
       "    </tr>\n",
       "    <tr>\n",
       "      <th>1</th>\n",
       "      <td>7.0</td>\n",
       "    </tr>\n",
       "    <tr>\n",
       "      <th>2</th>\n",
       "      <td>5.8</td>\n",
       "    </tr>\n",
       "    <tr>\n",
       "      <th>3</th>\n",
       "      <td>4.4</td>\n",
       "    </tr>\n",
       "    <tr>\n",
       "      <th>4</th>\n",
       "      <td>5.8</td>\n",
       "    </tr>\n",
       "  </tbody>\n",
       "</table>\n",
       "</div>"
      ],
      "text/plain": [
       "   Rating\n",
       "0     5.8\n",
       "1     7.0\n",
       "2     5.8\n",
       "3     4.4\n",
       "4     5.8"
      ]
     },
     "execution_count": 23,
     "metadata": {},
     "output_type": "execute_result"
    }
   ],
   "source": [
    "Y.head()"
   ]
  },
  {
   "cell_type": "markdown",
   "id": "f8161b3e",
   "metadata": {
    "papermill": {
     "duration": 0.017668,
     "end_time": "2024-05-07T09:06:00.376292",
     "exception": false,
     "start_time": "2024-05-07T09:06:00.358624",
     "status": "completed"
    },
    "tags": []
   },
   "source": [
    "--------------------------------------------------------------------------------\n",
    "6. Split the dataset into training data and testing data"
   ]
  },
  {
   "cell_type": "code",
   "execution_count": 24,
   "id": "f716cc51",
   "metadata": {
    "execution": {
     "iopub.execute_input": "2024-05-07T09:06:00.413088Z",
     "iopub.status.busy": "2024-05-07T09:06:00.412743Z",
     "iopub.status.idle": "2024-05-07T09:06:01.860913Z",
     "shell.execute_reply": "2024-05-07T09:06:01.859778Z"
    },
    "papermill": {
     "duration": 1.468984,
     "end_time": "2024-05-07T09:06:01.863572",
     "exception": false,
     "start_time": "2024-05-07T09:06:00.394588",
     "status": "completed"
    },
    "tags": []
   },
   "outputs": [],
   "source": [
    "from sklearn.model_selection import train_test_split\n",
    "xtrain, xtest, ytrain, ytest = train_test_split(X,Y,test_size=0.25,random_state=21)"
   ]
  },
  {
   "cell_type": "code",
   "execution_count": 25,
   "id": "56eea2bc",
   "metadata": {
    "execution": {
     "iopub.execute_input": "2024-05-07T09:06:01.899859Z",
     "iopub.status.busy": "2024-05-07T09:06:01.899448Z",
     "iopub.status.idle": "2024-05-07T09:06:01.905268Z",
     "shell.execute_reply": "2024-05-07T09:06:01.904409Z"
    },
    "papermill": {
     "duration": 0.026826,
     "end_time": "2024-05-07T09:06:01.907402",
     "exception": false,
     "start_time": "2024-05-07T09:06:01.880576",
     "status": "completed"
    },
    "tags": []
   },
   "outputs": [
    {
     "data": {
      "text/plain": [
       "(11325, 7)"
      ]
     },
     "execution_count": 25,
     "metadata": {},
     "output_type": "execute_result"
    }
   ],
   "source": [
    "xtrain.shape"
   ]
  },
  {
   "cell_type": "code",
   "execution_count": 26,
   "id": "32d381a1",
   "metadata": {
    "execution": {
     "iopub.execute_input": "2024-05-07T09:06:01.943736Z",
     "iopub.status.busy": "2024-05-07T09:06:01.942824Z",
     "iopub.status.idle": "2024-05-07T09:06:01.949593Z",
     "shell.execute_reply": "2024-05-07T09:06:01.948330Z"
    },
    "papermill": {
     "duration": 0.027552,
     "end_time": "2024-05-07T09:06:01.951998",
     "exception": false,
     "start_time": "2024-05-07T09:06:01.924446",
     "status": "completed"
    },
    "tags": []
   },
   "outputs": [
    {
     "data": {
      "text/plain": [
       "(3776, 7)"
      ]
     },
     "execution_count": 26,
     "metadata": {},
     "output_type": "execute_result"
    }
   ],
   "source": [
    "xtest.shape"
   ]
  },
  {
   "cell_type": "code",
   "execution_count": 27,
   "id": "d39e5f66",
   "metadata": {
    "execution": {
     "iopub.execute_input": "2024-05-07T09:06:01.988228Z",
     "iopub.status.busy": "2024-05-07T09:06:01.987829Z",
     "iopub.status.idle": "2024-05-07T09:06:01.994761Z",
     "shell.execute_reply": "2024-05-07T09:06:01.993540Z"
    },
    "papermill": {
     "duration": 0.027806,
     "end_time": "2024-05-07T09:06:01.997080",
     "exception": false,
     "start_time": "2024-05-07T09:06:01.969274",
     "status": "completed"
    },
    "tags": []
   },
   "outputs": [
    {
     "data": {
      "text/plain": [
       "(11325, 1)"
      ]
     },
     "execution_count": 27,
     "metadata": {},
     "output_type": "execute_result"
    }
   ],
   "source": [
    "ytrain.shape"
   ]
  },
  {
   "cell_type": "code",
   "execution_count": 28,
   "id": "d12db1eb",
   "metadata": {
    "execution": {
     "iopub.execute_input": "2024-05-07T09:06:02.034154Z",
     "iopub.status.busy": "2024-05-07T09:06:02.033778Z",
     "iopub.status.idle": "2024-05-07T09:06:02.039720Z",
     "shell.execute_reply": "2024-05-07T09:06:02.038783Z"
    },
    "papermill": {
     "duration": 0.027088,
     "end_time": "2024-05-07T09:06:02.041876",
     "exception": false,
     "start_time": "2024-05-07T09:06:02.014788",
     "status": "completed"
    },
    "tags": []
   },
   "outputs": [
    {
     "data": {
      "text/plain": [
       "(3776, 1)"
      ]
     },
     "execution_count": 28,
     "metadata": {},
     "output_type": "execute_result"
    }
   ],
   "source": [
    "ytest.shape"
   ]
  },
  {
   "cell_type": "markdown",
   "id": "95659777",
   "metadata": {
    "papermill": {
     "duration": 0.017332,
     "end_time": "2024-05-07T09:06:02.077505",
     "exception": false,
     "start_time": "2024-05-07T09:06:02.060173",
     "status": "completed"
    },
    "tags": []
   },
   "source": [
    "## Build the model"
   ]
  },
  {
   "cell_type": "markdown",
   "id": "4c41c608",
   "metadata": {
    "papermill": {
     "duration": 0.017793,
     "end_time": "2024-05-07T09:06:02.112743",
     "exception": false,
     "start_time": "2024-05-07T09:06:02.094950",
     "status": "completed"
    },
    "tags": []
   },
   "source": [
    "Performing Algorithm Evaluaton to check which regression models give best results "
   ]
  },
  {
   "cell_type": "code",
   "execution_count": 29,
   "id": "18982a2d",
   "metadata": {
    "execution": {
     "iopub.execute_input": "2024-05-07T09:06:02.150575Z",
     "iopub.status.busy": "2024-05-07T09:06:02.150172Z",
     "iopub.status.idle": "2024-05-07T09:06:02.530793Z",
     "shell.execute_reply": "2024-05-07T09:06:02.529672Z"
    },
    "papermill": {
     "duration": 0.403185,
     "end_time": "2024-05-07T09:06:02.533773",
     "exception": false,
     "start_time": "2024-05-07T09:06:02.130588",
     "status": "completed"
    },
    "tags": []
   },
   "outputs": [],
   "source": [
    "from sklearn.linear_model import LinearRegression\n",
    "from sklearn.tree import DecisionTreeRegressor\n",
    "from sklearn.ensemble import RandomForestRegressor,GradientBoostingRegressor\n",
    "from sklearn.neighbors import KNeighborsRegressor\n",
    "from sklearn.svm import SVR\n",
    "from sklearn.model_selection import RandomizedSearchCV"
   ]
  },
  {
   "cell_type": "code",
   "execution_count": 30,
   "id": "3389c01a",
   "metadata": {
    "execution": {
     "iopub.execute_input": "2024-05-07T09:06:02.572111Z",
     "iopub.status.busy": "2024-05-07T09:06:02.571134Z",
     "iopub.status.idle": "2024-05-07T09:06:02.576970Z",
     "shell.execute_reply": "2024-05-07T09:06:02.575852Z"
    },
    "papermill": {
     "duration": 0.026746,
     "end_time": "2024-05-07T09:06:02.579023",
     "exception": false,
     "start_time": "2024-05-07T09:06:02.552277",
     "status": "completed"
    },
    "tags": []
   },
   "outputs": [],
   "source": [
    "dct = {\n",
    "    'Linear':LinearRegression(),\n",
    "    'DecisionTree':DecisionTreeRegressor(),\n",
    "    'RandomForest':RandomForestRegressor(),\n",
    "    'GradientBoosting':GradientBoostingRegressor(),\n",
    "    'KNN':KNeighborsRegressor(),\n",
    "    'SVR':SVR()\n",
    "}"
   ]
  },
  {
   "cell_type": "code",
   "execution_count": 31,
   "id": "40b11dbf",
   "metadata": {
    "execution": {
     "iopub.execute_input": "2024-05-07T09:06:02.616876Z",
     "iopub.status.busy": "2024-05-07T09:06:02.616509Z",
     "iopub.status.idle": "2024-05-07T09:06:02.627002Z",
     "shell.execute_reply": "2024-05-07T09:06:02.625751Z"
    },
    "papermill": {
     "duration": 0.032393,
     "end_time": "2024-05-07T09:06:02.629603",
     "exception": false,
     "start_time": "2024-05-07T09:06:02.597210",
     "status": "completed"
    },
    "tags": []
   },
   "outputs": [
    {
     "data": {
      "text/plain": [
       "dict_items([('Linear', LinearRegression()), ('DecisionTree', DecisionTreeRegressor()), ('RandomForest', RandomForestRegressor()), ('GradientBoosting', GradientBoostingRegressor()), ('KNN', KNeighborsRegressor()), ('SVR', SVR())])"
      ]
     },
     "execution_count": 31,
     "metadata": {},
     "output_type": "execute_result"
    }
   ],
   "source": [
    "dct.items()"
   ]
  },
  {
   "cell_type": "code",
   "execution_count": 32,
   "id": "16a4ca28",
   "metadata": {
    "execution": {
     "iopub.execute_input": "2024-05-07T09:06:02.669635Z",
     "iopub.status.busy": "2024-05-07T09:06:02.668984Z",
     "iopub.status.idle": "2024-05-07T09:06:02.674720Z",
     "shell.execute_reply": "2024-05-07T09:06:02.673645Z"
    },
    "papermill": {
     "duration": 0.028097,
     "end_time": "2024-05-07T09:06:02.676986",
     "exception": false,
     "start_time": "2024-05-07T09:06:02.648889",
     "status": "completed"
    },
    "tags": []
   },
   "outputs": [],
   "source": [
    "from sklearn.metrics import mean_squared_error,r2_score\n",
    "from sklearn.model_selection import cross_val_score"
   ]
  },
  {
   "cell_type": "code",
   "execution_count": 33,
   "id": "ee544829",
   "metadata": {
    "execution": {
     "iopub.execute_input": "2024-05-07T09:06:02.716958Z",
     "iopub.status.busy": "2024-05-07T09:06:02.716592Z",
     "iopub.status.idle": "2024-05-07T09:06:50.734057Z",
     "shell.execute_reply": "2024-05-07T09:06:50.733103Z"
    },
    "papermill": {
     "duration": 48.055141,
     "end_time": "2024-05-07T09:06:50.750554",
     "exception": false,
     "start_time": "2024-05-07T09:06:02.695413",
     "status": "completed"
    },
    "tags": []
   },
   "outputs": [
    {
     "name": "stdout",
     "output_type": "stream",
     "text": [
      "Scores for Linear\n",
      "Training Scores\n",
      "MSE:[0.24667540151040804]\n",
      "R2:[74.87422109028985]\n",
      "Testing Scores\n",
      "MSE:[0.2715908987362406]\n",
      "R2:[74.3997681809067]\n",
      "CV:[74.73950258907246]\n",
      "===============================\n",
      "Scores for DecisionTree\n",
      "Training Scores\n",
      "MSE:[0.24667540151040804, 0.0002136865342163355]\n",
      "R2:[74.87422109028985, 99.97823438988311]\n",
      "Testing Scores\n",
      "MSE:[0.2715908987362406, 0.42923728813559314]\n",
      "R2:[74.3997681809067, 59.53997673411789]\n",
      "CV:[74.73950258907246, 59.29568239953734]\n",
      "===============================\n",
      "Scores for RandomForest\n",
      "Training Scores\n",
      "MSE:[0.24667540151040804, 0.0002136865342163355, 0.027653109254059362]\n",
      "R2:[74.87422109028985, 99.97823438988311, 97.18331902966726]\n",
      "Testing Scores\n",
      "MSE:[0.2715908987362406, 0.42923728813559314, 0.22030625239818738]\n",
      "R2:[74.3997681809067, 59.53997673411789, 79.23387286233573]\n",
      "CV:[74.73950258907246, 59.29568239953734, 79.86668794872595]\n",
      "===============================\n",
      "Scores for GradientBoosting\n",
      "Training Scores\n",
      "MSE:[0.24667540151040804, 0.0002136865342163355, 0.027653109254059362, 0.1901835197448489]\n",
      "R2:[74.87422109028985, 99.97823438988311, 97.18331902966726, 80.62835191461947]\n",
      "Testing Scores\n",
      "MSE:[0.2715908987362406, 0.42923728813559314, 0.22030625239818738, 0.2372301797349207]\n",
      "R2:[74.3997681809067, 59.53997673411789, 79.23387286233573, 77.6386188787675]\n",
      "CV:[74.73950258907246, 59.29568239953734, 79.86668794872595, 78.40724797285034]\n",
      "===============================\n",
      "Scores for KNN\n",
      "Training Scores\n",
      "MSE:[0.24667540151040804, 0.0002136865342163355, 0.027653109254059362, 0.1901835197448489, 0.18107747461368653]\n",
      "R2:[74.87422109028985, 99.97823438988311, 97.18331902966726, 80.62835191461947, 81.55587235365188]\n",
      "Testing Scores\n",
      "MSE:[0.2715908987362406, 0.42923728813559314, 0.22030625239818738, 0.2372301797349207, 0.3082734110169491]\n",
      "R2:[74.3997681809067, 59.53997673411789, 79.23387286233573, 77.6386188787675, 70.94206461844354]\n",
      "CV:[74.73950258907246, 59.29568239953734, 79.86668794872595, 78.40724797285034, 71.39691338421015]\n",
      "===============================\n",
      "Scores for SVR\n",
      "Training Scores\n",
      "MSE:[0.24667540151040804, 0.0002136865342163355, 0.027653109254059362, 0.1901835197448489, 0.18107747461368653, 0.9793221387385658]\n",
      "R2:[74.87422109028985, 99.97823438988311, 97.18331902966726, 80.62835191461947, 81.55587235365188, 0.24853962468782687]\n",
      "Testing Scores\n",
      "MSE:[0.2715908987362406, 0.42923728813559314, 0.22030625239818738, 0.2372301797349207, 0.3082734110169491, 1.0573307457393202]\n",
      "R2:[74.3997681809067, 59.53997673411789, 79.23387286233573, 77.6386188787675, 70.94206461844354, 0.3357169686721728]\n",
      "CV:[74.73950258907246, 59.29568239953734, 79.86668794872595, 78.40724797285034, 71.39691338421015, 0.023700207192189904]\n",
      "===============================\n"
     ]
    }
   ],
   "source": [
    "train_mse = []\n",
    "train_r2 = []\n",
    "test_mse = []\n",
    "test_r2 = []\n",
    "train_cv = []\n",
    "\n",
    "for name,model in dct.items():\n",
    "    # fit the model\n",
    "    m = model.fit(xtrain,ytrain)\n",
    "    ypred_train = m.predict(xtrain)\n",
    "    ypred_test = m.predict(xtest)\n",
    "    # calculate MSE\n",
    "    mse_train = mean_squared_error(ytrain,ypred_train)\n",
    "    mse_test = mean_squared_error(ytest,ypred_test)\n",
    "    # caluclate R2\n",
    "    r2_train = (r2_score(ytrain,ypred_train))*100\n",
    "    r2_test = (r2_score(ytest,ypred_test))*100\n",
    "    # calculate cross validated scores\n",
    "    cv = cross_val_score(m,xtrain,ytrain,cv=5,scoring='r2')\n",
    "    scores = (cv.mean())*100\n",
    "\n",
    "    # add these values to the respective list to compare the output\n",
    "    train_mse.append(mse_train)\n",
    "    train_r2.append(r2_train)\n",
    "    test_mse.append(mse_test)\n",
    "    test_r2.append(r2_test)\n",
    "    train_cv.append(scores)\n",
    "\n",
    "    # print the results\n",
    "    print(f'Scores for {name}')\n",
    "    print(\"Training Scores\")\n",
    "    print(f'MSE:{train_mse}')\n",
    "    print(f'R2:{train_r2}')\n",
    "    print(\"Testing Scores\")\n",
    "    print(f'MSE:{test_mse}')\n",
    "    print(f'R2:{test_r2}')\n",
    "    print(f'CV:{train_cv}')\n",
    "    print(\"===============================\")"
   ]
  },
  {
   "cell_type": "code",
   "execution_count": 34,
   "id": "63486f7d",
   "metadata": {
    "execution": {
     "iopub.execute_input": "2024-05-07T09:06:50.789130Z",
     "iopub.status.busy": "2024-05-07T09:06:50.788538Z",
     "iopub.status.idle": "2024-05-07T09:06:50.793132Z",
     "shell.execute_reply": "2024-05-07T09:06:50.792287Z"
    },
    "papermill": {
     "duration": 0.026596,
     "end_time": "2024-05-07T09:06:50.795328",
     "exception": false,
     "start_time": "2024-05-07T09:06:50.768732",
     "status": "completed"
    },
    "tags": []
   },
   "outputs": [],
   "source": [
    "res = {'Name':list(dct.keys()),\n",
    "       'MSE Training Scores':train_mse,\n",
    "       'MSE Testing Scores':test_mse,\n",
    "       'R2 Training Scores':train_r2,\n",
    "       'R2 Testing Scores':test_r2,\n",
    "       'CV Training Scores':train_cv}"
   ]
  },
  {
   "cell_type": "code",
   "execution_count": 35,
   "id": "ed3a0738",
   "metadata": {
    "execution": {
     "iopub.execute_input": "2024-05-07T09:06:50.835202Z",
     "iopub.status.busy": "2024-05-07T09:06:50.834601Z",
     "iopub.status.idle": "2024-05-07T09:06:50.849206Z",
     "shell.execute_reply": "2024-05-07T09:06:50.848086Z"
    },
    "papermill": {
     "duration": 0.037343,
     "end_time": "2024-05-07T09:06:50.851493",
     "exception": false,
     "start_time": "2024-05-07T09:06:50.814150",
     "status": "completed"
    },
    "tags": []
   },
   "outputs": [
    {
     "data": {
      "text/html": [
       "<div>\n",
       "<style scoped>\n",
       "    .dataframe tbody tr th:only-of-type {\n",
       "        vertical-align: middle;\n",
       "    }\n",
       "\n",
       "    .dataframe tbody tr th {\n",
       "        vertical-align: top;\n",
       "    }\n",
       "\n",
       "    .dataframe thead th {\n",
       "        text-align: right;\n",
       "    }\n",
       "</style>\n",
       "<table border=\"1\" class=\"dataframe\">\n",
       "  <thead>\n",
       "    <tr style=\"text-align: right;\">\n",
       "      <th></th>\n",
       "      <th>Name</th>\n",
       "      <th>MSE Training Scores</th>\n",
       "      <th>MSE Testing Scores</th>\n",
       "      <th>R2 Training Scores</th>\n",
       "      <th>R2 Testing Scores</th>\n",
       "      <th>CV Training Scores</th>\n",
       "    </tr>\n",
       "  </thead>\n",
       "  <tbody>\n",
       "    <tr>\n",
       "      <th>2</th>\n",
       "      <td>RandomForest</td>\n",
       "      <td>0.027653</td>\n",
       "      <td>0.220306</td>\n",
       "      <td>97.183319</td>\n",
       "      <td>79.233873</td>\n",
       "      <td>79.866688</td>\n",
       "    </tr>\n",
       "    <tr>\n",
       "      <th>3</th>\n",
       "      <td>GradientBoosting</td>\n",
       "      <td>0.190184</td>\n",
       "      <td>0.237230</td>\n",
       "      <td>80.628352</td>\n",
       "      <td>77.638619</td>\n",
       "      <td>78.407248</td>\n",
       "    </tr>\n",
       "    <tr>\n",
       "      <th>0</th>\n",
       "      <td>Linear</td>\n",
       "      <td>0.246675</td>\n",
       "      <td>0.271591</td>\n",
       "      <td>74.874221</td>\n",
       "      <td>74.399768</td>\n",
       "      <td>74.739503</td>\n",
       "    </tr>\n",
       "    <tr>\n",
       "      <th>4</th>\n",
       "      <td>KNN</td>\n",
       "      <td>0.181077</td>\n",
       "      <td>0.308273</td>\n",
       "      <td>81.555872</td>\n",
       "      <td>70.942065</td>\n",
       "      <td>71.396913</td>\n",
       "    </tr>\n",
       "    <tr>\n",
       "      <th>1</th>\n",
       "      <td>DecisionTree</td>\n",
       "      <td>0.000214</td>\n",
       "      <td>0.429237</td>\n",
       "      <td>99.978234</td>\n",
       "      <td>59.539977</td>\n",
       "      <td>59.295682</td>\n",
       "    </tr>\n",
       "    <tr>\n",
       "      <th>5</th>\n",
       "      <td>SVR</td>\n",
       "      <td>0.979322</td>\n",
       "      <td>1.057331</td>\n",
       "      <td>0.248540</td>\n",
       "      <td>0.335717</td>\n",
       "      <td>0.023700</td>\n",
       "    </tr>\n",
       "  </tbody>\n",
       "</table>\n",
       "</div>"
      ],
      "text/plain": [
       "               Name  MSE Training Scores  MSE Testing Scores  \\\n",
       "2      RandomForest             0.027653            0.220306   \n",
       "3  GradientBoosting             0.190184            0.237230   \n",
       "0            Linear             0.246675            0.271591   \n",
       "4               KNN             0.181077            0.308273   \n",
       "1      DecisionTree             0.000214            0.429237   \n",
       "5               SVR             0.979322            1.057331   \n",
       "\n",
       "   R2 Training Scores  R2 Testing Scores  CV Training Scores  \n",
       "2           97.183319          79.233873           79.866688  \n",
       "3           80.628352          77.638619           78.407248  \n",
       "0           74.874221          74.399768           74.739503  \n",
       "4           81.555872          70.942065           71.396913  \n",
       "1           99.978234          59.539977           59.295682  \n",
       "5            0.248540           0.335717            0.023700  "
      ]
     },
     "execution_count": 35,
     "metadata": {},
     "output_type": "execute_result"
    }
   ],
   "source": [
    "df_res = pd.DataFrame(res)\n",
    "df_res.sort_values('CV Training Scores',ascending=False)"
   ]
  },
  {
   "cell_type": "markdown",
   "id": "34346c16",
   "metadata": {
    "papermill": {
     "duration": 0.019206,
     "end_time": "2024-05-07T09:06:50.890885",
     "exception": false,
     "start_time": "2024-05-07T09:06:50.871679",
     "status": "completed"
    },
    "tags": []
   },
   "source": [
    "#### Lets consider Random Forest Regressor as its giving good results"
   ]
  },
  {
   "cell_type": "code",
   "execution_count": 36,
   "id": "21288764",
   "metadata": {
    "execution": {
     "iopub.execute_input": "2024-05-07T09:06:50.932024Z",
     "iopub.status.busy": "2024-05-07T09:06:50.931293Z",
     "iopub.status.idle": "2024-05-07T09:06:50.936157Z",
     "shell.execute_reply": "2024-05-07T09:06:50.935317Z"
    },
    "papermill": {
     "duration": 0.028026,
     "end_time": "2024-05-07T09:06:50.938759",
     "exception": false,
     "start_time": "2024-05-07T09:06:50.910733",
     "status": "completed"
    },
    "tags": []
   },
   "outputs": [],
   "source": [
    "params = {'n_estimators':[200,300],\n",
    "          'max_depth':[5,6,7,8],\n",
    "          'min_samples_split':[2,3,4,5,6],\n",
    "          'criterion':['squared_error','absolute_error']}"
   ]
  },
  {
   "cell_type": "code",
   "execution_count": 37,
   "id": "f9f1bbd6",
   "metadata": {
    "execution": {
     "iopub.execute_input": "2024-05-07T09:06:50.979802Z",
     "iopub.status.busy": "2024-05-07T09:06:50.978877Z",
     "iopub.status.idle": "2024-05-07T09:55:15.820524Z",
     "shell.execute_reply": "2024-05-07T09:55:15.819244Z"
    },
    "papermill": {
     "duration": 2904.885002,
     "end_time": "2024-05-07T09:55:15.842981",
     "exception": false,
     "start_time": "2024-05-07T09:06:50.957979",
     "status": "completed"
    },
    "tags": []
   },
   "outputs": [
    {
     "data": {
      "text/html": [
       "<style>#sk-container-id-1 {color: black;background-color: white;}#sk-container-id-1 pre{padding: 0;}#sk-container-id-1 div.sk-toggleable {background-color: white;}#sk-container-id-1 label.sk-toggleable__label {cursor: pointer;display: block;width: 100%;margin-bottom: 0;padding: 0.3em;box-sizing: border-box;text-align: center;}#sk-container-id-1 label.sk-toggleable__label-arrow:before {content: \"▸\";float: left;margin-right: 0.25em;color: #696969;}#sk-container-id-1 label.sk-toggleable__label-arrow:hover:before {color: black;}#sk-container-id-1 div.sk-estimator:hover label.sk-toggleable__label-arrow:before {color: black;}#sk-container-id-1 div.sk-toggleable__content {max-height: 0;max-width: 0;overflow: hidden;text-align: left;background-color: #f0f8ff;}#sk-container-id-1 div.sk-toggleable__content pre {margin: 0.2em;color: black;border-radius: 0.25em;background-color: #f0f8ff;}#sk-container-id-1 input.sk-toggleable__control:checked~div.sk-toggleable__content {max-height: 200px;max-width: 100%;overflow: auto;}#sk-container-id-1 input.sk-toggleable__control:checked~label.sk-toggleable__label-arrow:before {content: \"▾\";}#sk-container-id-1 div.sk-estimator input.sk-toggleable__control:checked~label.sk-toggleable__label {background-color: #d4ebff;}#sk-container-id-1 div.sk-label input.sk-toggleable__control:checked~label.sk-toggleable__label {background-color: #d4ebff;}#sk-container-id-1 input.sk-hidden--visually {border: 0;clip: rect(1px 1px 1px 1px);clip: rect(1px, 1px, 1px, 1px);height: 1px;margin: -1px;overflow: hidden;padding: 0;position: absolute;width: 1px;}#sk-container-id-1 div.sk-estimator {font-family: monospace;background-color: #f0f8ff;border: 1px dotted black;border-radius: 0.25em;box-sizing: border-box;margin-bottom: 0.5em;}#sk-container-id-1 div.sk-estimator:hover {background-color: #d4ebff;}#sk-container-id-1 div.sk-parallel-item::after {content: \"\";width: 100%;border-bottom: 1px solid gray;flex-grow: 1;}#sk-container-id-1 div.sk-label:hover label.sk-toggleable__label {background-color: #d4ebff;}#sk-container-id-1 div.sk-serial::before {content: \"\";position: absolute;border-left: 1px solid gray;box-sizing: border-box;top: 0;bottom: 0;left: 50%;z-index: 0;}#sk-container-id-1 div.sk-serial {display: flex;flex-direction: column;align-items: center;background-color: white;padding-right: 0.2em;padding-left: 0.2em;position: relative;}#sk-container-id-1 div.sk-item {position: relative;z-index: 1;}#sk-container-id-1 div.sk-parallel {display: flex;align-items: stretch;justify-content: center;background-color: white;position: relative;}#sk-container-id-1 div.sk-item::before, #sk-container-id-1 div.sk-parallel-item::before {content: \"\";position: absolute;border-left: 1px solid gray;box-sizing: border-box;top: 0;bottom: 0;left: 50%;z-index: -1;}#sk-container-id-1 div.sk-parallel-item {display: flex;flex-direction: column;z-index: 1;position: relative;background-color: white;}#sk-container-id-1 div.sk-parallel-item:first-child::after {align-self: flex-end;width: 50%;}#sk-container-id-1 div.sk-parallel-item:last-child::after {align-self: flex-start;width: 50%;}#sk-container-id-1 div.sk-parallel-item:only-child::after {width: 0;}#sk-container-id-1 div.sk-dashed-wrapped {border: 1px dashed gray;margin: 0 0.4em 0.5em 0.4em;box-sizing: border-box;padding-bottom: 0.4em;background-color: white;}#sk-container-id-1 div.sk-label label {font-family: monospace;font-weight: bold;display: inline-block;line-height: 1.2em;}#sk-container-id-1 div.sk-label-container {text-align: center;}#sk-container-id-1 div.sk-container {/* jupyter's `normalize.less` sets `[hidden] { display: none; }` but bootstrap.min.css set `[hidden] { display: none !important; }` so we also need the `!important` here to be able to override the default hidden behavior on the sphinx rendered scikit-learn.org. See: https://github.com/scikit-learn/scikit-learn/issues/21755 */display: inline-block !important;position: relative;}#sk-container-id-1 div.sk-text-repr-fallback {display: none;}</style><div id=\"sk-container-id-1\" class=\"sk-top-container\"><div class=\"sk-text-repr-fallback\"><pre>RandomizedSearchCV(cv=3, estimator=RandomForestRegressor(),\n",
       "                   param_distributions={&#x27;criterion&#x27;: [&#x27;squared_error&#x27;,\n",
       "                                                      &#x27;absolute_error&#x27;],\n",
       "                                        &#x27;max_depth&#x27;: [5, 6, 7, 8],\n",
       "                                        &#x27;min_samples_split&#x27;: [2, 3, 4, 5, 6],\n",
       "                                        &#x27;n_estimators&#x27;: [200, 300]},\n",
       "                   scoring=&#x27;neg_mean_squared_error&#x27;)</pre><b>In a Jupyter environment, please rerun this cell to show the HTML representation or trust the notebook. <br />On GitHub, the HTML representation is unable to render, please try loading this page with nbviewer.org.</b></div><div class=\"sk-container\" hidden><div class=\"sk-item sk-dashed-wrapped\"><div class=\"sk-label-container\"><div class=\"sk-label sk-toggleable\"><input class=\"sk-toggleable__control sk-hidden--visually\" id=\"sk-estimator-id-1\" type=\"checkbox\" ><label for=\"sk-estimator-id-1\" class=\"sk-toggleable__label sk-toggleable__label-arrow\">RandomizedSearchCV</label><div class=\"sk-toggleable__content\"><pre>RandomizedSearchCV(cv=3, estimator=RandomForestRegressor(),\n",
       "                   param_distributions={&#x27;criterion&#x27;: [&#x27;squared_error&#x27;,\n",
       "                                                      &#x27;absolute_error&#x27;],\n",
       "                                        &#x27;max_depth&#x27;: [5, 6, 7, 8],\n",
       "                                        &#x27;min_samples_split&#x27;: [2, 3, 4, 5, 6],\n",
       "                                        &#x27;n_estimators&#x27;: [200, 300]},\n",
       "                   scoring=&#x27;neg_mean_squared_error&#x27;)</pre></div></div></div><div class=\"sk-parallel\"><div class=\"sk-parallel-item\"><div class=\"sk-item\"><div class=\"sk-label-container\"><div class=\"sk-label sk-toggleable\"><input class=\"sk-toggleable__control sk-hidden--visually\" id=\"sk-estimator-id-2\" type=\"checkbox\" ><label for=\"sk-estimator-id-2\" class=\"sk-toggleable__label sk-toggleable__label-arrow\">estimator: RandomForestRegressor</label><div class=\"sk-toggleable__content\"><pre>RandomForestRegressor()</pre></div></div></div><div class=\"sk-serial\"><div class=\"sk-item\"><div class=\"sk-estimator sk-toggleable\"><input class=\"sk-toggleable__control sk-hidden--visually\" id=\"sk-estimator-id-3\" type=\"checkbox\" ><label for=\"sk-estimator-id-3\" class=\"sk-toggleable__label sk-toggleable__label-arrow\">RandomForestRegressor</label><div class=\"sk-toggleable__content\"><pre>RandomForestRegressor()</pre></div></div></div></div></div></div></div></div></div></div>"
      ],
      "text/plain": [
       "RandomizedSearchCV(cv=3, estimator=RandomForestRegressor(),\n",
       "                   param_distributions={'criterion': ['squared_error',\n",
       "                                                      'absolute_error'],\n",
       "                                        'max_depth': [5, 6, 7, 8],\n",
       "                                        'min_samples_split': [2, 3, 4, 5, 6],\n",
       "                                        'n_estimators': [200, 300]},\n",
       "                   scoring='neg_mean_squared_error')"
      ]
     },
     "execution_count": 37,
     "metadata": {},
     "output_type": "execute_result"
    }
   ],
   "source": [
    "rfr = RandomForestRegressor()\n",
    "rscv = RandomizedSearchCV(rfr,params,cv=3,scoring='neg_mean_squared_error')\n",
    "rscv.fit(xtrain,ytrain)"
   ]
  },
  {
   "cell_type": "code",
   "execution_count": 38,
   "id": "8dbfd9a9",
   "metadata": {
    "execution": {
     "iopub.execute_input": "2024-05-07T09:55:15.883004Z",
     "iopub.status.busy": "2024-05-07T09:55:15.882645Z",
     "iopub.status.idle": "2024-05-07T09:55:15.889347Z",
     "shell.execute_reply": "2024-05-07T09:55:15.888224Z"
    },
    "papermill": {
     "duration": 0.029588,
     "end_time": "2024-05-07T09:55:15.891613",
     "exception": false,
     "start_time": "2024-05-07T09:55:15.862025",
     "status": "completed"
    },
    "tags": []
   },
   "outputs": [
    {
     "data": {
      "text/plain": [
       "{'n_estimators': 200,\n",
       " 'min_samples_split': 5,\n",
       " 'max_depth': 6,\n",
       " 'criterion': 'squared_error'}"
      ]
     },
     "execution_count": 38,
     "metadata": {},
     "output_type": "execute_result"
    }
   ],
   "source": [
    "rscv.best_params_"
   ]
  },
  {
   "cell_type": "code",
   "execution_count": 39,
   "id": "a2053985",
   "metadata": {
    "execution": {
     "iopub.execute_input": "2024-05-07T09:55:15.931601Z",
     "iopub.status.busy": "2024-05-07T09:55:15.931217Z",
     "iopub.status.idle": "2024-05-07T09:55:15.939056Z",
     "shell.execute_reply": "2024-05-07T09:55:15.937978Z"
    },
    "papermill": {
     "duration": 0.030535,
     "end_time": "2024-05-07T09:55:15.941348",
     "exception": false,
     "start_time": "2024-05-07T09:55:15.910813",
     "status": "completed"
    },
    "tags": []
   },
   "outputs": [
    {
     "data": {
      "text/html": [
       "<style>#sk-container-id-2 {color: black;background-color: white;}#sk-container-id-2 pre{padding: 0;}#sk-container-id-2 div.sk-toggleable {background-color: white;}#sk-container-id-2 label.sk-toggleable__label {cursor: pointer;display: block;width: 100%;margin-bottom: 0;padding: 0.3em;box-sizing: border-box;text-align: center;}#sk-container-id-2 label.sk-toggleable__label-arrow:before {content: \"▸\";float: left;margin-right: 0.25em;color: #696969;}#sk-container-id-2 label.sk-toggleable__label-arrow:hover:before {color: black;}#sk-container-id-2 div.sk-estimator:hover label.sk-toggleable__label-arrow:before {color: black;}#sk-container-id-2 div.sk-toggleable__content {max-height: 0;max-width: 0;overflow: hidden;text-align: left;background-color: #f0f8ff;}#sk-container-id-2 div.sk-toggleable__content pre {margin: 0.2em;color: black;border-radius: 0.25em;background-color: #f0f8ff;}#sk-container-id-2 input.sk-toggleable__control:checked~div.sk-toggleable__content {max-height: 200px;max-width: 100%;overflow: auto;}#sk-container-id-2 input.sk-toggleable__control:checked~label.sk-toggleable__label-arrow:before {content: \"▾\";}#sk-container-id-2 div.sk-estimator input.sk-toggleable__control:checked~label.sk-toggleable__label {background-color: #d4ebff;}#sk-container-id-2 div.sk-label input.sk-toggleable__control:checked~label.sk-toggleable__label {background-color: #d4ebff;}#sk-container-id-2 input.sk-hidden--visually {border: 0;clip: rect(1px 1px 1px 1px);clip: rect(1px, 1px, 1px, 1px);height: 1px;margin: -1px;overflow: hidden;padding: 0;position: absolute;width: 1px;}#sk-container-id-2 div.sk-estimator {font-family: monospace;background-color: #f0f8ff;border: 1px dotted black;border-radius: 0.25em;box-sizing: border-box;margin-bottom: 0.5em;}#sk-container-id-2 div.sk-estimator:hover {background-color: #d4ebff;}#sk-container-id-2 div.sk-parallel-item::after {content: \"\";width: 100%;border-bottom: 1px solid gray;flex-grow: 1;}#sk-container-id-2 div.sk-label:hover label.sk-toggleable__label {background-color: #d4ebff;}#sk-container-id-2 div.sk-serial::before {content: \"\";position: absolute;border-left: 1px solid gray;box-sizing: border-box;top: 0;bottom: 0;left: 50%;z-index: 0;}#sk-container-id-2 div.sk-serial {display: flex;flex-direction: column;align-items: center;background-color: white;padding-right: 0.2em;padding-left: 0.2em;position: relative;}#sk-container-id-2 div.sk-item {position: relative;z-index: 1;}#sk-container-id-2 div.sk-parallel {display: flex;align-items: stretch;justify-content: center;background-color: white;position: relative;}#sk-container-id-2 div.sk-item::before, #sk-container-id-2 div.sk-parallel-item::before {content: \"\";position: absolute;border-left: 1px solid gray;box-sizing: border-box;top: 0;bottom: 0;left: 50%;z-index: -1;}#sk-container-id-2 div.sk-parallel-item {display: flex;flex-direction: column;z-index: 1;position: relative;background-color: white;}#sk-container-id-2 div.sk-parallel-item:first-child::after {align-self: flex-end;width: 50%;}#sk-container-id-2 div.sk-parallel-item:last-child::after {align-self: flex-start;width: 50%;}#sk-container-id-2 div.sk-parallel-item:only-child::after {width: 0;}#sk-container-id-2 div.sk-dashed-wrapped {border: 1px dashed gray;margin: 0 0.4em 0.5em 0.4em;box-sizing: border-box;padding-bottom: 0.4em;background-color: white;}#sk-container-id-2 div.sk-label label {font-family: monospace;font-weight: bold;display: inline-block;line-height: 1.2em;}#sk-container-id-2 div.sk-label-container {text-align: center;}#sk-container-id-2 div.sk-container {/* jupyter's `normalize.less` sets `[hidden] { display: none; }` but bootstrap.min.css set `[hidden] { display: none !important; }` so we also need the `!important` here to be able to override the default hidden behavior on the sphinx rendered scikit-learn.org. See: https://github.com/scikit-learn/scikit-learn/issues/21755 */display: inline-block !important;position: relative;}#sk-container-id-2 div.sk-text-repr-fallback {display: none;}</style><div id=\"sk-container-id-2\" class=\"sk-top-container\"><div class=\"sk-text-repr-fallback\"><pre>RandomForestRegressor(max_depth=6, min_samples_split=5, n_estimators=200)</pre><b>In a Jupyter environment, please rerun this cell to show the HTML representation or trust the notebook. <br />On GitHub, the HTML representation is unable to render, please try loading this page with nbviewer.org.</b></div><div class=\"sk-container\" hidden><div class=\"sk-item\"><div class=\"sk-estimator sk-toggleable\"><input class=\"sk-toggleable__control sk-hidden--visually\" id=\"sk-estimator-id-4\" type=\"checkbox\" checked><label for=\"sk-estimator-id-4\" class=\"sk-toggleable__label sk-toggleable__label-arrow\">RandomForestRegressor</label><div class=\"sk-toggleable__content\"><pre>RandomForestRegressor(max_depth=6, min_samples_split=5, n_estimators=200)</pre></div></div></div></div></div>"
      ],
      "text/plain": [
       "RandomForestRegressor(max_depth=6, min_samples_split=5, n_estimators=200)"
      ]
     },
     "execution_count": 39,
     "metadata": {},
     "output_type": "execute_result"
    }
   ],
   "source": [
    "best_rfr = rscv.best_estimator_\n",
    "best_rfr"
   ]
  },
  {
   "cell_type": "markdown",
   "id": "ae2e9e08",
   "metadata": {
    "papermill": {
     "duration": 0.019044,
     "end_time": "2024-05-07T09:55:15.979728",
     "exception": false,
     "start_time": "2024-05-07T09:55:15.960684",
     "status": "completed"
    },
    "tags": []
   },
   "source": [
    "Random Forest model gives score results around 77%. \n",
    "\n",
    "I am using XG Boost to check the results and see if this model improves the prediction scores"
   ]
  },
  {
   "cell_type": "code",
   "execution_count": 40,
   "id": "bc3fd538",
   "metadata": {
    "execution": {
     "iopub.execute_input": "2024-05-07T09:55:16.020465Z",
     "iopub.status.busy": "2024-05-07T09:55:16.020074Z",
     "iopub.status.idle": "2024-05-07T09:55:16.215621Z",
     "shell.execute_reply": "2024-05-07T09:55:16.214379Z"
    },
    "papermill": {
     "duration": 0.219098,
     "end_time": "2024-05-07T09:55:16.218190",
     "exception": false,
     "start_time": "2024-05-07T09:55:15.999092",
     "status": "completed"
    },
    "tags": []
   },
   "outputs": [],
   "source": [
    "from xgboost import XGBRegressor"
   ]
  },
  {
   "cell_type": "code",
   "execution_count": 41,
   "id": "8b3ee959",
   "metadata": {
    "execution": {
     "iopub.execute_input": "2024-05-07T09:55:16.258886Z",
     "iopub.status.busy": "2024-05-07T09:55:16.258529Z",
     "iopub.status.idle": "2024-05-07T09:55:16.439169Z",
     "shell.execute_reply": "2024-05-07T09:55:16.438299Z"
    },
    "papermill": {
     "duration": 0.203825,
     "end_time": "2024-05-07T09:55:16.441705",
     "exception": false,
     "start_time": "2024-05-07T09:55:16.237880",
     "status": "completed"
    },
    "tags": []
   },
   "outputs": [
    {
     "data": {
      "text/html": [
       "<style>#sk-container-id-3 {color: black;background-color: white;}#sk-container-id-3 pre{padding: 0;}#sk-container-id-3 div.sk-toggleable {background-color: white;}#sk-container-id-3 label.sk-toggleable__label {cursor: pointer;display: block;width: 100%;margin-bottom: 0;padding: 0.3em;box-sizing: border-box;text-align: center;}#sk-container-id-3 label.sk-toggleable__label-arrow:before {content: \"▸\";float: left;margin-right: 0.25em;color: #696969;}#sk-container-id-3 label.sk-toggleable__label-arrow:hover:before {color: black;}#sk-container-id-3 div.sk-estimator:hover label.sk-toggleable__label-arrow:before {color: black;}#sk-container-id-3 div.sk-toggleable__content {max-height: 0;max-width: 0;overflow: hidden;text-align: left;background-color: #f0f8ff;}#sk-container-id-3 div.sk-toggleable__content pre {margin: 0.2em;color: black;border-radius: 0.25em;background-color: #f0f8ff;}#sk-container-id-3 input.sk-toggleable__control:checked~div.sk-toggleable__content {max-height: 200px;max-width: 100%;overflow: auto;}#sk-container-id-3 input.sk-toggleable__control:checked~label.sk-toggleable__label-arrow:before {content: \"▾\";}#sk-container-id-3 div.sk-estimator input.sk-toggleable__control:checked~label.sk-toggleable__label {background-color: #d4ebff;}#sk-container-id-3 div.sk-label input.sk-toggleable__control:checked~label.sk-toggleable__label {background-color: #d4ebff;}#sk-container-id-3 input.sk-hidden--visually {border: 0;clip: rect(1px 1px 1px 1px);clip: rect(1px, 1px, 1px, 1px);height: 1px;margin: -1px;overflow: hidden;padding: 0;position: absolute;width: 1px;}#sk-container-id-3 div.sk-estimator {font-family: monospace;background-color: #f0f8ff;border: 1px dotted black;border-radius: 0.25em;box-sizing: border-box;margin-bottom: 0.5em;}#sk-container-id-3 div.sk-estimator:hover {background-color: #d4ebff;}#sk-container-id-3 div.sk-parallel-item::after {content: \"\";width: 100%;border-bottom: 1px solid gray;flex-grow: 1;}#sk-container-id-3 div.sk-label:hover label.sk-toggleable__label {background-color: #d4ebff;}#sk-container-id-3 div.sk-serial::before {content: \"\";position: absolute;border-left: 1px solid gray;box-sizing: border-box;top: 0;bottom: 0;left: 50%;z-index: 0;}#sk-container-id-3 div.sk-serial {display: flex;flex-direction: column;align-items: center;background-color: white;padding-right: 0.2em;padding-left: 0.2em;position: relative;}#sk-container-id-3 div.sk-item {position: relative;z-index: 1;}#sk-container-id-3 div.sk-parallel {display: flex;align-items: stretch;justify-content: center;background-color: white;position: relative;}#sk-container-id-3 div.sk-item::before, #sk-container-id-3 div.sk-parallel-item::before {content: \"\";position: absolute;border-left: 1px solid gray;box-sizing: border-box;top: 0;bottom: 0;left: 50%;z-index: -1;}#sk-container-id-3 div.sk-parallel-item {display: flex;flex-direction: column;z-index: 1;position: relative;background-color: white;}#sk-container-id-3 div.sk-parallel-item:first-child::after {align-self: flex-end;width: 50%;}#sk-container-id-3 div.sk-parallel-item:last-child::after {align-self: flex-start;width: 50%;}#sk-container-id-3 div.sk-parallel-item:only-child::after {width: 0;}#sk-container-id-3 div.sk-dashed-wrapped {border: 1px dashed gray;margin: 0 0.4em 0.5em 0.4em;box-sizing: border-box;padding-bottom: 0.4em;background-color: white;}#sk-container-id-3 div.sk-label label {font-family: monospace;font-weight: bold;display: inline-block;line-height: 1.2em;}#sk-container-id-3 div.sk-label-container {text-align: center;}#sk-container-id-3 div.sk-container {/* jupyter's `normalize.less` sets `[hidden] { display: none; }` but bootstrap.min.css set `[hidden] { display: none !important; }` so we also need the `!important` here to be able to override the default hidden behavior on the sphinx rendered scikit-learn.org. See: https://github.com/scikit-learn/scikit-learn/issues/21755 */display: inline-block !important;position: relative;}#sk-container-id-3 div.sk-text-repr-fallback {display: none;}</style><div id=\"sk-container-id-3\" class=\"sk-top-container\"><div class=\"sk-text-repr-fallback\"><pre>XGBRegressor(base_score=None, booster=None, callbacks=None,\n",
       "             colsample_bylevel=None, colsample_bynode=None,\n",
       "             colsample_bytree=None, device=None, early_stopping_rounds=None,\n",
       "             enable_categorical=False, eval_metric=None, feature_types=None,\n",
       "             gamma=None, grow_policy=None, importance_type=None,\n",
       "             interaction_constraints=None, learning_rate=None, max_bin=None,\n",
       "             max_cat_threshold=None, max_cat_to_onehot=None,\n",
       "             max_delta_step=None, max_depth=None, max_leaves=None,\n",
       "             min_child_weight=None, missing=nan, monotone_constraints=None,\n",
       "             multi_strategy=None, n_estimators=None, n_jobs=None,\n",
       "             num_parallel_tree=None, random_state=None, ...)</pre><b>In a Jupyter environment, please rerun this cell to show the HTML representation or trust the notebook. <br />On GitHub, the HTML representation is unable to render, please try loading this page with nbviewer.org.</b></div><div class=\"sk-container\" hidden><div class=\"sk-item\"><div class=\"sk-estimator sk-toggleable\"><input class=\"sk-toggleable__control sk-hidden--visually\" id=\"sk-estimator-id-5\" type=\"checkbox\" checked><label for=\"sk-estimator-id-5\" class=\"sk-toggleable__label sk-toggleable__label-arrow\">XGBRegressor</label><div class=\"sk-toggleable__content\"><pre>XGBRegressor(base_score=None, booster=None, callbacks=None,\n",
       "             colsample_bylevel=None, colsample_bynode=None,\n",
       "             colsample_bytree=None, device=None, early_stopping_rounds=None,\n",
       "             enable_categorical=False, eval_metric=None, feature_types=None,\n",
       "             gamma=None, grow_policy=None, importance_type=None,\n",
       "             interaction_constraints=None, learning_rate=None, max_bin=None,\n",
       "             max_cat_threshold=None, max_cat_to_onehot=None,\n",
       "             max_delta_step=None, max_depth=None, max_leaves=None,\n",
       "             min_child_weight=None, missing=nan, monotone_constraints=None,\n",
       "             multi_strategy=None, n_estimators=None, n_jobs=None,\n",
       "             num_parallel_tree=None, random_state=None, ...)</pre></div></div></div></div></div>"
      ],
      "text/plain": [
       "XGBRegressor(base_score=None, booster=None, callbacks=None,\n",
       "             colsample_bylevel=None, colsample_bynode=None,\n",
       "             colsample_bytree=None, device=None, early_stopping_rounds=None,\n",
       "             enable_categorical=False, eval_metric=None, feature_types=None,\n",
       "             gamma=None, grow_policy=None, importance_type=None,\n",
       "             interaction_constraints=None, learning_rate=None, max_bin=None,\n",
       "             max_cat_threshold=None, max_cat_to_onehot=None,\n",
       "             max_delta_step=None, max_depth=None, max_leaves=None,\n",
       "             min_child_weight=None, missing=nan, monotone_constraints=None,\n",
       "             multi_strategy=None, n_estimators=None, n_jobs=None,\n",
       "             num_parallel_tree=None, random_state=None, ...)"
      ]
     },
     "execution_count": 41,
     "metadata": {},
     "output_type": "execute_result"
    }
   ],
   "source": [
    "model = XGBRegressor()\n",
    "model.fit(xtrain,ytrain)"
   ]
  },
  {
   "cell_type": "code",
   "execution_count": 42,
   "id": "2781984e",
   "metadata": {
    "execution": {
     "iopub.execute_input": "2024-05-07T09:55:16.484223Z",
     "iopub.status.busy": "2024-05-07T09:55:16.483269Z",
     "iopub.status.idle": "2024-05-07T09:55:16.508677Z",
     "shell.execute_reply": "2024-05-07T09:55:16.507495Z"
    },
    "papermill": {
     "duration": 0.049296,
     "end_time": "2024-05-07T09:55:16.511479",
     "exception": false,
     "start_time": "2024-05-07T09:55:16.462183",
     "status": "completed"
    },
    "tags": []
   },
   "outputs": [
    {
     "data": {
      "text/plain": [
       "0.9250681221304905"
      ]
     },
     "execution_count": 42,
     "metadata": {},
     "output_type": "execute_result"
    }
   ],
   "source": [
    "model.score(xtrain,ytrain)"
   ]
  },
  {
   "cell_type": "code",
   "execution_count": 43,
   "id": "a8e881b6",
   "metadata": {
    "execution": {
     "iopub.execute_input": "2024-05-07T09:55:16.554245Z",
     "iopub.status.busy": "2024-05-07T09:55:16.553848Z",
     "iopub.status.idle": "2024-05-07T09:55:16.575201Z",
     "shell.execute_reply": "2024-05-07T09:55:16.574044Z"
    },
    "papermill": {
     "duration": 0.045674,
     "end_time": "2024-05-07T09:55:16.577735",
     "exception": false,
     "start_time": "2024-05-07T09:55:16.532061",
     "status": "completed"
    },
    "tags": []
   },
   "outputs": [
    {
     "data": {
      "text/plain": [
       "0.7841636539213964"
      ]
     },
     "execution_count": 43,
     "metadata": {},
     "output_type": "execute_result"
    }
   ],
   "source": [
    "model.score(xtest,ytest)"
   ]
  },
  {
   "cell_type": "code",
   "execution_count": 44,
   "id": "44e4e016",
   "metadata": {
    "execution": {
     "iopub.execute_input": "2024-05-07T09:55:16.620365Z",
     "iopub.status.busy": "2024-05-07T09:55:16.619953Z",
     "iopub.status.idle": "2024-05-07T09:55:16.624544Z",
     "shell.execute_reply": "2024-05-07T09:55:16.623344Z"
    },
    "papermill": {
     "duration": 0.028416,
     "end_time": "2024-05-07T09:55:16.626760",
     "exception": false,
     "start_time": "2024-05-07T09:55:16.598344",
     "status": "completed"
    },
    "tags": []
   },
   "outputs": [],
   "source": [
    "from sklearn.model_selection import GridSearchCV"
   ]
  },
  {
   "cell_type": "code",
   "execution_count": 45,
   "id": "c95273ee",
   "metadata": {
    "execution": {
     "iopub.execute_input": "2024-05-07T09:55:16.670421Z",
     "iopub.status.busy": "2024-05-07T09:55:16.669740Z",
     "iopub.status.idle": "2024-05-07T09:55:16.674943Z",
     "shell.execute_reply": "2024-05-07T09:55:16.673971Z"
    },
    "papermill": {
     "duration": 0.030147,
     "end_time": "2024-05-07T09:55:16.677346",
     "exception": false,
     "start_time": "2024-05-07T09:55:16.647199",
     "status": "completed"
    },
    "tags": []
   },
   "outputs": [],
   "source": [
    "params = {'n_estimators':[200,300,500,600,800,1000],\n",
    "          'learning_rate':[0.05,0.1,0.2,0.3],\n",
    "          'max_depth':[5,6,7,8,9,10],\n",
    "          'min_child_weight':[1,2,3],\n",
    "          'objective':['reg:squarederror'],\n",
    "          'gamma':[0.1,0.2,0.3,0.4]}"
   ]
  },
  {
   "cell_type": "code",
   "execution_count": 46,
   "id": "e2bc3b72",
   "metadata": {
    "execution": {
     "iopub.execute_input": "2024-05-07T09:55:16.720455Z",
     "iopub.status.busy": "2024-05-07T09:55:16.720049Z",
     "iopub.status.idle": "2024-05-07T10:32:43.024470Z",
     "shell.execute_reply": "2024-05-07T10:32:43.023105Z"
    },
    "papermill": {
     "duration": 2246.346458,
     "end_time": "2024-05-07T10:32:43.044268",
     "exception": false,
     "start_time": "2024-05-07T09:55:16.697810",
     "status": "completed"
    },
    "tags": []
   },
   "outputs": [
    {
     "data": {
      "text/html": [
       "<style>#sk-container-id-4 {color: black;background-color: white;}#sk-container-id-4 pre{padding: 0;}#sk-container-id-4 div.sk-toggleable {background-color: white;}#sk-container-id-4 label.sk-toggleable__label {cursor: pointer;display: block;width: 100%;margin-bottom: 0;padding: 0.3em;box-sizing: border-box;text-align: center;}#sk-container-id-4 label.sk-toggleable__label-arrow:before {content: \"▸\";float: left;margin-right: 0.25em;color: #696969;}#sk-container-id-4 label.sk-toggleable__label-arrow:hover:before {color: black;}#sk-container-id-4 div.sk-estimator:hover label.sk-toggleable__label-arrow:before {color: black;}#sk-container-id-4 div.sk-toggleable__content {max-height: 0;max-width: 0;overflow: hidden;text-align: left;background-color: #f0f8ff;}#sk-container-id-4 div.sk-toggleable__content pre {margin: 0.2em;color: black;border-radius: 0.25em;background-color: #f0f8ff;}#sk-container-id-4 input.sk-toggleable__control:checked~div.sk-toggleable__content {max-height: 200px;max-width: 100%;overflow: auto;}#sk-container-id-4 input.sk-toggleable__control:checked~label.sk-toggleable__label-arrow:before {content: \"▾\";}#sk-container-id-4 div.sk-estimator input.sk-toggleable__control:checked~label.sk-toggleable__label {background-color: #d4ebff;}#sk-container-id-4 div.sk-label input.sk-toggleable__control:checked~label.sk-toggleable__label {background-color: #d4ebff;}#sk-container-id-4 input.sk-hidden--visually {border: 0;clip: rect(1px 1px 1px 1px);clip: rect(1px, 1px, 1px, 1px);height: 1px;margin: -1px;overflow: hidden;padding: 0;position: absolute;width: 1px;}#sk-container-id-4 div.sk-estimator {font-family: monospace;background-color: #f0f8ff;border: 1px dotted black;border-radius: 0.25em;box-sizing: border-box;margin-bottom: 0.5em;}#sk-container-id-4 div.sk-estimator:hover {background-color: #d4ebff;}#sk-container-id-4 div.sk-parallel-item::after {content: \"\";width: 100%;border-bottom: 1px solid gray;flex-grow: 1;}#sk-container-id-4 div.sk-label:hover label.sk-toggleable__label {background-color: #d4ebff;}#sk-container-id-4 div.sk-serial::before {content: \"\";position: absolute;border-left: 1px solid gray;box-sizing: border-box;top: 0;bottom: 0;left: 50%;z-index: 0;}#sk-container-id-4 div.sk-serial {display: flex;flex-direction: column;align-items: center;background-color: white;padding-right: 0.2em;padding-left: 0.2em;position: relative;}#sk-container-id-4 div.sk-item {position: relative;z-index: 1;}#sk-container-id-4 div.sk-parallel {display: flex;align-items: stretch;justify-content: center;background-color: white;position: relative;}#sk-container-id-4 div.sk-item::before, #sk-container-id-4 div.sk-parallel-item::before {content: \"\";position: absolute;border-left: 1px solid gray;box-sizing: border-box;top: 0;bottom: 0;left: 50%;z-index: -1;}#sk-container-id-4 div.sk-parallel-item {display: flex;flex-direction: column;z-index: 1;position: relative;background-color: white;}#sk-container-id-4 div.sk-parallel-item:first-child::after {align-self: flex-end;width: 50%;}#sk-container-id-4 div.sk-parallel-item:last-child::after {align-self: flex-start;width: 50%;}#sk-container-id-4 div.sk-parallel-item:only-child::after {width: 0;}#sk-container-id-4 div.sk-dashed-wrapped {border: 1px dashed gray;margin: 0 0.4em 0.5em 0.4em;box-sizing: border-box;padding-bottom: 0.4em;background-color: white;}#sk-container-id-4 div.sk-label label {font-family: monospace;font-weight: bold;display: inline-block;line-height: 1.2em;}#sk-container-id-4 div.sk-label-container {text-align: center;}#sk-container-id-4 div.sk-container {/* jupyter's `normalize.less` sets `[hidden] { display: none; }` but bootstrap.min.css set `[hidden] { display: none !important; }` so we also need the `!important` here to be able to override the default hidden behavior on the sphinx rendered scikit-learn.org. See: https://github.com/scikit-learn/scikit-learn/issues/21755 */display: inline-block !important;position: relative;}#sk-container-id-4 div.sk-text-repr-fallback {display: none;}</style><div id=\"sk-container-id-4\" class=\"sk-top-container\"><div class=\"sk-text-repr-fallback\"><pre>GridSearchCV(cv=5,\n",
       "             estimator=XGBRegressor(base_score=None, booster=None,\n",
       "                                    callbacks=None, colsample_bylevel=None,\n",
       "                                    colsample_bynode=None,\n",
       "                                    colsample_bytree=None, device=None,\n",
       "                                    early_stopping_rounds=None,\n",
       "                                    enable_categorical=False, eval_metric=None,\n",
       "                                    feature_types=None, gamma=None,\n",
       "                                    grow_policy=None, importance_type=None,\n",
       "                                    interaction_constraints=None,\n",
       "                                    learning_rate=None, m...\n",
       "                                    monotone_constraints=None,\n",
       "                                    multi_strategy=None, n_estimators=None,\n",
       "                                    n_jobs=None, num_parallel_tree=None,\n",
       "                                    random_state=None, ...),\n",
       "             param_grid={&#x27;gamma&#x27;: [0.1, 0.2, 0.3, 0.4],\n",
       "                         &#x27;learning_rate&#x27;: [0.05, 0.1, 0.2, 0.3],\n",
       "                         &#x27;max_depth&#x27;: [5, 6, 7, 8, 9, 10],\n",
       "                         &#x27;min_child_weight&#x27;: [1, 2, 3],\n",
       "                         &#x27;n_estimators&#x27;: [200, 300, 500, 600, 800, 1000],\n",
       "                         &#x27;objective&#x27;: [&#x27;reg:squarederror&#x27;]},\n",
       "             scoring=&#x27;neg_mean_squared_error&#x27;)</pre><b>In a Jupyter environment, please rerun this cell to show the HTML representation or trust the notebook. <br />On GitHub, the HTML representation is unable to render, please try loading this page with nbviewer.org.</b></div><div class=\"sk-container\" hidden><div class=\"sk-item sk-dashed-wrapped\"><div class=\"sk-label-container\"><div class=\"sk-label sk-toggleable\"><input class=\"sk-toggleable__control sk-hidden--visually\" id=\"sk-estimator-id-6\" type=\"checkbox\" ><label for=\"sk-estimator-id-6\" class=\"sk-toggleable__label sk-toggleable__label-arrow\">GridSearchCV</label><div class=\"sk-toggleable__content\"><pre>GridSearchCV(cv=5,\n",
       "             estimator=XGBRegressor(base_score=None, booster=None,\n",
       "                                    callbacks=None, colsample_bylevel=None,\n",
       "                                    colsample_bynode=None,\n",
       "                                    colsample_bytree=None, device=None,\n",
       "                                    early_stopping_rounds=None,\n",
       "                                    enable_categorical=False, eval_metric=None,\n",
       "                                    feature_types=None, gamma=None,\n",
       "                                    grow_policy=None, importance_type=None,\n",
       "                                    interaction_constraints=None,\n",
       "                                    learning_rate=None, m...\n",
       "                                    monotone_constraints=None,\n",
       "                                    multi_strategy=None, n_estimators=None,\n",
       "                                    n_jobs=None, num_parallel_tree=None,\n",
       "                                    random_state=None, ...),\n",
       "             param_grid={&#x27;gamma&#x27;: [0.1, 0.2, 0.3, 0.4],\n",
       "                         &#x27;learning_rate&#x27;: [0.05, 0.1, 0.2, 0.3],\n",
       "                         &#x27;max_depth&#x27;: [5, 6, 7, 8, 9, 10],\n",
       "                         &#x27;min_child_weight&#x27;: [1, 2, 3],\n",
       "                         &#x27;n_estimators&#x27;: [200, 300, 500, 600, 800, 1000],\n",
       "                         &#x27;objective&#x27;: [&#x27;reg:squarederror&#x27;]},\n",
       "             scoring=&#x27;neg_mean_squared_error&#x27;)</pre></div></div></div><div class=\"sk-parallel\"><div class=\"sk-parallel-item\"><div class=\"sk-item\"><div class=\"sk-label-container\"><div class=\"sk-label sk-toggleable\"><input class=\"sk-toggleable__control sk-hidden--visually\" id=\"sk-estimator-id-7\" type=\"checkbox\" ><label for=\"sk-estimator-id-7\" class=\"sk-toggleable__label sk-toggleable__label-arrow\">estimator: XGBRegressor</label><div class=\"sk-toggleable__content\"><pre>XGBRegressor(base_score=None, booster=None, callbacks=None,\n",
       "             colsample_bylevel=None, colsample_bynode=None,\n",
       "             colsample_bytree=None, device=None, early_stopping_rounds=None,\n",
       "             enable_categorical=False, eval_metric=None, feature_types=None,\n",
       "             gamma=None, grow_policy=None, importance_type=None,\n",
       "             interaction_constraints=None, learning_rate=None, max_bin=None,\n",
       "             max_cat_threshold=None, max_cat_to_onehot=None,\n",
       "             max_delta_step=None, max_depth=None, max_leaves=None,\n",
       "             min_child_weight=None, missing=nan, monotone_constraints=None,\n",
       "             multi_strategy=None, n_estimators=None, n_jobs=None,\n",
       "             num_parallel_tree=None, random_state=None, ...)</pre></div></div></div><div class=\"sk-serial\"><div class=\"sk-item\"><div class=\"sk-estimator sk-toggleable\"><input class=\"sk-toggleable__control sk-hidden--visually\" id=\"sk-estimator-id-8\" type=\"checkbox\" ><label for=\"sk-estimator-id-8\" class=\"sk-toggleable__label sk-toggleable__label-arrow\">XGBRegressor</label><div class=\"sk-toggleable__content\"><pre>XGBRegressor(base_score=None, booster=None, callbacks=None,\n",
       "             colsample_bylevel=None, colsample_bynode=None,\n",
       "             colsample_bytree=None, device=None, early_stopping_rounds=None,\n",
       "             enable_categorical=False, eval_metric=None, feature_types=None,\n",
       "             gamma=None, grow_policy=None, importance_type=None,\n",
       "             interaction_constraints=None, learning_rate=None, max_bin=None,\n",
       "             max_cat_threshold=None, max_cat_to_onehot=None,\n",
       "             max_delta_step=None, max_depth=None, max_leaves=None,\n",
       "             min_child_weight=None, missing=nan, monotone_constraints=None,\n",
       "             multi_strategy=None, n_estimators=None, n_jobs=None,\n",
       "             num_parallel_tree=None, random_state=None, ...)</pre></div></div></div></div></div></div></div></div></div></div>"
      ],
      "text/plain": [
       "GridSearchCV(cv=5,\n",
       "             estimator=XGBRegressor(base_score=None, booster=None,\n",
       "                                    callbacks=None, colsample_bylevel=None,\n",
       "                                    colsample_bynode=None,\n",
       "                                    colsample_bytree=None, device=None,\n",
       "                                    early_stopping_rounds=None,\n",
       "                                    enable_categorical=False, eval_metric=None,\n",
       "                                    feature_types=None, gamma=None,\n",
       "                                    grow_policy=None, importance_type=None,\n",
       "                                    interaction_constraints=None,\n",
       "                                    learning_rate=None, m...\n",
       "                                    monotone_constraints=None,\n",
       "                                    multi_strategy=None, n_estimators=None,\n",
       "                                    n_jobs=None, num_parallel_tree=None,\n",
       "                                    random_state=None, ...),\n",
       "             param_grid={'gamma': [0.1, 0.2, 0.3, 0.4],\n",
       "                         'learning_rate': [0.05, 0.1, 0.2, 0.3],\n",
       "                         'max_depth': [5, 6, 7, 8, 9, 10],\n",
       "                         'min_child_weight': [1, 2, 3],\n",
       "                         'n_estimators': [200, 300, 500, 600, 800, 1000],\n",
       "                         'objective': ['reg:squarederror']},\n",
       "             scoring='neg_mean_squared_error')"
      ]
     },
     "execution_count": 46,
     "metadata": {},
     "output_type": "execute_result"
    }
   ],
   "source": [
    "gscv = GridSearchCV(model,params,scoring='neg_mean_squared_error',cv=5)\n",
    "gscv.fit(xtrain,ytrain)"
   ]
  },
  {
   "cell_type": "code",
   "execution_count": 47,
   "id": "bc8b0f23",
   "metadata": {
    "execution": {
     "iopub.execute_input": "2024-05-07T10:32:43.087378Z",
     "iopub.status.busy": "2024-05-07T10:32:43.086963Z",
     "iopub.status.idle": "2024-05-07T10:32:43.093811Z",
     "shell.execute_reply": "2024-05-07T10:32:43.092743Z"
    },
    "papermill": {
     "duration": 0.031535,
     "end_time": "2024-05-07T10:32:43.096181",
     "exception": false,
     "start_time": "2024-05-07T10:32:43.064646",
     "status": "completed"
    },
    "tags": []
   },
   "outputs": [
    {
     "data": {
      "text/plain": [
       "{'gamma': 0.1,\n",
       " 'learning_rate': 0.05,\n",
       " 'max_depth': 5,\n",
       " 'min_child_weight': 3,\n",
       " 'n_estimators': 500,\n",
       " 'objective': 'reg:squarederror'}"
      ]
     },
     "execution_count": 47,
     "metadata": {},
     "output_type": "execute_result"
    }
   ],
   "source": [
    "gscv.best_params_"
   ]
  },
  {
   "cell_type": "code",
   "execution_count": 48,
   "id": "a358e403",
   "metadata": {
    "execution": {
     "iopub.execute_input": "2024-05-07T10:32:43.141156Z",
     "iopub.status.busy": "2024-05-07T10:32:43.140767Z",
     "iopub.status.idle": "2024-05-07T10:32:43.151705Z",
     "shell.execute_reply": "2024-05-07T10:32:43.150573Z"
    },
    "papermill": {
     "duration": 0.036071,
     "end_time": "2024-05-07T10:32:43.154163",
     "exception": false,
     "start_time": "2024-05-07T10:32:43.118092",
     "status": "completed"
    },
    "tags": []
   },
   "outputs": [
    {
     "data": {
      "text/html": [
       "<style>#sk-container-id-5 {color: black;background-color: white;}#sk-container-id-5 pre{padding: 0;}#sk-container-id-5 div.sk-toggleable {background-color: white;}#sk-container-id-5 label.sk-toggleable__label {cursor: pointer;display: block;width: 100%;margin-bottom: 0;padding: 0.3em;box-sizing: border-box;text-align: center;}#sk-container-id-5 label.sk-toggleable__label-arrow:before {content: \"▸\";float: left;margin-right: 0.25em;color: #696969;}#sk-container-id-5 label.sk-toggleable__label-arrow:hover:before {color: black;}#sk-container-id-5 div.sk-estimator:hover label.sk-toggleable__label-arrow:before {color: black;}#sk-container-id-5 div.sk-toggleable__content {max-height: 0;max-width: 0;overflow: hidden;text-align: left;background-color: #f0f8ff;}#sk-container-id-5 div.sk-toggleable__content pre {margin: 0.2em;color: black;border-radius: 0.25em;background-color: #f0f8ff;}#sk-container-id-5 input.sk-toggleable__control:checked~div.sk-toggleable__content {max-height: 200px;max-width: 100%;overflow: auto;}#sk-container-id-5 input.sk-toggleable__control:checked~label.sk-toggleable__label-arrow:before {content: \"▾\";}#sk-container-id-5 div.sk-estimator input.sk-toggleable__control:checked~label.sk-toggleable__label {background-color: #d4ebff;}#sk-container-id-5 div.sk-label input.sk-toggleable__control:checked~label.sk-toggleable__label {background-color: #d4ebff;}#sk-container-id-5 input.sk-hidden--visually {border: 0;clip: rect(1px 1px 1px 1px);clip: rect(1px, 1px, 1px, 1px);height: 1px;margin: -1px;overflow: hidden;padding: 0;position: absolute;width: 1px;}#sk-container-id-5 div.sk-estimator {font-family: monospace;background-color: #f0f8ff;border: 1px dotted black;border-radius: 0.25em;box-sizing: border-box;margin-bottom: 0.5em;}#sk-container-id-5 div.sk-estimator:hover {background-color: #d4ebff;}#sk-container-id-5 div.sk-parallel-item::after {content: \"\";width: 100%;border-bottom: 1px solid gray;flex-grow: 1;}#sk-container-id-5 div.sk-label:hover label.sk-toggleable__label {background-color: #d4ebff;}#sk-container-id-5 div.sk-serial::before {content: \"\";position: absolute;border-left: 1px solid gray;box-sizing: border-box;top: 0;bottom: 0;left: 50%;z-index: 0;}#sk-container-id-5 div.sk-serial {display: flex;flex-direction: column;align-items: center;background-color: white;padding-right: 0.2em;padding-left: 0.2em;position: relative;}#sk-container-id-5 div.sk-item {position: relative;z-index: 1;}#sk-container-id-5 div.sk-parallel {display: flex;align-items: stretch;justify-content: center;background-color: white;position: relative;}#sk-container-id-5 div.sk-item::before, #sk-container-id-5 div.sk-parallel-item::before {content: \"\";position: absolute;border-left: 1px solid gray;box-sizing: border-box;top: 0;bottom: 0;left: 50%;z-index: -1;}#sk-container-id-5 div.sk-parallel-item {display: flex;flex-direction: column;z-index: 1;position: relative;background-color: white;}#sk-container-id-5 div.sk-parallel-item:first-child::after {align-self: flex-end;width: 50%;}#sk-container-id-5 div.sk-parallel-item:last-child::after {align-self: flex-start;width: 50%;}#sk-container-id-5 div.sk-parallel-item:only-child::after {width: 0;}#sk-container-id-5 div.sk-dashed-wrapped {border: 1px dashed gray;margin: 0 0.4em 0.5em 0.4em;box-sizing: border-box;padding-bottom: 0.4em;background-color: white;}#sk-container-id-5 div.sk-label label {font-family: monospace;font-weight: bold;display: inline-block;line-height: 1.2em;}#sk-container-id-5 div.sk-label-container {text-align: center;}#sk-container-id-5 div.sk-container {/* jupyter's `normalize.less` sets `[hidden] { display: none; }` but bootstrap.min.css set `[hidden] { display: none !important; }` so we also need the `!important` here to be able to override the default hidden behavior on the sphinx rendered scikit-learn.org. See: https://github.com/scikit-learn/scikit-learn/issues/21755 */display: inline-block !important;position: relative;}#sk-container-id-5 div.sk-text-repr-fallback {display: none;}</style><div id=\"sk-container-id-5\" class=\"sk-top-container\"><div class=\"sk-text-repr-fallback\"><pre>XGBRegressor(base_score=None, booster=None, callbacks=None,\n",
       "             colsample_bylevel=None, colsample_bynode=None,\n",
       "             colsample_bytree=None, device=None, early_stopping_rounds=None,\n",
       "             enable_categorical=False, eval_metric=None, feature_types=None,\n",
       "             gamma=0.1, grow_policy=None, importance_type=None,\n",
       "             interaction_constraints=None, learning_rate=0.05, max_bin=None,\n",
       "             max_cat_threshold=None, max_cat_to_onehot=None,\n",
       "             max_delta_step=None, max_depth=5, max_leaves=None,\n",
       "             min_child_weight=3, missing=nan, monotone_constraints=None,\n",
       "             multi_strategy=None, n_estimators=500, n_jobs=None,\n",
       "             num_parallel_tree=None, random_state=None, ...)</pre><b>In a Jupyter environment, please rerun this cell to show the HTML representation or trust the notebook. <br />On GitHub, the HTML representation is unable to render, please try loading this page with nbviewer.org.</b></div><div class=\"sk-container\" hidden><div class=\"sk-item\"><div class=\"sk-estimator sk-toggleable\"><input class=\"sk-toggleable__control sk-hidden--visually\" id=\"sk-estimator-id-9\" type=\"checkbox\" checked><label for=\"sk-estimator-id-9\" class=\"sk-toggleable__label sk-toggleable__label-arrow\">XGBRegressor</label><div class=\"sk-toggleable__content\"><pre>XGBRegressor(base_score=None, booster=None, callbacks=None,\n",
       "             colsample_bylevel=None, colsample_bynode=None,\n",
       "             colsample_bytree=None, device=None, early_stopping_rounds=None,\n",
       "             enable_categorical=False, eval_metric=None, feature_types=None,\n",
       "             gamma=0.1, grow_policy=None, importance_type=None,\n",
       "             interaction_constraints=None, learning_rate=0.05, max_bin=None,\n",
       "             max_cat_threshold=None, max_cat_to_onehot=None,\n",
       "             max_delta_step=None, max_depth=5, max_leaves=None,\n",
       "             min_child_weight=3, missing=nan, monotone_constraints=None,\n",
       "             multi_strategy=None, n_estimators=500, n_jobs=None,\n",
       "             num_parallel_tree=None, random_state=None, ...)</pre></div></div></div></div></div>"
      ],
      "text/plain": [
       "XGBRegressor(base_score=None, booster=None, callbacks=None,\n",
       "             colsample_bylevel=None, colsample_bynode=None,\n",
       "             colsample_bytree=None, device=None, early_stopping_rounds=None,\n",
       "             enable_categorical=False, eval_metric=None, feature_types=None,\n",
       "             gamma=0.1, grow_policy=None, importance_type=None,\n",
       "             interaction_constraints=None, learning_rate=0.05, max_bin=None,\n",
       "             max_cat_threshold=None, max_cat_to_onehot=None,\n",
       "             max_delta_step=None, max_depth=5, max_leaves=None,\n",
       "             min_child_weight=3, missing=nan, monotone_constraints=None,\n",
       "             multi_strategy=None, n_estimators=500, n_jobs=None,\n",
       "             num_parallel_tree=None, random_state=None, ...)"
      ]
     },
     "execution_count": 48,
     "metadata": {},
     "output_type": "execute_result"
    }
   ],
   "source": [
    "best_xgb = gscv.best_estimator_\n",
    "best_xgb"
   ]
  },
  {
   "cell_type": "code",
   "execution_count": 49,
   "id": "80a8a09e",
   "metadata": {
    "execution": {
     "iopub.execute_input": "2024-05-07T10:32:43.199191Z",
     "iopub.status.busy": "2024-05-07T10:32:43.198777Z",
     "iopub.status.idle": "2024-05-07T10:32:43.249225Z",
     "shell.execute_reply": "2024-05-07T10:32:43.248341Z"
    },
    "papermill": {
     "duration": 0.074981,
     "end_time": "2024-05-07T10:32:43.251494",
     "exception": false,
     "start_time": "2024-05-07T10:32:43.176513",
     "status": "completed"
    },
    "tags": []
   },
   "outputs": [
    {
     "data": {
      "text/plain": [
       "0.8574709771358586"
      ]
     },
     "execution_count": 49,
     "metadata": {},
     "output_type": "execute_result"
    }
   ],
   "source": [
    "best_xgb.score(xtrain,ytrain)"
   ]
  },
  {
   "cell_type": "code",
   "execution_count": 50,
   "id": "5225d0c6",
   "metadata": {
    "execution": {
     "iopub.execute_input": "2024-05-07T10:32:43.296477Z",
     "iopub.status.busy": "2024-05-07T10:32:43.296089Z",
     "iopub.status.idle": "2024-05-07T10:32:43.318855Z",
     "shell.execute_reply": "2024-05-07T10:32:43.317790Z"
    },
    "papermill": {
     "duration": 0.047807,
     "end_time": "2024-05-07T10:32:43.321339",
     "exception": false,
     "start_time": "2024-05-07T10:32:43.273532",
     "status": "completed"
    },
    "tags": []
   },
   "outputs": [
    {
     "data": {
      "text/plain": [
       "0.8021907473809164"
      ]
     },
     "execution_count": 50,
     "metadata": {},
     "output_type": "execute_result"
    }
   ],
   "source": [
    "best_xgb.score(xtest,ytest)"
   ]
  },
  {
   "cell_type": "markdown",
   "id": "68ac8b84",
   "metadata": {
    "papermill": {
     "duration": 0.021181,
     "end_time": "2024-05-07T10:32:43.366339",
     "exception": false,
     "start_time": "2024-05-07T10:32:43.345158",
     "status": "completed"
    },
    "tags": []
   },
   "source": [
    "Lets check by tuning other parameters to this model"
   ]
  },
  {
   "cell_type": "code",
   "execution_count": 51,
   "id": "938ee1d5",
   "metadata": {
    "execution": {
     "iopub.execute_input": "2024-05-07T10:32:43.415657Z",
     "iopub.status.busy": "2024-05-07T10:32:43.414935Z",
     "iopub.status.idle": "2024-05-07T10:32:43.421618Z",
     "shell.execute_reply": "2024-05-07T10:32:43.420360Z"
    },
    "papermill": {
     "duration": 0.036259,
     "end_time": "2024-05-07T10:32:43.423907",
     "exception": false,
     "start_time": "2024-05-07T10:32:43.387648",
     "status": "completed"
    },
    "tags": []
   },
   "outputs": [],
   "source": [
    "params1 = {'subsample':[0.5,0.6,0.7,0.8,0.9,1],\n",
    "           'colsample_bytree':[0.5,0.6,0.7,0.8,0.9,1]}"
   ]
  },
  {
   "cell_type": "code",
   "execution_count": 52,
   "id": "eeb984f8",
   "metadata": {
    "execution": {
     "iopub.execute_input": "2024-05-07T10:32:43.476717Z",
     "iopub.status.busy": "2024-05-07T10:32:43.476264Z",
     "iopub.status.idle": "2024-05-07T10:34:02.170648Z",
     "shell.execute_reply": "2024-05-07T10:34:02.169441Z"
    },
    "papermill": {
     "duration": 78.743963,
     "end_time": "2024-05-07T10:34:02.195518",
     "exception": false,
     "start_time": "2024-05-07T10:32:43.451555",
     "status": "completed"
    },
    "tags": []
   },
   "outputs": [
    {
     "data": {
      "text/html": [
       "<style>#sk-container-id-6 {color: black;background-color: white;}#sk-container-id-6 pre{padding: 0;}#sk-container-id-6 div.sk-toggleable {background-color: white;}#sk-container-id-6 label.sk-toggleable__label {cursor: pointer;display: block;width: 100%;margin-bottom: 0;padding: 0.3em;box-sizing: border-box;text-align: center;}#sk-container-id-6 label.sk-toggleable__label-arrow:before {content: \"▸\";float: left;margin-right: 0.25em;color: #696969;}#sk-container-id-6 label.sk-toggleable__label-arrow:hover:before {color: black;}#sk-container-id-6 div.sk-estimator:hover label.sk-toggleable__label-arrow:before {color: black;}#sk-container-id-6 div.sk-toggleable__content {max-height: 0;max-width: 0;overflow: hidden;text-align: left;background-color: #f0f8ff;}#sk-container-id-6 div.sk-toggleable__content pre {margin: 0.2em;color: black;border-radius: 0.25em;background-color: #f0f8ff;}#sk-container-id-6 input.sk-toggleable__control:checked~div.sk-toggleable__content {max-height: 200px;max-width: 100%;overflow: auto;}#sk-container-id-6 input.sk-toggleable__control:checked~label.sk-toggleable__label-arrow:before {content: \"▾\";}#sk-container-id-6 div.sk-estimator input.sk-toggleable__control:checked~label.sk-toggleable__label {background-color: #d4ebff;}#sk-container-id-6 div.sk-label input.sk-toggleable__control:checked~label.sk-toggleable__label {background-color: #d4ebff;}#sk-container-id-6 input.sk-hidden--visually {border: 0;clip: rect(1px 1px 1px 1px);clip: rect(1px, 1px, 1px, 1px);height: 1px;margin: -1px;overflow: hidden;padding: 0;position: absolute;width: 1px;}#sk-container-id-6 div.sk-estimator {font-family: monospace;background-color: #f0f8ff;border: 1px dotted black;border-radius: 0.25em;box-sizing: border-box;margin-bottom: 0.5em;}#sk-container-id-6 div.sk-estimator:hover {background-color: #d4ebff;}#sk-container-id-6 div.sk-parallel-item::after {content: \"\";width: 100%;border-bottom: 1px solid gray;flex-grow: 1;}#sk-container-id-6 div.sk-label:hover label.sk-toggleable__label {background-color: #d4ebff;}#sk-container-id-6 div.sk-serial::before {content: \"\";position: absolute;border-left: 1px solid gray;box-sizing: border-box;top: 0;bottom: 0;left: 50%;z-index: 0;}#sk-container-id-6 div.sk-serial {display: flex;flex-direction: column;align-items: center;background-color: white;padding-right: 0.2em;padding-left: 0.2em;position: relative;}#sk-container-id-6 div.sk-item {position: relative;z-index: 1;}#sk-container-id-6 div.sk-parallel {display: flex;align-items: stretch;justify-content: center;background-color: white;position: relative;}#sk-container-id-6 div.sk-item::before, #sk-container-id-6 div.sk-parallel-item::before {content: \"\";position: absolute;border-left: 1px solid gray;box-sizing: border-box;top: 0;bottom: 0;left: 50%;z-index: -1;}#sk-container-id-6 div.sk-parallel-item {display: flex;flex-direction: column;z-index: 1;position: relative;background-color: white;}#sk-container-id-6 div.sk-parallel-item:first-child::after {align-self: flex-end;width: 50%;}#sk-container-id-6 div.sk-parallel-item:last-child::after {align-self: flex-start;width: 50%;}#sk-container-id-6 div.sk-parallel-item:only-child::after {width: 0;}#sk-container-id-6 div.sk-dashed-wrapped {border: 1px dashed gray;margin: 0 0.4em 0.5em 0.4em;box-sizing: border-box;padding-bottom: 0.4em;background-color: white;}#sk-container-id-6 div.sk-label label {font-family: monospace;font-weight: bold;display: inline-block;line-height: 1.2em;}#sk-container-id-6 div.sk-label-container {text-align: center;}#sk-container-id-6 div.sk-container {/* jupyter's `normalize.less` sets `[hidden] { display: none; }` but bootstrap.min.css set `[hidden] { display: none !important; }` so we also need the `!important` here to be able to override the default hidden behavior on the sphinx rendered scikit-learn.org. See: https://github.com/scikit-learn/scikit-learn/issues/21755 */display: inline-block !important;position: relative;}#sk-container-id-6 div.sk-text-repr-fallback {display: none;}</style><div id=\"sk-container-id-6\" class=\"sk-top-container\"><div class=\"sk-text-repr-fallback\"><pre>GridSearchCV(cv=5,\n",
       "             estimator=XGBRegressor(base_score=None, booster=None,\n",
       "                                    callbacks=None, colsample_bylevel=None,\n",
       "                                    colsample_bynode=None,\n",
       "                                    colsample_bytree=None, device=None,\n",
       "                                    early_stopping_rounds=None,\n",
       "                                    enable_categorical=False, eval_metric=None,\n",
       "                                    feature_types=None, gamma=0.1,\n",
       "                                    grow_policy=None, importance_type=None,\n",
       "                                    interaction_constraints=None,\n",
       "                                    learning_rate=0.05, ma...\n",
       "                                    max_cat_threshold=None,\n",
       "                                    max_cat_to_onehot=None, max_delta_step=None,\n",
       "                                    max_depth=5, max_leaves=None,\n",
       "                                    min_child_weight=3, missing=nan,\n",
       "                                    monotone_constraints=None,\n",
       "                                    multi_strategy=None, n_estimators=500,\n",
       "                                    n_jobs=None, num_parallel_tree=None,\n",
       "                                    random_state=None, ...),\n",
       "             param_grid={&#x27;colsample_bytree&#x27;: [0.5, 0.6, 0.7, 0.8, 0.9, 1],\n",
       "                         &#x27;subsample&#x27;: [0.5, 0.6, 0.7, 0.8, 0.9, 1]},\n",
       "             scoring=&#x27;neg_mean_squared_error&#x27;)</pre><b>In a Jupyter environment, please rerun this cell to show the HTML representation or trust the notebook. <br />On GitHub, the HTML representation is unable to render, please try loading this page with nbviewer.org.</b></div><div class=\"sk-container\" hidden><div class=\"sk-item sk-dashed-wrapped\"><div class=\"sk-label-container\"><div class=\"sk-label sk-toggleable\"><input class=\"sk-toggleable__control sk-hidden--visually\" id=\"sk-estimator-id-10\" type=\"checkbox\" ><label for=\"sk-estimator-id-10\" class=\"sk-toggleable__label sk-toggleable__label-arrow\">GridSearchCV</label><div class=\"sk-toggleable__content\"><pre>GridSearchCV(cv=5,\n",
       "             estimator=XGBRegressor(base_score=None, booster=None,\n",
       "                                    callbacks=None, colsample_bylevel=None,\n",
       "                                    colsample_bynode=None,\n",
       "                                    colsample_bytree=None, device=None,\n",
       "                                    early_stopping_rounds=None,\n",
       "                                    enable_categorical=False, eval_metric=None,\n",
       "                                    feature_types=None, gamma=0.1,\n",
       "                                    grow_policy=None, importance_type=None,\n",
       "                                    interaction_constraints=None,\n",
       "                                    learning_rate=0.05, ma...\n",
       "                                    max_cat_threshold=None,\n",
       "                                    max_cat_to_onehot=None, max_delta_step=None,\n",
       "                                    max_depth=5, max_leaves=None,\n",
       "                                    min_child_weight=3, missing=nan,\n",
       "                                    monotone_constraints=None,\n",
       "                                    multi_strategy=None, n_estimators=500,\n",
       "                                    n_jobs=None, num_parallel_tree=None,\n",
       "                                    random_state=None, ...),\n",
       "             param_grid={&#x27;colsample_bytree&#x27;: [0.5, 0.6, 0.7, 0.8, 0.9, 1],\n",
       "                         &#x27;subsample&#x27;: [0.5, 0.6, 0.7, 0.8, 0.9, 1]},\n",
       "             scoring=&#x27;neg_mean_squared_error&#x27;)</pre></div></div></div><div class=\"sk-parallel\"><div class=\"sk-parallel-item\"><div class=\"sk-item\"><div class=\"sk-label-container\"><div class=\"sk-label sk-toggleable\"><input class=\"sk-toggleable__control sk-hidden--visually\" id=\"sk-estimator-id-11\" type=\"checkbox\" ><label for=\"sk-estimator-id-11\" class=\"sk-toggleable__label sk-toggleable__label-arrow\">estimator: XGBRegressor</label><div class=\"sk-toggleable__content\"><pre>XGBRegressor(base_score=None, booster=None, callbacks=None,\n",
       "             colsample_bylevel=None, colsample_bynode=None,\n",
       "             colsample_bytree=None, device=None, early_stopping_rounds=None,\n",
       "             enable_categorical=False, eval_metric=None, feature_types=None,\n",
       "             gamma=0.1, grow_policy=None, importance_type=None,\n",
       "             interaction_constraints=None, learning_rate=0.05, max_bin=None,\n",
       "             max_cat_threshold=None, max_cat_to_onehot=None,\n",
       "             max_delta_step=None, max_depth=5, max_leaves=None,\n",
       "             min_child_weight=3, missing=nan, monotone_constraints=None,\n",
       "             multi_strategy=None, n_estimators=500, n_jobs=None,\n",
       "             num_parallel_tree=None, random_state=None, ...)</pre></div></div></div><div class=\"sk-serial\"><div class=\"sk-item\"><div class=\"sk-estimator sk-toggleable\"><input class=\"sk-toggleable__control sk-hidden--visually\" id=\"sk-estimator-id-12\" type=\"checkbox\" ><label for=\"sk-estimator-id-12\" class=\"sk-toggleable__label sk-toggleable__label-arrow\">XGBRegressor</label><div class=\"sk-toggleable__content\"><pre>XGBRegressor(base_score=None, booster=None, callbacks=None,\n",
       "             colsample_bylevel=None, colsample_bynode=None,\n",
       "             colsample_bytree=None, device=None, early_stopping_rounds=None,\n",
       "             enable_categorical=False, eval_metric=None, feature_types=None,\n",
       "             gamma=0.1, grow_policy=None, importance_type=None,\n",
       "             interaction_constraints=None, learning_rate=0.05, max_bin=None,\n",
       "             max_cat_threshold=None, max_cat_to_onehot=None,\n",
       "             max_delta_step=None, max_depth=5, max_leaves=None,\n",
       "             min_child_weight=3, missing=nan, monotone_constraints=None,\n",
       "             multi_strategy=None, n_estimators=500, n_jobs=None,\n",
       "             num_parallel_tree=None, random_state=None, ...)</pre></div></div></div></div></div></div></div></div></div></div>"
      ],
      "text/plain": [
       "GridSearchCV(cv=5,\n",
       "             estimator=XGBRegressor(base_score=None, booster=None,\n",
       "                                    callbacks=None, colsample_bylevel=None,\n",
       "                                    colsample_bynode=None,\n",
       "                                    colsample_bytree=None, device=None,\n",
       "                                    early_stopping_rounds=None,\n",
       "                                    enable_categorical=False, eval_metric=None,\n",
       "                                    feature_types=None, gamma=0.1,\n",
       "                                    grow_policy=None, importance_type=None,\n",
       "                                    interaction_constraints=None,\n",
       "                                    learning_rate=0.05, ma...\n",
       "                                    max_cat_threshold=None,\n",
       "                                    max_cat_to_onehot=None, max_delta_step=None,\n",
       "                                    max_depth=5, max_leaves=None,\n",
       "                                    min_child_weight=3, missing=nan,\n",
       "                                    monotone_constraints=None,\n",
       "                                    multi_strategy=None, n_estimators=500,\n",
       "                                    n_jobs=None, num_parallel_tree=None,\n",
       "                                    random_state=None, ...),\n",
       "             param_grid={'colsample_bytree': [0.5, 0.6, 0.7, 0.8, 0.9, 1],\n",
       "                         'subsample': [0.5, 0.6, 0.7, 0.8, 0.9, 1]},\n",
       "             scoring='neg_mean_squared_error')"
      ]
     },
     "execution_count": 52,
     "metadata": {},
     "output_type": "execute_result"
    }
   ],
   "source": [
    "gscv1 = GridSearchCV(best_xgb,params1,cv=5,scoring='neg_mean_squared_error')\n",
    "gscv1.fit(xtrain,ytrain)"
   ]
  },
  {
   "cell_type": "code",
   "execution_count": 53,
   "id": "4419fae3",
   "metadata": {
    "execution": {
     "iopub.execute_input": "2024-05-07T10:34:02.243284Z",
     "iopub.status.busy": "2024-05-07T10:34:02.242903Z",
     "iopub.status.idle": "2024-05-07T10:34:02.249536Z",
     "shell.execute_reply": "2024-05-07T10:34:02.248356Z"
    },
    "papermill": {
     "duration": 0.033858,
     "end_time": "2024-05-07T10:34:02.251631",
     "exception": false,
     "start_time": "2024-05-07T10:34:02.217773",
     "status": "completed"
    },
    "tags": []
   },
   "outputs": [
    {
     "data": {
      "text/plain": [
       "{'colsample_bytree': 0.6, 'subsample': 0.9}"
      ]
     },
     "execution_count": 53,
     "metadata": {},
     "output_type": "execute_result"
    }
   ],
   "source": [
    "gscv1.best_params_"
   ]
  },
  {
   "cell_type": "code",
   "execution_count": 54,
   "id": "0ee4eba8",
   "metadata": {
    "execution": {
     "iopub.execute_input": "2024-05-07T10:34:02.299919Z",
     "iopub.status.busy": "2024-05-07T10:34:02.299542Z",
     "iopub.status.idle": "2024-05-07T10:34:02.310457Z",
     "shell.execute_reply": "2024-05-07T10:34:02.309227Z"
    },
    "papermill": {
     "duration": 0.039111,
     "end_time": "2024-05-07T10:34:02.312555",
     "exception": false,
     "start_time": "2024-05-07T10:34:02.273444",
     "status": "completed"
    },
    "tags": []
   },
   "outputs": [
    {
     "data": {
      "text/html": [
       "<style>#sk-container-id-7 {color: black;background-color: white;}#sk-container-id-7 pre{padding: 0;}#sk-container-id-7 div.sk-toggleable {background-color: white;}#sk-container-id-7 label.sk-toggleable__label {cursor: pointer;display: block;width: 100%;margin-bottom: 0;padding: 0.3em;box-sizing: border-box;text-align: center;}#sk-container-id-7 label.sk-toggleable__label-arrow:before {content: \"▸\";float: left;margin-right: 0.25em;color: #696969;}#sk-container-id-7 label.sk-toggleable__label-arrow:hover:before {color: black;}#sk-container-id-7 div.sk-estimator:hover label.sk-toggleable__label-arrow:before {color: black;}#sk-container-id-7 div.sk-toggleable__content {max-height: 0;max-width: 0;overflow: hidden;text-align: left;background-color: #f0f8ff;}#sk-container-id-7 div.sk-toggleable__content pre {margin: 0.2em;color: black;border-radius: 0.25em;background-color: #f0f8ff;}#sk-container-id-7 input.sk-toggleable__control:checked~div.sk-toggleable__content {max-height: 200px;max-width: 100%;overflow: auto;}#sk-container-id-7 input.sk-toggleable__control:checked~label.sk-toggleable__label-arrow:before {content: \"▾\";}#sk-container-id-7 div.sk-estimator input.sk-toggleable__control:checked~label.sk-toggleable__label {background-color: #d4ebff;}#sk-container-id-7 div.sk-label input.sk-toggleable__control:checked~label.sk-toggleable__label {background-color: #d4ebff;}#sk-container-id-7 input.sk-hidden--visually {border: 0;clip: rect(1px 1px 1px 1px);clip: rect(1px, 1px, 1px, 1px);height: 1px;margin: -1px;overflow: hidden;padding: 0;position: absolute;width: 1px;}#sk-container-id-7 div.sk-estimator {font-family: monospace;background-color: #f0f8ff;border: 1px dotted black;border-radius: 0.25em;box-sizing: border-box;margin-bottom: 0.5em;}#sk-container-id-7 div.sk-estimator:hover {background-color: #d4ebff;}#sk-container-id-7 div.sk-parallel-item::after {content: \"\";width: 100%;border-bottom: 1px solid gray;flex-grow: 1;}#sk-container-id-7 div.sk-label:hover label.sk-toggleable__label {background-color: #d4ebff;}#sk-container-id-7 div.sk-serial::before {content: \"\";position: absolute;border-left: 1px solid gray;box-sizing: border-box;top: 0;bottom: 0;left: 50%;z-index: 0;}#sk-container-id-7 div.sk-serial {display: flex;flex-direction: column;align-items: center;background-color: white;padding-right: 0.2em;padding-left: 0.2em;position: relative;}#sk-container-id-7 div.sk-item {position: relative;z-index: 1;}#sk-container-id-7 div.sk-parallel {display: flex;align-items: stretch;justify-content: center;background-color: white;position: relative;}#sk-container-id-7 div.sk-item::before, #sk-container-id-7 div.sk-parallel-item::before {content: \"\";position: absolute;border-left: 1px solid gray;box-sizing: border-box;top: 0;bottom: 0;left: 50%;z-index: -1;}#sk-container-id-7 div.sk-parallel-item {display: flex;flex-direction: column;z-index: 1;position: relative;background-color: white;}#sk-container-id-7 div.sk-parallel-item:first-child::after {align-self: flex-end;width: 50%;}#sk-container-id-7 div.sk-parallel-item:last-child::after {align-self: flex-start;width: 50%;}#sk-container-id-7 div.sk-parallel-item:only-child::after {width: 0;}#sk-container-id-7 div.sk-dashed-wrapped {border: 1px dashed gray;margin: 0 0.4em 0.5em 0.4em;box-sizing: border-box;padding-bottom: 0.4em;background-color: white;}#sk-container-id-7 div.sk-label label {font-family: monospace;font-weight: bold;display: inline-block;line-height: 1.2em;}#sk-container-id-7 div.sk-label-container {text-align: center;}#sk-container-id-7 div.sk-container {/* jupyter's `normalize.less` sets `[hidden] { display: none; }` but bootstrap.min.css set `[hidden] { display: none !important; }` so we also need the `!important` here to be able to override the default hidden behavior on the sphinx rendered scikit-learn.org. See: https://github.com/scikit-learn/scikit-learn/issues/21755 */display: inline-block !important;position: relative;}#sk-container-id-7 div.sk-text-repr-fallback {display: none;}</style><div id=\"sk-container-id-7\" class=\"sk-top-container\"><div class=\"sk-text-repr-fallback\"><pre>XGBRegressor(base_score=None, booster=None, callbacks=None,\n",
       "             colsample_bylevel=None, colsample_bynode=None,\n",
       "             colsample_bytree=0.6, device=None, early_stopping_rounds=None,\n",
       "             enable_categorical=False, eval_metric=None, feature_types=None,\n",
       "             gamma=0.1, grow_policy=None, importance_type=None,\n",
       "             interaction_constraints=None, learning_rate=0.05, max_bin=None,\n",
       "             max_cat_threshold=None, max_cat_to_onehot=None,\n",
       "             max_delta_step=None, max_depth=5, max_leaves=None,\n",
       "             min_child_weight=3, missing=nan, monotone_constraints=None,\n",
       "             multi_strategy=None, n_estimators=500, n_jobs=None,\n",
       "             num_parallel_tree=None, random_state=None, ...)</pre><b>In a Jupyter environment, please rerun this cell to show the HTML representation or trust the notebook. <br />On GitHub, the HTML representation is unable to render, please try loading this page with nbviewer.org.</b></div><div class=\"sk-container\" hidden><div class=\"sk-item\"><div class=\"sk-estimator sk-toggleable\"><input class=\"sk-toggleable__control sk-hidden--visually\" id=\"sk-estimator-id-13\" type=\"checkbox\" checked><label for=\"sk-estimator-id-13\" class=\"sk-toggleable__label sk-toggleable__label-arrow\">XGBRegressor</label><div class=\"sk-toggleable__content\"><pre>XGBRegressor(base_score=None, booster=None, callbacks=None,\n",
       "             colsample_bylevel=None, colsample_bynode=None,\n",
       "             colsample_bytree=0.6, device=None, early_stopping_rounds=None,\n",
       "             enable_categorical=False, eval_metric=None, feature_types=None,\n",
       "             gamma=0.1, grow_policy=None, importance_type=None,\n",
       "             interaction_constraints=None, learning_rate=0.05, max_bin=None,\n",
       "             max_cat_threshold=None, max_cat_to_onehot=None,\n",
       "             max_delta_step=None, max_depth=5, max_leaves=None,\n",
       "             min_child_weight=3, missing=nan, monotone_constraints=None,\n",
       "             multi_strategy=None, n_estimators=500, n_jobs=None,\n",
       "             num_parallel_tree=None, random_state=None, ...)</pre></div></div></div></div></div>"
      ],
      "text/plain": [
       "XGBRegressor(base_score=None, booster=None, callbacks=None,\n",
       "             colsample_bylevel=None, colsample_bynode=None,\n",
       "             colsample_bytree=0.6, device=None, early_stopping_rounds=None,\n",
       "             enable_categorical=False, eval_metric=None, feature_types=None,\n",
       "             gamma=0.1, grow_policy=None, importance_type=None,\n",
       "             interaction_constraints=None, learning_rate=0.05, max_bin=None,\n",
       "             max_cat_threshold=None, max_cat_to_onehot=None,\n",
       "             max_delta_step=None, max_depth=5, max_leaves=None,\n",
       "             min_child_weight=3, missing=nan, monotone_constraints=None,\n",
       "             multi_strategy=None, n_estimators=500, n_jobs=None,\n",
       "             num_parallel_tree=None, random_state=None, ...)"
      ]
     },
     "execution_count": 54,
     "metadata": {},
     "output_type": "execute_result"
    }
   ],
   "source": [
    "best_xgb2 = gscv1.best_estimator_\n",
    "best_xgb2"
   ]
  },
  {
   "cell_type": "code",
   "execution_count": 55,
   "id": "8f556bf1",
   "metadata": {
    "execution": {
     "iopub.execute_input": "2024-05-07T10:34:02.359922Z",
     "iopub.status.busy": "2024-05-07T10:34:02.359329Z",
     "iopub.status.idle": "2024-05-07T10:34:02.413751Z",
     "shell.execute_reply": "2024-05-07T10:34:02.412811Z"
    },
    "papermill": {
     "duration": 0.08068,
     "end_time": "2024-05-07T10:34:02.415874",
     "exception": false,
     "start_time": "2024-05-07T10:34:02.335194",
     "status": "completed"
    },
    "tags": []
   },
   "outputs": [
    {
     "data": {
      "text/plain": [
       "0.8765155698655448"
      ]
     },
     "execution_count": 55,
     "metadata": {},
     "output_type": "execute_result"
    }
   ],
   "source": [
    "best_xgb2.score(xtrain,ytrain)"
   ]
  },
  {
   "cell_type": "code",
   "execution_count": 56,
   "id": "6ebc1819",
   "metadata": {
    "execution": {
     "iopub.execute_input": "2024-05-07T10:34:02.464117Z",
     "iopub.status.busy": "2024-05-07T10:34:02.463496Z",
     "iopub.status.idle": "2024-05-07T10:34:02.490172Z",
     "shell.execute_reply": "2024-05-07T10:34:02.488987Z"
    },
    "papermill": {
     "duration": 0.054342,
     "end_time": "2024-05-07T10:34:02.492630",
     "exception": false,
     "start_time": "2024-05-07T10:34:02.438288",
     "status": "completed"
    },
    "tags": []
   },
   "outputs": [
    {
     "data": {
      "text/plain": [
       "0.8048450929698301"
      ]
     },
     "execution_count": 56,
     "metadata": {},
     "output_type": "execute_result"
    }
   ],
   "source": [
    "best_xgb2.score(xtest,ytest)"
   ]
  },
  {
   "cell_type": "markdown",
   "id": "f1ebf189",
   "metadata": {
    "papermill": {
     "duration": 0.024013,
     "end_time": "2024-05-07T10:34:02.542283",
     "exception": false,
     "start_time": "2024-05-07T10:34:02.518270",
     "status": "completed"
    },
    "tags": []
   },
   "source": [
    "## Evaluate the models : Random Forest and XGBoost"
   ]
  },
  {
   "cell_type": "code",
   "execution_count": 57,
   "id": "e1c6e50f",
   "metadata": {
    "execution": {
     "iopub.execute_input": "2024-05-07T10:34:02.593025Z",
     "iopub.status.busy": "2024-05-07T10:34:02.592058Z",
     "iopub.status.idle": "2024-05-07T10:34:02.597015Z",
     "shell.execute_reply": "2024-05-07T10:34:02.595826Z"
    },
    "papermill": {
     "duration": 0.032821,
     "end_time": "2024-05-07T10:34:02.599389",
     "exception": false,
     "start_time": "2024-05-07T10:34:02.566568",
     "status": "completed"
    },
    "tags": []
   },
   "outputs": [],
   "source": [
    "from sklearn.metrics import mean_absolute_error,mean_squared_error,r2_score"
   ]
  },
  {
   "cell_type": "code",
   "execution_count": 58,
   "id": "d2982479",
   "metadata": {
    "execution": {
     "iopub.execute_input": "2024-05-07T10:34:02.650079Z",
     "iopub.status.busy": "2024-05-07T10:34:02.649717Z",
     "iopub.status.idle": "2024-05-07T10:34:02.656425Z",
     "shell.execute_reply": "2024-05-07T10:34:02.655366Z"
    },
    "papermill": {
     "duration": 0.034493,
     "end_time": "2024-05-07T10:34:02.658389",
     "exception": false,
     "start_time": "2024-05-07T10:34:02.623896",
     "status": "completed"
    },
    "tags": []
   },
   "outputs": [],
   "source": [
    "def eval_model(model,xtrain,ytrain):\n",
    "    # Fit the model\n",
    "    model.fit(xtrain,ytrain)\n",
    "    # Predict the scores\n",
    "    ypred_test = model.predict(xtest)\n",
    "    # Calculate MSE,RMSE,MAE,R2 scores\n",
    "    mse = mean_squared_error(ytest,ypred_test)\n",
    "    rmse = mse**(1/2)\n",
    "    mae = mean_absolute_error(ytest,ypred_test)\n",
    "    r2 = r2_score(ytest,ypred_test)\n",
    "    return mse,rmse,mae,r2"
   ]
  },
  {
   "cell_type": "markdown",
   "id": "61d3ba83",
   "metadata": {
    "papermill": {
     "duration": 0.023173,
     "end_time": "2024-05-07T10:34:02.704463",
     "exception": false,
     "start_time": "2024-05-07T10:34:02.681290",
     "status": "completed"
    },
    "tags": []
   },
   "source": [
    "Random Forest Evaluation Metrics"
   ]
  },
  {
   "cell_type": "code",
   "execution_count": 59,
   "id": "38f7dac3",
   "metadata": {
    "execution": {
     "iopub.execute_input": "2024-05-07T10:34:02.751940Z",
     "iopub.status.busy": "2024-05-07T10:34:02.751570Z",
     "iopub.status.idle": "2024-05-07T10:34:05.254134Z",
     "shell.execute_reply": "2024-05-07T10:34:05.253072Z"
    },
    "papermill": {
     "duration": 2.528951,
     "end_time": "2024-05-07T10:34:05.256345",
     "exception": false,
     "start_time": "2024-05-07T10:34:02.727394",
     "status": "completed"
    },
    "tags": []
   },
   "outputs": [
    {
     "name": "stdout",
     "output_type": "stream",
     "text": [
      "Evaluation Metrics: \n",
      "MSE: 0.2697500948553083\n",
      "RMSE:0.5193747152637567\n",
      "MAE:0.290918996329441\n",
      "R2:0.7457328285427991\n"
     ]
    }
   ],
   "source": [
    "(MSE,RMSE,MAE,r2) = eval_model(best_rfr,xtrain,ytrain)\n",
    "print(f'Evaluation Metrics: \\nMSE: {MSE}\\nRMSE:{RMSE}\\nMAE:{MAE}\\nR2:{r2}')"
   ]
  },
  {
   "cell_type": "markdown",
   "id": "af9246fb",
   "metadata": {
    "papermill": {
     "duration": 0.023397,
     "end_time": "2024-05-07T10:34:05.302275",
     "exception": false,
     "start_time": "2024-05-07T10:34:05.278878",
     "status": "completed"
    },
    "tags": []
   },
   "source": [
    "XGBoost Evaluation Metrics"
   ]
  },
  {
   "cell_type": "code",
   "execution_count": 60,
   "id": "2e9e5118",
   "metadata": {
    "execution": {
     "iopub.execute_input": "2024-05-07T10:34:05.349673Z",
     "iopub.status.busy": "2024-05-07T10:34:05.349016Z",
     "iopub.status.idle": "2024-05-07T10:34:05.804902Z",
     "shell.execute_reply": "2024-05-07T10:34:05.803334Z"
    },
    "papermill": {
     "duration": 0.482957,
     "end_time": "2024-05-07T10:34:05.807892",
     "exception": false,
     "start_time": "2024-05-07T10:34:05.324935",
     "status": "completed"
    },
    "tags": []
   },
   "outputs": [
    {
     "name": "stdout",
     "output_type": "stream",
     "text": [
      "Evaluation Metrics: \n",
      "MSE: 0.20703834624489967\n",
      "RMSE:0.45501466596682316\n",
      "MAE:0.2611911814786115\n",
      "R2:0.8048450929698301\n"
     ]
    }
   ],
   "source": [
    "(MSE,RMSE,MAE,r2) = eval_model(best_xgb2,xtrain,ytrain)\n",
    "print(f'Evaluation Metrics: \\nMSE: {MSE}\\nRMSE:{RMSE}\\nMAE:{MAE}\\nR2:{r2}')"
   ]
  },
  {
   "cell_type": "markdown",
   "id": "906119a8",
   "metadata": {
    "papermill": {
     "duration": 0.022488,
     "end_time": "2024-05-07T10:34:05.853450",
     "exception": false,
     "start_time": "2024-05-07T10:34:05.830962",
     "status": "completed"
    },
    "tags": []
   },
   "source": [
    "#### XGBoost is providing best test score as compared to other models. Considering XGBoost for final prediction\n",
    "--------------------------------------------------------------------------------------"
   ]
  },
  {
   "cell_type": "markdown",
   "id": "6d1f7fb1",
   "metadata": {
    "papermill": {
     "duration": 0.023607,
     "end_time": "2024-05-07T10:34:05.899790",
     "exception": false,
     "start_time": "2024-05-07T10:34:05.876183",
     "status": "completed"
    },
    "tags": []
   },
   "source": [
    "## Model Prediction"
   ]
  },
  {
   "cell_type": "code",
   "execution_count": 61,
   "id": "1a72209e",
   "metadata": {
    "execution": {
     "iopub.execute_input": "2024-05-07T10:34:05.947666Z",
     "iopub.status.busy": "2024-05-07T10:34:05.946958Z",
     "iopub.status.idle": "2024-05-07T10:34:05.971623Z",
     "shell.execute_reply": "2024-05-07T10:34:05.970258Z"
    },
    "papermill": {
     "duration": 0.051321,
     "end_time": "2024-05-07T10:34:05.973994",
     "exception": false,
     "start_time": "2024-05-07T10:34:05.922673",
     "status": "completed"
    },
    "tags": []
   },
   "outputs": [
    {
     "data": {
      "text/plain": [
       "array([7.0099277, 5.7735763, 4.096054 , 7.996697 , 5.9080467, 6.88522  ,\n",
       "       6.0211606, 5.5722013, 5.8215423, 4.764713 ], dtype=float32)"
      ]
     },
     "execution_count": 61,
     "metadata": {},
     "output_type": "execute_result"
    }
   ],
   "source": [
    "ypred_test = best_xgb2.predict(xtest)\n",
    "ypred_test[:10]"
   ]
  },
  {
   "cell_type": "code",
   "execution_count": 62,
   "id": "7d075bfb",
   "metadata": {
    "execution": {
     "iopub.execute_input": "2024-05-07T10:34:06.022245Z",
     "iopub.status.busy": "2024-05-07T10:34:06.021835Z",
     "iopub.status.idle": "2024-05-07T10:34:06.032827Z",
     "shell.execute_reply": "2024-05-07T10:34:06.031488Z"
    },
    "papermill": {
     "duration": 0.038247,
     "end_time": "2024-05-07T10:34:06.035292",
     "exception": false,
     "start_time": "2024-05-07T10:34:05.997045",
     "status": "completed"
    },
    "tags": []
   },
   "outputs": [
    {
     "data": {
      "text/html": [
       "<div>\n",
       "<style scoped>\n",
       "    .dataframe tbody tr th:only-of-type {\n",
       "        vertical-align: middle;\n",
       "    }\n",
       "\n",
       "    .dataframe tbody tr th {\n",
       "        vertical-align: top;\n",
       "    }\n",
       "\n",
       "    .dataframe thead th {\n",
       "        text-align: right;\n",
       "    }\n",
       "</style>\n",
       "<table border=\"1\" class=\"dataframe\">\n",
       "  <thead>\n",
       "    <tr style=\"text-align: right;\">\n",
       "      <th></th>\n",
       "      <th>Rating</th>\n",
       "    </tr>\n",
       "  </thead>\n",
       "  <tbody>\n",
       "    <tr>\n",
       "      <th>4806</th>\n",
       "      <td>7.1</td>\n",
       "    </tr>\n",
       "    <tr>\n",
       "      <th>10573</th>\n",
       "      <td>5.8</td>\n",
       "    </tr>\n",
       "    <tr>\n",
       "      <th>3674</th>\n",
       "      <td>3.7</td>\n",
       "    </tr>\n",
       "    <tr>\n",
       "      <th>9179</th>\n",
       "      <td>8.0</td>\n",
       "    </tr>\n",
       "    <tr>\n",
       "      <th>6229</th>\n",
       "      <td>7.3</td>\n",
       "    </tr>\n",
       "    <tr>\n",
       "      <th>13993</th>\n",
       "      <td>6.9</td>\n",
       "    </tr>\n",
       "    <tr>\n",
       "      <th>7125</th>\n",
       "      <td>6.2</td>\n",
       "    </tr>\n",
       "    <tr>\n",
       "      <th>2874</th>\n",
       "      <td>5.8</td>\n",
       "    </tr>\n",
       "    <tr>\n",
       "      <th>7049</th>\n",
       "      <td>5.8</td>\n",
       "    </tr>\n",
       "    <tr>\n",
       "      <th>6739</th>\n",
       "      <td>4.9</td>\n",
       "    </tr>\n",
       "  </tbody>\n",
       "</table>\n",
       "</div>"
      ],
      "text/plain": [
       "       Rating\n",
       "4806      7.1\n",
       "10573     5.8\n",
       "3674      3.7\n",
       "9179      8.0\n",
       "6229      7.3\n",
       "13993     6.9\n",
       "7125      6.2\n",
       "2874      5.8\n",
       "7049      5.8\n",
       "6739      4.9"
      ]
     },
     "execution_count": 62,
     "metadata": {},
     "output_type": "execute_result"
    }
   ],
   "source": [
    "ytest.head(10)"
   ]
  },
  {
   "cell_type": "code",
   "execution_count": 63,
   "id": "d667ce8b",
   "metadata": {
    "execution": {
     "iopub.execute_input": "2024-05-07T10:34:06.084504Z",
     "iopub.status.busy": "2024-05-07T10:34:06.084058Z",
     "iopub.status.idle": "2024-05-07T10:34:06.103653Z",
     "shell.execute_reply": "2024-05-07T10:34:06.102589Z"
    },
    "papermill": {
     "duration": 0.046395,
     "end_time": "2024-05-07T10:34:06.105870",
     "exception": false,
     "start_time": "2024-05-07T10:34:06.059475",
     "status": "completed"
    },
    "tags": []
   },
   "outputs": [
    {
     "data": {
      "text/html": [
       "<div>\n",
       "<style scoped>\n",
       "    .dataframe tbody tr th:only-of-type {\n",
       "        vertical-align: middle;\n",
       "    }\n",
       "\n",
       "    .dataframe tbody tr th {\n",
       "        vertical-align: top;\n",
       "    }\n",
       "\n",
       "    .dataframe thead th {\n",
       "        text-align: right;\n",
       "    }\n",
       "</style>\n",
       "<table border=\"1\" class=\"dataframe\">\n",
       "  <thead>\n",
       "    <tr style=\"text-align: right;\">\n",
       "      <th></th>\n",
       "      <th>Year</th>\n",
       "      <th>Genre encoded</th>\n",
       "      <th>Votes encoded</th>\n",
       "      <th>Director encoded</th>\n",
       "      <th>Actor 1 encoded</th>\n",
       "      <th>Actor 2 encoded</th>\n",
       "      <th>Actor 3 encoded</th>\n",
       "      <th>Predicted_Rating</th>\n",
       "    </tr>\n",
       "  </thead>\n",
       "  <tbody>\n",
       "    <tr>\n",
       "      <th>4806</th>\n",
       "      <td>2015</td>\n",
       "      <td>5.4</td>\n",
       "      <td>7.1</td>\n",
       "      <td>6.4</td>\n",
       "      <td>5.5</td>\n",
       "      <td>6.2</td>\n",
       "      <td>5.7</td>\n",
       "      <td>7.009928</td>\n",
       "    </tr>\n",
       "    <tr>\n",
       "      <th>10573</th>\n",
       "      <td>1989</td>\n",
       "      <td>5.7</td>\n",
       "      <td>5.8</td>\n",
       "      <td>5.8</td>\n",
       "      <td>5.6</td>\n",
       "      <td>5.8</td>\n",
       "      <td>5.8</td>\n",
       "      <td>5.773576</td>\n",
       "    </tr>\n",
       "    <tr>\n",
       "      <th>3674</th>\n",
       "      <td>2000</td>\n",
       "      <td>5.9</td>\n",
       "      <td>3.7</td>\n",
       "      <td>4.9</td>\n",
       "      <td>5.2</td>\n",
       "      <td>5.8</td>\n",
       "      <td>5.8</td>\n",
       "      <td>4.096054</td>\n",
       "    </tr>\n",
       "    <tr>\n",
       "      <th>9179</th>\n",
       "      <td>1970</td>\n",
       "      <td>5.9</td>\n",
       "      <td>8.0</td>\n",
       "      <td>7.1</td>\n",
       "      <td>6.8</td>\n",
       "      <td>6.8</td>\n",
       "      <td>6.8</td>\n",
       "      <td>7.996697</td>\n",
       "    </tr>\n",
       "    <tr>\n",
       "      <th>6229</th>\n",
       "      <td>2003</td>\n",
       "      <td>5.7</td>\n",
       "      <td>6.1</td>\n",
       "      <td>5.7</td>\n",
       "      <td>5.1</td>\n",
       "      <td>5.6</td>\n",
       "      <td>6.9</td>\n",
       "      <td>5.908047</td>\n",
       "    </tr>\n",
       "    <tr>\n",
       "      <th>...</th>\n",
       "      <td>...</td>\n",
       "      <td>...</td>\n",
       "      <td>...</td>\n",
       "      <td>...</td>\n",
       "      <td>...</td>\n",
       "      <td>...</td>\n",
       "      <td>...</td>\n",
       "      <td>...</td>\n",
       "    </tr>\n",
       "    <tr>\n",
       "      <th>5126</th>\n",
       "      <td>2007</td>\n",
       "      <td>5.8</td>\n",
       "      <td>5.7</td>\n",
       "      <td>5.6</td>\n",
       "      <td>5.7</td>\n",
       "      <td>5.8</td>\n",
       "      <td>5.6</td>\n",
       "      <td>5.541561</td>\n",
       "    </tr>\n",
       "    <tr>\n",
       "      <th>5934</th>\n",
       "      <td>1971</td>\n",
       "      <td>5.8</td>\n",
       "      <td>6.2</td>\n",
       "      <td>6.0</td>\n",
       "      <td>6.4</td>\n",
       "      <td>6.0</td>\n",
       "      <td>6.6</td>\n",
       "      <td>6.672915</td>\n",
       "    </tr>\n",
       "    <tr>\n",
       "      <th>15146</th>\n",
       "      <td>1972</td>\n",
       "      <td>5.3</td>\n",
       "      <td>5.7</td>\n",
       "      <td>5.8</td>\n",
       "      <td>5.3</td>\n",
       "      <td>6.1</td>\n",
       "      <td>6.0</td>\n",
       "      <td>5.360028</td>\n",
       "    </tr>\n",
       "    <tr>\n",
       "      <th>14280</th>\n",
       "      <td>2010</td>\n",
       "      <td>6.0</td>\n",
       "      <td>6.2</td>\n",
       "      <td>5.7</td>\n",
       "      <td>5.1</td>\n",
       "      <td>5.7</td>\n",
       "      <td>5.7</td>\n",
       "      <td>5.692091</td>\n",
       "    </tr>\n",
       "    <tr>\n",
       "      <th>4019</th>\n",
       "      <td>1994</td>\n",
       "      <td>5.8</td>\n",
       "      <td>5.4</td>\n",
       "      <td>4.1</td>\n",
       "      <td>2.7</td>\n",
       "      <td>5.2</td>\n",
       "      <td>4.2</td>\n",
       "      <td>2.876691</td>\n",
       "    </tr>\n",
       "  </tbody>\n",
       "</table>\n",
       "<p>3776 rows × 8 columns</p>\n",
       "</div>"
      ],
      "text/plain": [
       "       Year  Genre encoded  Votes encoded  Director encoded  Actor 1 encoded  \\\n",
       "4806   2015            5.4            7.1               6.4              5.5   \n",
       "10573  1989            5.7            5.8               5.8              5.6   \n",
       "3674   2000            5.9            3.7               4.9              5.2   \n",
       "9179   1970            5.9            8.0               7.1              6.8   \n",
       "6229   2003            5.7            6.1               5.7              5.1   \n",
       "...     ...            ...            ...               ...              ...   \n",
       "5126   2007            5.8            5.7               5.6              5.7   \n",
       "5934   1971            5.8            6.2               6.0              6.4   \n",
       "15146  1972            5.3            5.7               5.8              5.3   \n",
       "14280  2010            6.0            6.2               5.7              5.1   \n",
       "4019   1994            5.8            5.4               4.1              2.7   \n",
       "\n",
       "       Actor 2 encoded  Actor 3 encoded  Predicted_Rating  \n",
       "4806               6.2              5.7          7.009928  \n",
       "10573              5.8              5.8          5.773576  \n",
       "3674               5.8              5.8          4.096054  \n",
       "9179               6.8              6.8          7.996697  \n",
       "6229               5.6              6.9          5.908047  \n",
       "...                ...              ...               ...  \n",
       "5126               5.8              5.6          5.541561  \n",
       "5934               6.0              6.6          6.672915  \n",
       "15146              6.1              6.0          5.360028  \n",
       "14280              5.7              5.7          5.692091  \n",
       "4019               5.2              4.2          2.876691  \n",
       "\n",
       "[3776 rows x 8 columns]"
      ]
     },
     "execution_count": 63,
     "metadata": {},
     "output_type": "execute_result"
    }
   ],
   "source": [
    "df_final = xtest\n",
    "df_final['Predicted_Rating'] = ypred_test\n",
    "df_final"
   ]
  },
  {
   "cell_type": "markdown",
   "id": "61967cbb",
   "metadata": {
    "papermill": {
     "duration": 0.025058,
     "end_time": "2024-05-07T10:34:06.156294",
     "exception": false,
     "start_time": "2024-05-07T10:34:06.131236",
     "status": "completed"
    },
    "tags": []
   },
   "source": [
    "Save the results to dataframe"
   ]
  },
  {
   "cell_type": "code",
   "execution_count": 64,
   "id": "41ce4ccc",
   "metadata": {
    "execution": {
     "iopub.execute_input": "2024-05-07T10:34:06.208948Z",
     "iopub.status.busy": "2024-05-07T10:34:06.208546Z",
     "iopub.status.idle": "2024-05-07T10:34:06.236475Z",
     "shell.execute_reply": "2024-05-07T10:34:06.235506Z"
    },
    "papermill": {
     "duration": 0.058529,
     "end_time": "2024-05-07T10:34:06.239180",
     "exception": false,
     "start_time": "2024-05-07T10:34:06.180651",
     "status": "completed"
    },
    "tags": []
   },
   "outputs": [],
   "source": [
    "df_final.to_csv('Predicted Ratings.csv',index=False)"
   ]
  }
 ],
 "metadata": {
  "kaggle": {
   "accelerator": "none",
   "dataSources": [
    {
     "datasetId": 1416444,
     "sourceId": 2346296,
     "sourceType": "datasetVersion"
    }
   ],
   "dockerImageVersionId": 30698,
   "isGpuEnabled": false,
   "isInternetEnabled": true,
   "language": "python",
   "sourceType": "notebook"
  },
  "kernelspec": {
   "display_name": "Python 3",
   "language": "python",
   "name": "python3"
  },
  "language_info": {
   "codemirror_mode": {
    "name": "ipython",
    "version": 3
   },
   "file_extension": ".py",
   "mimetype": "text/x-python",
   "name": "python",
   "nbconvert_exporter": "python",
   "pygments_lexer": "ipython3",
   "version": "3.10.13"
  },
  "papermill": {
   "default_parameters": {},
   "duration": 5292.130423,
   "end_time": "2024-05-07T10:34:06.893160",
   "environment_variables": {},
   "exception": null,
   "input_path": "__notebook__.ipynb",
   "output_path": "__notebook__.ipynb",
   "parameters": {},
   "start_time": "2024-05-07T09:05:54.762737",
   "version": "2.5.0"
  }
 },
 "nbformat": 4,
 "nbformat_minor": 5
}
