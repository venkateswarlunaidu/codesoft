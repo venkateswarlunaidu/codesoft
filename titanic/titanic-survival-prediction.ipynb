{
 "cells": [
  {
   "cell_type": "markdown",
   "id": "8fed89d9",
   "metadata": {
    "papermill": {
     "duration": 0.025563,
     "end_time": "2024-06-16T08:48:25.323106",
     "exception": false,
     "start_time": "2024-06-16T08:48:25.297543",
     "status": "completed"
    },
    "tags": []
   },
   "source": [
    "# IMPORT THE LIBRARIES"
   ]
  },
  {
   "cell_type": "code",
   "execution_count": 1,
   "id": "ac2d20ac",
   "metadata": {
    "execution": {
     "iopub.execute_input": "2024-06-16T08:48:25.375722Z",
     "iopub.status.busy": "2024-06-16T08:48:25.375200Z",
     "iopub.status.idle": "2024-06-16T08:48:28.498511Z",
     "shell.execute_reply": "2024-06-16T08:48:28.497348Z"
    },
    "papermill": {
     "duration": 3.152916,
     "end_time": "2024-06-16T08:48:28.501426",
     "exception": false,
     "start_time": "2024-06-16T08:48:25.348510",
     "status": "completed"
    },
    "tags": []
   },
   "outputs": [],
   "source": [
    "import pandas as pd\n",
    "import numpy as np\n",
    "import matplotlib.pyplot as plt\n",
    "import seaborn as sns\n",
    "from sklearn.feature_selection import chi2,mutual_info_classif\n",
    "from sklearn.model_selection import train_test_split,GridSearchCV\n",
    "from sklearn.metrics import accuracy_score,classification_report,confusion_matrix,ConfusionMatrixDisplay\n",
    "from sklearn.preprocessing import StandardScaler\n",
    "from sklearn.preprocessing import LabelEncoder\n",
    "from sklearn.ensemble import RandomForestClassifier"
   ]
  },
  {
   "cell_type": "markdown",
   "id": "403de128",
   "metadata": {
    "papermill": {
     "duration": 0.027699,
     "end_time": "2024-06-16T08:48:28.555934",
     "exception": false,
     "start_time": "2024-06-16T08:48:28.528235",
     "status": "completed"
    },
    "tags": []
   },
   "source": [
    "# READ THE DATASET"
   ]
  },
  {
   "cell_type": "code",
   "execution_count": 2,
   "id": "0b869b94",
   "metadata": {
    "execution": {
     "iopub.execute_input": "2024-06-16T08:48:28.608749Z",
     "iopub.status.busy": "2024-06-16T08:48:28.608156Z",
     "iopub.status.idle": "2024-06-16T08:48:28.664086Z",
     "shell.execute_reply": "2024-06-16T08:48:28.662882Z"
    },
    "papermill": {
     "duration": 0.085889,
     "end_time": "2024-06-16T08:48:28.667437",
     "exception": false,
     "start_time": "2024-06-16T08:48:28.581548",
     "status": "completed"
    },
    "tags": []
   },
   "outputs": [
    {
     "data": {
      "text/html": [
       "<div>\n",
       "<style scoped>\n",
       "    .dataframe tbody tr th:only-of-type {\n",
       "        vertical-align: middle;\n",
       "    }\n",
       "\n",
       "    .dataframe tbody tr th {\n",
       "        vertical-align: top;\n",
       "    }\n",
       "\n",
       "    .dataframe thead th {\n",
       "        text-align: right;\n",
       "    }\n",
       "</style>\n",
       "<table border=\"1\" class=\"dataframe\">\n",
       "  <thead>\n",
       "    <tr style=\"text-align: right;\">\n",
       "      <th></th>\n",
       "      <th>PassengerId</th>\n",
       "      <th>Survived</th>\n",
       "      <th>Pclass</th>\n",
       "      <th>Name</th>\n",
       "      <th>Sex</th>\n",
       "      <th>Age</th>\n",
       "      <th>SibSp</th>\n",
       "      <th>Parch</th>\n",
       "      <th>Ticket</th>\n",
       "      <th>Fare</th>\n",
       "      <th>Cabin</th>\n",
       "      <th>Embarked</th>\n",
       "    </tr>\n",
       "  </thead>\n",
       "  <tbody>\n",
       "    <tr>\n",
       "      <th>0</th>\n",
       "      <td>1</td>\n",
       "      <td>0</td>\n",
       "      <td>3</td>\n",
       "      <td>Braund, Mr. Owen Harris</td>\n",
       "      <td>male</td>\n",
       "      <td>22.0</td>\n",
       "      <td>1</td>\n",
       "      <td>0</td>\n",
       "      <td>A/5 21171</td>\n",
       "      <td>7.2500</td>\n",
       "      <td>NaN</td>\n",
       "      <td>S</td>\n",
       "    </tr>\n",
       "    <tr>\n",
       "      <th>1</th>\n",
       "      <td>2</td>\n",
       "      <td>1</td>\n",
       "      <td>1</td>\n",
       "      <td>Cumings, Mrs. John Bradley (Florence Briggs Th...</td>\n",
       "      <td>female</td>\n",
       "      <td>38.0</td>\n",
       "      <td>1</td>\n",
       "      <td>0</td>\n",
       "      <td>PC 17599</td>\n",
       "      <td>71.2833</td>\n",
       "      <td>C85</td>\n",
       "      <td>C</td>\n",
       "    </tr>\n",
       "    <tr>\n",
       "      <th>2</th>\n",
       "      <td>3</td>\n",
       "      <td>1</td>\n",
       "      <td>3</td>\n",
       "      <td>Heikkinen, Miss. Laina</td>\n",
       "      <td>female</td>\n",
       "      <td>26.0</td>\n",
       "      <td>0</td>\n",
       "      <td>0</td>\n",
       "      <td>STON/O2. 3101282</td>\n",
       "      <td>7.9250</td>\n",
       "      <td>NaN</td>\n",
       "      <td>S</td>\n",
       "    </tr>\n",
       "    <tr>\n",
       "      <th>3</th>\n",
       "      <td>4</td>\n",
       "      <td>1</td>\n",
       "      <td>1</td>\n",
       "      <td>Futrelle, Mrs. Jacques Heath (Lily May Peel)</td>\n",
       "      <td>female</td>\n",
       "      <td>35.0</td>\n",
       "      <td>1</td>\n",
       "      <td>0</td>\n",
       "      <td>113803</td>\n",
       "      <td>53.1000</td>\n",
       "      <td>C123</td>\n",
       "      <td>S</td>\n",
       "    </tr>\n",
       "    <tr>\n",
       "      <th>4</th>\n",
       "      <td>5</td>\n",
       "      <td>0</td>\n",
       "      <td>3</td>\n",
       "      <td>Allen, Mr. William Henry</td>\n",
       "      <td>male</td>\n",
       "      <td>35.0</td>\n",
       "      <td>0</td>\n",
       "      <td>0</td>\n",
       "      <td>373450</td>\n",
       "      <td>8.0500</td>\n",
       "      <td>NaN</td>\n",
       "      <td>S</td>\n",
       "    </tr>\n",
       "  </tbody>\n",
       "</table>\n",
       "</div>"
      ],
      "text/plain": [
       "   PassengerId  Survived  Pclass  \\\n",
       "0            1         0       3   \n",
       "1            2         1       1   \n",
       "2            3         1       3   \n",
       "3            4         1       1   \n",
       "4            5         0       3   \n",
       "\n",
       "                                                Name     Sex   Age  SibSp  \\\n",
       "0                            Braund, Mr. Owen Harris    male  22.0      1   \n",
       "1  Cumings, Mrs. John Bradley (Florence Briggs Th...  female  38.0      1   \n",
       "2                             Heikkinen, Miss. Laina  female  26.0      0   \n",
       "3       Futrelle, Mrs. Jacques Heath (Lily May Peel)  female  35.0      1   \n",
       "4                           Allen, Mr. William Henry    male  35.0      0   \n",
       "\n",
       "   Parch            Ticket     Fare Cabin Embarked  \n",
       "0      0         A/5 21171   7.2500   NaN        S  \n",
       "1      0          PC 17599  71.2833   C85        C  \n",
       "2      0  STON/O2. 3101282   7.9250   NaN        S  \n",
       "3      0            113803  53.1000  C123        S  \n",
       "4      0            373450   8.0500   NaN        S  "
      ]
     },
     "execution_count": 2,
     "metadata": {},
     "output_type": "execute_result"
    }
   ],
   "source": [
    "data=pd.read_csv(\"/kaggle/input/titanic-dataset/Titanic-Dataset.csv\")\n",
    "data.head()"
   ]
  },
  {
   "cell_type": "markdown",
   "id": "3748a68f",
   "metadata": {
    "papermill": {
     "duration": 0.029421,
     "end_time": "2024-06-16T08:48:28.730248",
     "exception": false,
     "start_time": "2024-06-16T08:48:28.700827",
     "status": "completed"
    },
    "tags": []
   },
   "source": [
    "# DATA ANALYSIS"
   ]
  },
  {
   "cell_type": "code",
   "execution_count": 3,
   "id": "47cc03b1",
   "metadata": {
    "execution": {
     "iopub.execute_input": "2024-06-16T08:48:28.785470Z",
     "iopub.status.busy": "2024-06-16T08:48:28.785001Z",
     "iopub.status.idle": "2024-06-16T08:48:28.794307Z",
     "shell.execute_reply": "2024-06-16T08:48:28.792307Z"
    },
    "papermill": {
     "duration": 0.041605,
     "end_time": "2024-06-16T08:48:28.798268",
     "exception": false,
     "start_time": "2024-06-16T08:48:28.756663",
     "status": "completed"
    },
    "tags": []
   },
   "outputs": [
    {
     "data": {
      "text/plain": [
       "(891, 12)"
      ]
     },
     "execution_count": 3,
     "metadata": {},
     "output_type": "execute_result"
    }
   ],
   "source": [
    "data.shape"
   ]
  },
  {
   "cell_type": "code",
   "execution_count": 4,
   "id": "9aa5ce58",
   "metadata": {
    "execution": {
     "iopub.execute_input": "2024-06-16T08:48:28.872777Z",
     "iopub.status.busy": "2024-06-16T08:48:28.871852Z",
     "iopub.status.idle": "2024-06-16T08:48:28.909474Z",
     "shell.execute_reply": "2024-06-16T08:48:28.907514Z"
    },
    "papermill": {
     "duration": 0.079716,
     "end_time": "2024-06-16T08:48:28.913009",
     "exception": false,
     "start_time": "2024-06-16T08:48:28.833293",
     "status": "completed"
    },
    "tags": []
   },
   "outputs": [
    {
     "name": "stdout",
     "output_type": "stream",
     "text": [
      "<class 'pandas.core.frame.DataFrame'>\n",
      "RangeIndex: 891 entries, 0 to 890\n",
      "Data columns (total 12 columns):\n",
      " #   Column       Non-Null Count  Dtype  \n",
      "---  ------       --------------  -----  \n",
      " 0   PassengerId  891 non-null    int64  \n",
      " 1   Survived     891 non-null    int64  \n",
      " 2   Pclass       891 non-null    int64  \n",
      " 3   Name         891 non-null    object \n",
      " 4   Sex          891 non-null    object \n",
      " 5   Age          714 non-null    float64\n",
      " 6   SibSp        891 non-null    int64  \n",
      " 7   Parch        891 non-null    int64  \n",
      " 8   Ticket       891 non-null    object \n",
      " 9   Fare         891 non-null    float64\n",
      " 10  Cabin        204 non-null    object \n",
      " 11  Embarked     889 non-null    object \n",
      "dtypes: float64(2), int64(5), object(5)\n",
      "memory usage: 83.7+ KB\n"
     ]
    }
   ],
   "source": [
    "data.info()"
   ]
  },
  {
   "cell_type": "markdown",
   "id": "9603ea31",
   "metadata": {
    "papermill": {
     "duration": 0.026517,
     "end_time": "2024-06-16T08:48:28.969868",
     "exception": false,
     "start_time": "2024-06-16T08:48:28.943351",
     "status": "completed"
    },
    "tags": []
   },
   "source": [
    "\"AGE\",\"CABIN\" AND \"EMBARKED\" HAVE MISSING VALUES"
   ]
  },
  {
   "cell_type": "code",
   "execution_count": 5,
   "id": "f577ecf8",
   "metadata": {
    "execution": {
     "iopub.execute_input": "2024-06-16T08:48:29.034750Z",
     "iopub.status.busy": "2024-06-16T08:48:29.033794Z",
     "iopub.status.idle": "2024-06-16T08:48:29.072178Z",
     "shell.execute_reply": "2024-06-16T08:48:29.070954Z"
    },
    "papermill": {
     "duration": 0.070756,
     "end_time": "2024-06-16T08:48:29.074892",
     "exception": false,
     "start_time": "2024-06-16T08:48:29.004136",
     "status": "completed"
    },
    "tags": []
   },
   "outputs": [
    {
     "data": {
      "text/html": [
       "<div>\n",
       "<style scoped>\n",
       "    .dataframe tbody tr th:only-of-type {\n",
       "        vertical-align: middle;\n",
       "    }\n",
       "\n",
       "    .dataframe tbody tr th {\n",
       "        vertical-align: top;\n",
       "    }\n",
       "\n",
       "    .dataframe thead th {\n",
       "        text-align: right;\n",
       "    }\n",
       "</style>\n",
       "<table border=\"1\" class=\"dataframe\">\n",
       "  <thead>\n",
       "    <tr style=\"text-align: right;\">\n",
       "      <th></th>\n",
       "      <th>PassengerId</th>\n",
       "      <th>Survived</th>\n",
       "      <th>Pclass</th>\n",
       "      <th>Age</th>\n",
       "      <th>SibSp</th>\n",
       "      <th>Parch</th>\n",
       "      <th>Fare</th>\n",
       "    </tr>\n",
       "  </thead>\n",
       "  <tbody>\n",
       "    <tr>\n",
       "      <th>count</th>\n",
       "      <td>891.000000</td>\n",
       "      <td>891.000000</td>\n",
       "      <td>891.000000</td>\n",
       "      <td>714.000000</td>\n",
       "      <td>891.000000</td>\n",
       "      <td>891.000000</td>\n",
       "      <td>891.000000</td>\n",
       "    </tr>\n",
       "    <tr>\n",
       "      <th>mean</th>\n",
       "      <td>446.000000</td>\n",
       "      <td>0.383838</td>\n",
       "      <td>2.308642</td>\n",
       "      <td>29.699118</td>\n",
       "      <td>0.523008</td>\n",
       "      <td>0.381594</td>\n",
       "      <td>32.204208</td>\n",
       "    </tr>\n",
       "    <tr>\n",
       "      <th>std</th>\n",
       "      <td>257.353842</td>\n",
       "      <td>0.486592</td>\n",
       "      <td>0.836071</td>\n",
       "      <td>14.526497</td>\n",
       "      <td>1.102743</td>\n",
       "      <td>0.806057</td>\n",
       "      <td>49.693429</td>\n",
       "    </tr>\n",
       "    <tr>\n",
       "      <th>min</th>\n",
       "      <td>1.000000</td>\n",
       "      <td>0.000000</td>\n",
       "      <td>1.000000</td>\n",
       "      <td>0.420000</td>\n",
       "      <td>0.000000</td>\n",
       "      <td>0.000000</td>\n",
       "      <td>0.000000</td>\n",
       "    </tr>\n",
       "    <tr>\n",
       "      <th>25%</th>\n",
       "      <td>223.500000</td>\n",
       "      <td>0.000000</td>\n",
       "      <td>2.000000</td>\n",
       "      <td>20.125000</td>\n",
       "      <td>0.000000</td>\n",
       "      <td>0.000000</td>\n",
       "      <td>7.910400</td>\n",
       "    </tr>\n",
       "    <tr>\n",
       "      <th>50%</th>\n",
       "      <td>446.000000</td>\n",
       "      <td>0.000000</td>\n",
       "      <td>3.000000</td>\n",
       "      <td>28.000000</td>\n",
       "      <td>0.000000</td>\n",
       "      <td>0.000000</td>\n",
       "      <td>14.454200</td>\n",
       "    </tr>\n",
       "    <tr>\n",
       "      <th>75%</th>\n",
       "      <td>668.500000</td>\n",
       "      <td>1.000000</td>\n",
       "      <td>3.000000</td>\n",
       "      <td>38.000000</td>\n",
       "      <td>1.000000</td>\n",
       "      <td>0.000000</td>\n",
       "      <td>31.000000</td>\n",
       "    </tr>\n",
       "    <tr>\n",
       "      <th>max</th>\n",
       "      <td>891.000000</td>\n",
       "      <td>1.000000</td>\n",
       "      <td>3.000000</td>\n",
       "      <td>80.000000</td>\n",
       "      <td>8.000000</td>\n",
       "      <td>6.000000</td>\n",
       "      <td>512.329200</td>\n",
       "    </tr>\n",
       "  </tbody>\n",
       "</table>\n",
       "</div>"
      ],
      "text/plain": [
       "       PassengerId    Survived      Pclass         Age       SibSp  \\\n",
       "count   891.000000  891.000000  891.000000  714.000000  891.000000   \n",
       "mean    446.000000    0.383838    2.308642   29.699118    0.523008   \n",
       "std     257.353842    0.486592    0.836071   14.526497    1.102743   \n",
       "min       1.000000    0.000000    1.000000    0.420000    0.000000   \n",
       "25%     223.500000    0.000000    2.000000   20.125000    0.000000   \n",
       "50%     446.000000    0.000000    3.000000   28.000000    0.000000   \n",
       "75%     668.500000    1.000000    3.000000   38.000000    1.000000   \n",
       "max     891.000000    1.000000    3.000000   80.000000    8.000000   \n",
       "\n",
       "            Parch        Fare  \n",
       "count  891.000000  891.000000  \n",
       "mean     0.381594   32.204208  \n",
       "std      0.806057   49.693429  \n",
       "min      0.000000    0.000000  \n",
       "25%      0.000000    7.910400  \n",
       "50%      0.000000   14.454200  \n",
       "75%      0.000000   31.000000  \n",
       "max      6.000000  512.329200  "
      ]
     },
     "execution_count": 5,
     "metadata": {},
     "output_type": "execute_result"
    }
   ],
   "source": [
    "data.describe()"
   ]
  },
  {
   "cell_type": "code",
   "execution_count": 6,
   "id": "1b188c6f",
   "metadata": {
    "execution": {
     "iopub.execute_input": "2024-06-16T08:48:29.130355Z",
     "iopub.status.busy": "2024-06-16T08:48:29.129947Z",
     "iopub.status.idle": "2024-06-16T08:48:29.154443Z",
     "shell.execute_reply": "2024-06-16T08:48:29.153163Z"
    },
    "papermill": {
     "duration": 0.055409,
     "end_time": "2024-06-16T08:48:29.157089",
     "exception": false,
     "start_time": "2024-06-16T08:48:29.101680",
     "status": "completed"
    },
    "tags": []
   },
   "outputs": [
    {
     "data": {
      "text/html": [
       "<div>\n",
       "<style scoped>\n",
       "    .dataframe tbody tr th:only-of-type {\n",
       "        vertical-align: middle;\n",
       "    }\n",
       "\n",
       "    .dataframe tbody tr th {\n",
       "        vertical-align: top;\n",
       "    }\n",
       "\n",
       "    .dataframe thead th {\n",
       "        text-align: right;\n",
       "    }\n",
       "</style>\n",
       "<table border=\"1\" class=\"dataframe\">\n",
       "  <thead>\n",
       "    <tr style=\"text-align: right;\">\n",
       "      <th></th>\n",
       "      <th>Name</th>\n",
       "      <th>Sex</th>\n",
       "      <th>Ticket</th>\n",
       "      <th>Cabin</th>\n",
       "      <th>Embarked</th>\n",
       "    </tr>\n",
       "  </thead>\n",
       "  <tbody>\n",
       "    <tr>\n",
       "      <th>count</th>\n",
       "      <td>891</td>\n",
       "      <td>891</td>\n",
       "      <td>891</td>\n",
       "      <td>204</td>\n",
       "      <td>889</td>\n",
       "    </tr>\n",
       "    <tr>\n",
       "      <th>unique</th>\n",
       "      <td>891</td>\n",
       "      <td>2</td>\n",
       "      <td>681</td>\n",
       "      <td>147</td>\n",
       "      <td>3</td>\n",
       "    </tr>\n",
       "    <tr>\n",
       "      <th>top</th>\n",
       "      <td>Braund, Mr. Owen Harris</td>\n",
       "      <td>male</td>\n",
       "      <td>347082</td>\n",
       "      <td>B96 B98</td>\n",
       "      <td>S</td>\n",
       "    </tr>\n",
       "    <tr>\n",
       "      <th>freq</th>\n",
       "      <td>1</td>\n",
       "      <td>577</td>\n",
       "      <td>7</td>\n",
       "      <td>4</td>\n",
       "      <td>644</td>\n",
       "    </tr>\n",
       "  </tbody>\n",
       "</table>\n",
       "</div>"
      ],
      "text/plain": [
       "                           Name   Sex  Ticket    Cabin Embarked\n",
       "count                       891   891     891      204      889\n",
       "unique                      891     2     681      147        3\n",
       "top     Braund, Mr. Owen Harris  male  347082  B96 B98        S\n",
       "freq                          1   577       7        4      644"
      ]
     },
     "execution_count": 6,
     "metadata": {},
     "output_type": "execute_result"
    }
   ],
   "source": [
    "data.describe(include=\"object\")"
   ]
  },
  {
   "cell_type": "code",
   "execution_count": 7,
   "id": "4b833132",
   "metadata": {
    "execution": {
     "iopub.execute_input": "2024-06-16T08:48:29.212628Z",
     "iopub.status.busy": "2024-06-16T08:48:29.211497Z",
     "iopub.status.idle": "2024-06-16T08:48:29.221763Z",
     "shell.execute_reply": "2024-06-16T08:48:29.220586Z"
    },
    "papermill": {
     "duration": 0.040562,
     "end_time": "2024-06-16T08:48:29.224246",
     "exception": false,
     "start_time": "2024-06-16T08:48:29.183684",
     "status": "completed"
    },
    "tags": []
   },
   "outputs": [
    {
     "data": {
      "text/plain": [
       "PassengerId      0\n",
       "Survived         0\n",
       "Pclass           0\n",
       "Name             0\n",
       "Sex              0\n",
       "Age            177\n",
       "SibSp            0\n",
       "Parch            0\n",
       "Ticket           0\n",
       "Fare             0\n",
       "Cabin          687\n",
       "Embarked         2\n",
       "dtype: int64"
      ]
     },
     "execution_count": 7,
     "metadata": {},
     "output_type": "execute_result"
    }
   ],
   "source": [
    "data.isnull().sum()"
   ]
  },
  {
   "cell_type": "code",
   "execution_count": 8,
   "id": "819bb02e",
   "metadata": {
    "execution": {
     "iopub.execute_input": "2024-06-16T08:48:29.344135Z",
     "iopub.status.busy": "2024-06-16T08:48:29.343747Z",
     "iopub.status.idle": "2024-06-16T08:48:29.356573Z",
     "shell.execute_reply": "2024-06-16T08:48:29.355429Z"
    },
    "papermill": {
     "duration": 0.043519,
     "end_time": "2024-06-16T08:48:29.359218",
     "exception": false,
     "start_time": "2024-06-16T08:48:29.315699",
     "status": "completed"
    },
    "tags": []
   },
   "outputs": [
    {
     "data": {
      "text/plain": [
       "array([False])"
      ]
     },
     "execution_count": 8,
     "metadata": {},
     "output_type": "execute_result"
    }
   ],
   "source": [
    "data.duplicated().unique()"
   ]
  },
  {
   "cell_type": "code",
   "execution_count": 9,
   "id": "362bb58b",
   "metadata": {
    "execution": {
     "iopub.execute_input": "2024-06-16T08:48:29.415533Z",
     "iopub.status.busy": "2024-06-16T08:48:29.415123Z",
     "iopub.status.idle": "2024-06-16T08:48:29.423018Z",
     "shell.execute_reply": "2024-06-16T08:48:29.421890Z"
    },
    "papermill": {
     "duration": 0.03928,
     "end_time": "2024-06-16T08:48:29.425447",
     "exception": false,
     "start_time": "2024-06-16T08:48:29.386167",
     "status": "completed"
    },
    "tags": []
   },
   "outputs": [
    {
     "data": {
      "text/plain": [
       "array([3, 1, 2])"
      ]
     },
     "execution_count": 9,
     "metadata": {},
     "output_type": "execute_result"
    }
   ],
   "source": [
    "data[\"Pclass\"].unique()"
   ]
  },
  {
   "cell_type": "markdown",
   "id": "3def3d32",
   "metadata": {
    "papermill": {
     "duration": 0.026922,
     "end_time": "2024-06-16T08:48:29.479467",
     "exception": false,
     "start_time": "2024-06-16T08:48:29.452545",
     "status": "completed"
    },
    "tags": []
   },
   "source": [
    "\"Pclass\" REPRESENTS TICKET CLASS OF THE PASSENGERS."
   ]
  },
  {
   "cell_type": "code",
   "execution_count": 10,
   "id": "63f75107",
   "metadata": {
    "execution": {
     "iopub.execute_input": "2024-06-16T08:48:29.535817Z",
     "iopub.status.busy": "2024-06-16T08:48:29.535420Z",
     "iopub.status.idle": "2024-06-16T08:48:29.542786Z",
     "shell.execute_reply": "2024-06-16T08:48:29.541686Z"
    },
    "papermill": {
     "duration": 0.038394,
     "end_time": "2024-06-16T08:48:29.545225",
     "exception": false,
     "start_time": "2024-06-16T08:48:29.506831",
     "status": "completed"
    },
    "tags": []
   },
   "outputs": [
    {
     "data": {
      "text/plain": [
       "array(['S', 'C', 'Q', nan], dtype=object)"
      ]
     },
     "execution_count": 10,
     "metadata": {},
     "output_type": "execute_result"
    }
   ],
   "source": [
    "data[\"Embarked\"].unique()"
   ]
  },
  {
   "cell_type": "markdown",
   "id": "f4200712",
   "metadata": {
    "papermill": {
     "duration": 0.027387,
     "end_time": "2024-06-16T08:48:29.600535",
     "exception": false,
     "start_time": "2024-06-16T08:48:29.573148",
     "status": "completed"
    },
    "tags": []
   },
   "source": [
    "\"Embarked\" REPRESENTS ABBREVIATIONS FOR STATIONS."
   ]
  },
  {
   "cell_type": "code",
   "execution_count": 11,
   "id": "f62f509c",
   "metadata": {
    "execution": {
     "iopub.execute_input": "2024-06-16T08:48:29.657665Z",
     "iopub.status.busy": "2024-06-16T08:48:29.657223Z",
     "iopub.status.idle": "2024-06-16T08:48:29.956734Z",
     "shell.execute_reply": "2024-06-16T08:48:29.955466Z"
    },
    "papermill": {
     "duration": 0.331882,
     "end_time": "2024-06-16T08:48:29.959860",
     "exception": false,
     "start_time": "2024-06-16T08:48:29.627978",
     "status": "completed"
    },
    "tags": []
   },
   "outputs": [
    {
     "data": {
      "image/png": "[encoded data removed]",
      "text/plain": [
       "<Figure size 640x480 with 1 Axes>"
      ]
     },
     "metadata": {},
     "output_type": "display_data"
    }
   ],
   "source": [
    "data1=data[\"Survived\"].value_counts().reset_index()\n",
    "data1.columns=[\"Survived\",\"Count\"]\n",
    "bar1=sns.barplot(x=data1[\"Survived\"],y=data1[\"Count\"],palette=['r','g'])\n",
    "bar1.bar_label(bar1.containers[0])\n",
    "plt.title(\"Survival Count\")\n",
    "plt.xlabel(\"Survived\")\n",
    "plt.ylabel(\"Count\")\n",
    "plt.show()"
   ]
  },
  {
   "cell_type": "markdown",
   "id": "2c482ce2",
   "metadata": {
    "papermill": {
     "duration": 0.027824,
     "end_time": "2024-06-16T08:48:30.022866",
     "exception": false,
     "start_time": "2024-06-16T08:48:29.995042",
     "status": "completed"
    },
    "tags": []
   },
   "source": [
    "COUNT OF SURVIVORS WAS LESS THAN THE PEOPLE WHO LOST THEIR LIVES"
   ]
  },
  {
   "cell_type": "code",
   "execution_count": 12,
   "id": "f8314ee2",
   "metadata": {
    "execution": {
     "iopub.execute_input": "2024-06-16T08:48:30.081541Z",
     "iopub.status.busy": "2024-06-16T08:48:30.081073Z",
     "iopub.status.idle": "2024-06-16T08:48:30.373708Z",
     "shell.execute_reply": "2024-06-16T08:48:30.372368Z"
    },
    "papermill": {
     "duration": 0.325505,
     "end_time": "2024-06-16T08:48:30.376429",
     "exception": false,
     "start_time": "2024-06-16T08:48:30.050924",
     "status": "completed"
    },
    "tags": []
   },
   "outputs": [
    {
     "data": {
      "image/png": "[encoded data removed]",
      "text/plain": [
       "<Figure size 640x480 with 1 Axes>"
      ]
     },
     "metadata": {},
     "output_type": "display_data"
    }
   ],
   "source": [
    "data2=data[\"Pclass\"].value_counts().reset_index()\n",
    "data2.columns=[\"Pclass\",\"Count\"]\n",
    "bar2=sns.barplot(x=data2[\"Pclass\"],y=data2[\"Count\"],palette=['r','g','y'])\n",
    "bar2.bar_label(bar2.containers[0])\n",
    "plt.title(\"Ticket Classes\")\n",
    "plt.xlabel(\"Classes\")\n",
    "plt.ylabel(\"Count\")\n",
    "plt.show()"
   ]
  },
  {
   "cell_type": "markdown",
   "id": "4e4f4eed",
   "metadata": {
    "papermill": {
     "duration": 0.02946,
     "end_time": "2024-06-16T08:48:30.434676",
     "exception": false,
     "start_time": "2024-06-16T08:48:30.405216",
     "status": "completed"
    },
    "tags": []
   },
   "source": [
    "PEOPLE TRAVELLED MORE IN 3RD CLASS."
   ]
  },
  {
   "cell_type": "code",
   "execution_count": 13,
   "id": "28d7760b",
   "metadata": {
    "execution": {
     "iopub.execute_input": "2024-06-16T08:48:30.492717Z",
     "iopub.status.busy": "2024-06-16T08:48:30.492272Z",
     "iopub.status.idle": "2024-06-16T08:48:30.885846Z",
     "shell.execute_reply": "2024-06-16T08:48:30.884442Z"
    },
    "papermill": {
     "duration": 0.426298,
     "end_time": "2024-06-16T08:48:30.889018",
     "exception": false,
     "start_time": "2024-06-16T08:48:30.462720",
     "status": "completed"
    },
    "tags": []
   },
   "outputs": [
    {
     "name": "stderr",
     "output_type": "stream",
     "text": [
      "/opt/conda/lib/python3.10/site-packages/seaborn/_oldcore.py:1119: FutureWarning: use_inf_as_na option is deprecated and will be removed in a future version. Convert inf values to NaN before operating instead.\n",
      "  with pd.option_context('mode.use_inf_as_na', True):\n"
     ]
    },
    {
     "data": {
      "image/png": "[encoded data removed]",
      "text/plain": [
       "<Figure size 640x480 with 1 Axes>"
      ]
     },
     "metadata": {},
     "output_type": "display_data"
    }
   ],
   "source": [
    "sns.histplot(x=data[\"Age\"],bins=30)\n",
    "plt.xlabel(\"Age\")\n",
    "plt.ylabel(\"Count\")\n",
    "plt.title(\"Age Distribution\")\n",
    "plt.show()"
   ]
  },
  {
   "cell_type": "markdown",
   "id": "5922c86d",
   "metadata": {
    "papermill": {
     "duration": 0.028451,
     "end_time": "2024-06-16T08:48:30.949933",
     "exception": false,
     "start_time": "2024-06-16T08:48:30.921482",
     "status": "completed"
    },
    "tags": []
   },
   "source": [
    "THIS SHOWS MAXIMUM NUMBER OF PEOPLE TRAVELLED BETWEEN AGE 20-40 YEARS"
   ]
  },
  {
   "cell_type": "code",
   "execution_count": 14,
   "id": "3d85ccd6",
   "metadata": {
    "execution": {
     "iopub.execute_input": "2024-06-16T08:48:31.010852Z",
     "iopub.status.busy": "2024-06-16T08:48:31.009807Z",
     "iopub.status.idle": "2024-06-16T08:48:31.285949Z",
     "shell.execute_reply": "2024-06-16T08:48:31.284739Z"
    },
    "papermill": {
     "duration": 0.309938,
     "end_time": "2024-06-16T08:48:31.288594",
     "exception": false,
     "start_time": "2024-06-16T08:48:30.978656",
     "status": "completed"
    },
    "tags": []
   },
   "outputs": [
    {
     "data": {
      "image/png": "[encoded data removed]",
      "text/plain": [
       "<Figure size 640x480 with 1 Axes>"
      ]
     },
     "metadata": {},
     "output_type": "display_data"
    }
   ],
   "source": [
    "data3=data[\"Sex\"].value_counts().reset_index()\n",
    "data3.columns=[\"Sex\",\"Count\"]\n",
    "bar3=sns.barplot(x=data3[\"Sex\"],y=data3[\"Count\"],palette=['r','g','y'])\n",
    "bar3.bar_label(bar3.containers[0])\n",
    "plt.title(\"Male vs Female Ratio\")\n",
    "plt.xlabel(\"Sex\")\n",
    "plt.ylabel(\"Count\")\n",
    "plt.show()"
   ]
  },
  {
   "cell_type": "markdown",
   "id": "b1224e93",
   "metadata": {
    "papermill": {
     "duration": 0.028899,
     "end_time": "2024-06-16T08:48:31.347518",
     "exception": false,
     "start_time": "2024-06-16T08:48:31.318619",
     "status": "completed"
    },
    "tags": []
   },
   "source": [
    "MALES TRAVELLED MORE THAN FEMALES"
   ]
  },
  {
   "cell_type": "code",
   "execution_count": 15,
   "id": "734c150f",
   "metadata": {
    "execution": {
     "iopub.execute_input": "2024-06-16T08:48:31.408072Z",
     "iopub.status.busy": "2024-06-16T08:48:31.407622Z",
     "iopub.status.idle": "2024-06-16T08:48:31.687399Z",
     "shell.execute_reply": "2024-06-16T08:48:31.685901Z"
    },
    "papermill": {
     "duration": 0.314797,
     "end_time": "2024-06-16T08:48:31.691498",
     "exception": false,
     "start_time": "2024-06-16T08:48:31.376701",
     "status": "completed"
    },
    "tags": []
   },
   "outputs": [
    {
     "data": {
      "image/png": "[encoded data removed]",
      "text/plain": [
       "<Figure size 640x480 with 1 Axes>"
      ]
     },
     "metadata": {},
     "output_type": "display_data"
    }
   ],
   "source": [
    "data4=data[\"Embarked\"].value_counts().reset_index()\n",
    "data4.columns=[\"Embarked\",\"Count\"]\n",
    "bar4=sns.barplot(x=data4[\"Embarked\"],y=data4[\"Count\"],palette=['k','b','m'])\n",
    "bar4.bar_label(bar4.containers[0])\n",
    "plt.title(\"People Going From Various Stations\")\n",
    "plt.xlabel(\"Stations\")\n",
    "plt.ylabel(\"Count\")\n",
    "plt.show()"
   ]
  },
  {
   "cell_type": "markdown",
   "id": "2120d73d",
   "metadata": {
    "papermill": {
     "duration": 0.029927,
     "end_time": "2024-06-16T08:48:31.751283",
     "exception": false,
     "start_time": "2024-06-16T08:48:31.721356",
     "status": "completed"
    },
    "tags": []
   },
   "source": [
    "MAXIMUM NUMBER OF PEOPLE WERE TRAVELLING FROM STATION \"S\"."
   ]
  },
  {
   "cell_type": "code",
   "execution_count": 16,
   "id": "54f7bc4b",
   "metadata": {
    "execution": {
     "iopub.execute_input": "2024-06-16T08:48:31.811829Z",
     "iopub.status.busy": "2024-06-16T08:48:31.811372Z",
     "iopub.status.idle": "2024-06-16T08:48:32.153780Z",
     "shell.execute_reply": "2024-06-16T08:48:32.152464Z"
    },
    "papermill": {
     "duration": 0.375975,
     "end_time": "2024-06-16T08:48:32.156691",
     "exception": false,
     "start_time": "2024-06-16T08:48:31.780716",
     "status": "completed"
    },
    "tags": []
   },
   "outputs": [
    {
     "data": {
      "image/png": "[encoded data removed]",
      "text/plain": [
       "<Figure size 640x480 with 1 Axes>"
      ]
     },
     "metadata": {},
     "output_type": "display_data"
    }
   ],
   "source": [
    "data5=data[\"SibSp\"].value_counts().reset_index()\n",
    "data5.columns=[\"SibSp\",\"Count\"]\n",
    "bar5=sns.barplot(x=data5[\"SibSp\"],y=data5[\"Count\"])\n",
    "bar5.bar_label(bar5.containers[0])\n",
    "plt.title(\"Number of Siblings/Spouse Travelling\")\n",
    "plt.xlabel(\"Siblings/Spouse\")\n",
    "plt.ylabel(\"Count\")\n",
    "plt.show()"
   ]
  },
  {
   "cell_type": "code",
   "execution_count": 17,
   "id": "5cecfe8c",
   "metadata": {
    "execution": {
     "iopub.execute_input": "2024-06-16T08:48:32.220432Z",
     "iopub.status.busy": "2024-06-16T08:48:32.220016Z",
     "iopub.status.idle": "2024-06-16T08:48:32.559773Z",
     "shell.execute_reply": "2024-06-16T08:48:32.558477Z"
    },
    "papermill": {
     "duration": 0.374429,
     "end_time": "2024-06-16T08:48:32.562546",
     "exception": false,
     "start_time": "2024-06-16T08:48:32.188117",
     "status": "completed"
    },
    "tags": []
   },
   "outputs": [
    {
     "data": {
      "image/png": "[encoded data removed]",
      "text/plain": [
       "<Figure size 640x480 with 1 Axes>"
      ]
     },
     "metadata": {},
     "output_type": "display_data"
    }
   ],
   "source": [
    "data6=data[\"Parch\"].value_counts().reset_index()\n",
    "data6.columns=[\"Parch\",\"Count\"]\n",
    "bar6=sns.barplot(x=data6[\"Parch\"],y=data6[\"Count\"])\n",
    "bar6.bar_label(bar6.containers[0])\n",
    "plt.title(\"Number of Parents/Children Travelling\")\n",
    "plt.xlabel(\"Parents/Children\")\n",
    "plt.ylabel(\"Count\")\n",
    "plt.show()"
   ]
  },
  {
   "cell_type": "markdown",
   "id": "8ffdc393",
   "metadata": {
    "papermill": {
     "duration": 0.029689,
     "end_time": "2024-06-16T08:48:32.622435",
     "exception": false,
     "start_time": "2024-06-16T08:48:32.592746",
     "status": "completed"
    },
    "tags": []
   },
   "source": [
    "BOTH SPOUSES/SIBLINGS AND PARENT/CHILDREN GRAPH SHOWS THAT MAXIMUM PEOPLE TRAVELLED ALONE "
   ]
  },
  {
   "cell_type": "code",
   "execution_count": 18,
   "id": "ceda237e",
   "metadata": {
    "execution": {
     "iopub.execute_input": "2024-06-16T08:48:32.684544Z",
     "iopub.status.busy": "2024-06-16T08:48:32.684107Z",
     "iopub.status.idle": "2024-06-16T08:48:33.050644Z",
     "shell.execute_reply": "2024-06-16T08:48:33.049360Z"
    },
    "papermill": {
     "duration": 0.400883,
     "end_time": "2024-06-16T08:48:33.053446",
     "exception": false,
     "start_time": "2024-06-16T08:48:32.652563",
     "status": "completed"
    },
    "tags": []
   },
   "outputs": [
    {
     "data": {
      "image/png": "[encoded data removed]",
      "text/plain": [
       "<Figure size 640x480 with 1 Axes>"
      ]
     },
     "metadata": {},
     "output_type": "display_data"
    }
   ],
   "source": [
    "data7=data[[\"Survived\",\"Embarked\"]].value_counts().reset_index()\n",
    "data7.columns=[\"Survived\",\"Embarked\",\"Count\"]\n",
    "bar7=sns.barplot(x=data7[\"Survived\"],y=data7[\"Count\"],hue=data7[\"Embarked\"],palette=['m','y','c'])\n",
    "bar7.bar_label(bar7.containers[0])\n",
    "bar7.bar_label(bar7.containers[1])\n",
    "bar7.bar_label(bar7.containers[2])\n",
    "plt.title(\"Station Wise Survival\")\n",
    "plt.xlabel(\"Survived\")\n",
    "plt.ylabel(\"Count\")\n",
    "plt.show()"
   ]
  },
  {
   "cell_type": "markdown",
   "id": "b463881c",
   "metadata": {
    "papermill": {
     "duration": 0.030616,
     "end_time": "2024-06-16T08:48:33.115590",
     "exception": false,
     "start_time": "2024-06-16T08:48:33.084974",
     "status": "completed"
    },
    "tags": []
   },
   "source": [
    "MAXIMUM PEOPLE WHO DIED WERE FROM STATION \"S\""
   ]
  },
  {
   "cell_type": "code",
   "execution_count": 19,
   "id": "9d7286ff",
   "metadata": {
    "execution": {
     "iopub.execute_input": "2024-06-16T08:48:33.180305Z",
     "iopub.status.busy": "2024-06-16T08:48:33.179886Z",
     "iopub.status.idle": "2024-06-16T08:48:33.483406Z",
     "shell.execute_reply": "2024-06-16T08:48:33.482231Z"
    },
    "papermill": {
     "duration": 0.339311,
     "end_time": "2024-06-16T08:48:33.486342",
     "exception": false,
     "start_time": "2024-06-16T08:48:33.147031",
     "status": "completed"
    },
    "tags": []
   },
   "outputs": [
    {
     "data": {
      "image/png": "[encoded data removed]",
      "text/plain": [
       "<Figure size 640x480 with 1 Axes>"
      ]
     },
     "metadata": {},
     "output_type": "display_data"
    }
   ],
   "source": [
    "data8=data[[\"Survived\",\"Sex\"]].value_counts().reset_index()\n",
    "data8.columns=[\"Survived\",\"Sex\",\"Count\"]\n",
    "bar8=sns.barplot(x=data8[\"Survived\"],y=data8[\"Count\"],hue=data8[\"Sex\"])\n",
    "bar8.bar_label(bar8.containers[0])\n",
    "bar8.bar_label(bar8.containers[1])\n",
    "plt.title(\"Male vs Female Survival\")\n",
    "plt.xlabel(\"Survived\")\n",
    "plt.ylabel(\"Count\")\n",
    "plt.show()"
   ]
  },
  {
   "cell_type": "markdown",
   "id": "b3e2e594",
   "metadata": {
    "papermill": {
     "duration": 0.030733,
     "end_time": "2024-06-16T08:48:33.548467",
     "exception": false,
     "start_time": "2024-06-16T08:48:33.517734",
     "status": "completed"
    },
    "tags": []
   },
   "source": [
    "FEMALES SURVIVED MORE THAN MALES"
   ]
  },
  {
   "cell_type": "code",
   "execution_count": 20,
   "id": "385d03fd",
   "metadata": {
    "execution": {
     "iopub.execute_input": "2024-06-16T08:48:33.615063Z",
     "iopub.status.busy": "2024-06-16T08:48:33.614154Z",
     "iopub.status.idle": "2024-06-16T08:48:33.972532Z",
     "shell.execute_reply": "2024-06-16T08:48:33.971282Z"
    },
    "papermill": {
     "duration": 0.394848,
     "end_time": "2024-06-16T08:48:33.975316",
     "exception": false,
     "start_time": "2024-06-16T08:48:33.580468",
     "status": "completed"
    },
    "tags": []
   },
   "outputs": [
    {
     "data": {
      "image/png": "[encoded data removed]",
      "text/plain": [
       "<Figure size 640x480 with 1 Axes>"
      ]
     },
     "metadata": {},
     "output_type": "display_data"
    }
   ],
   "source": [
    "data9=data[[\"Survived\",\"Pclass\"]].value_counts().reset_index()\n",
    "data9.columns=[\"Survived\",\"Pclass\",\"Count\"]\n",
    "bar9=sns.barplot(x=data9[\"Survived\"],y=data9[\"Count\"],hue=data9[\"Pclass\"])\n",
    "bar9.bar_label(bar9.containers[0])\n",
    "bar9.bar_label(bar9.containers[1])\n",
    "bar9.bar_label(bar9.containers[2])\n",
    "plt.title(\"Ticket Class Survival\")\n",
    "plt.xlabel(\"Survived\")\n",
    "plt.ylabel(\"Count\")\n",
    "plt.show()"
   ]
  },
  {
   "cell_type": "markdown",
   "id": "c67bb418",
   "metadata": {
    "papermill": {
     "duration": 0.033563,
     "end_time": "2024-06-16T08:48:34.042062",
     "exception": false,
     "start_time": "2024-06-16T08:48:34.008499",
     "status": "completed"
    },
    "tags": []
   },
   "source": [
    "PEOPLE WHO TRAVELLED IN 3RD CLASS DIED MORE"
   ]
  },
  {
   "cell_type": "code",
   "execution_count": 21,
   "id": "99700b18",
   "metadata": {
    "execution": {
     "iopub.execute_input": "2024-06-16T08:48:34.107759Z",
     "iopub.status.busy": "2024-06-16T08:48:34.107308Z",
     "iopub.status.idle": "2024-06-16T08:48:34.769595Z",
     "shell.execute_reply": "2024-06-16T08:48:34.768303Z"
    },
    "papermill": {
     "duration": 0.698502,
     "end_time": "2024-06-16T08:48:34.772224",
     "exception": false,
     "start_time": "2024-06-16T08:48:34.073722",
     "status": "completed"
    },
    "tags": []
   },
   "outputs": [
    {
     "name": "stderr",
     "output_type": "stream",
     "text": [
      "/opt/conda/lib/python3.10/site-packages/seaborn/_oldcore.py:1119: FutureWarning: use_inf_as_na option is deprecated and will be removed in a future version. Convert inf values to NaN before operating instead.\n",
      "  with pd.option_context('mode.use_inf_as_na', True):\n",
      "/opt/conda/lib/python3.10/site-packages/seaborn/_oldcore.py:1119: FutureWarning: use_inf_as_na option is deprecated and will be removed in a future version. Convert inf values to NaN before operating instead.\n",
      "  with pd.option_context('mode.use_inf_as_na', True):\n",
      "/opt/conda/lib/python3.10/site-packages/seaborn/_oldcore.py:1075: FutureWarning: When grouping with a length-1 list-like, you will need to pass a length-1 tuple to get_group in a future version of pandas. Pass `(name,)` instead of `name` to silence this warning.\n",
      "  data_subset = grouped_data.get_group(pd_key)\n"
     ]
    },
    {
     "data": {
      "image/png": "[encoded data removed]",
      "text/plain": [
       "<Figure size 572.111x500 with 1 Axes>"
      ]
     },
     "metadata": {},
     "output_type": "display_data"
    }
   ],
   "source": [
    "sns.displot(x=data[\"Survived\"],y=data[\"Age\"],hue=data[\"Survived\"])\n",
    "plt.title(\"Age vs Survival Ratio\")\n",
    "plt.show()"
   ]
  },
  {
   "cell_type": "code",
   "execution_count": 22,
   "id": "639de8bb",
   "metadata": {
    "execution": {
     "iopub.execute_input": "2024-06-16T08:48:34.839293Z",
     "iopub.status.busy": "2024-06-16T08:48:34.838868Z",
     "iopub.status.idle": "2024-06-16T08:48:35.385467Z",
     "shell.execute_reply": "2024-06-16T08:48:35.384178Z"
    },
    "papermill": {
     "duration": 0.583407,
     "end_time": "2024-06-16T08:48:35.388131",
     "exception": false,
     "start_time": "2024-06-16T08:48:34.804724",
     "status": "completed"
    },
    "tags": []
   },
   "outputs": [
    {
     "data": {
      "image/png": "[encoded data removed]",
      "text/plain": [
       "<Figure size 640x480 with 1 Axes>"
      ]
     },
     "metadata": {},
     "output_type": "display_data"
    }
   ],
   "source": [
    "sns.scatterplot(x=data[\"SibSp\"],y=data[\"Age\"],hue=data[\"SibSp\"])\n",
    "plt.title(\"Age vs Spouses/Siblings Ratio\")\n",
    "plt.show()"
   ]
  },
  {
   "cell_type": "markdown",
   "id": "f0ded9ba",
   "metadata": {
    "papermill": {
     "duration": 0.035304,
     "end_time": "2024-06-16T08:48:35.457615",
     "exception": false,
     "start_time": "2024-06-16T08:48:35.422311",
     "status": "completed"
    },
    "tags": []
   },
   "source": [
    "PEOPLE BETWEEN 0-30 YEARS TRAVELLED WITH >=4 PEOPLE."
   ]
  },
  {
   "cell_type": "code",
   "execution_count": 23,
   "id": "e59a0f4b",
   "metadata": {
    "execution": {
     "iopub.execute_input": "2024-06-16T08:48:35.527239Z",
     "iopub.status.busy": "2024-06-16T08:48:35.526812Z",
     "iopub.status.idle": "2024-06-16T08:48:36.226976Z",
     "shell.execute_reply": "2024-06-16T08:48:36.225627Z"
    },
    "papermill": {
     "duration": 0.738508,
     "end_time": "2024-06-16T08:48:36.230021",
     "exception": false,
     "start_time": "2024-06-16T08:48:35.491513",
     "status": "completed"
    },
    "tags": []
   },
   "outputs": [
    {
     "data": {
      "image/png": "[encoded data removed]",
      "text/plain": [
       "<Figure size 640x480 with 1 Axes>"
      ]
     },
     "metadata": {},
     "output_type": "display_data"
    }
   ],
   "source": [
    "sns.scatterplot(x=data[\"Parch\"],y=data[\"Age\"],hue=data[\"Parch\"])\n",
    "plt.title(\"Age vs Parents/Children Ratio\")\n",
    "plt.show()"
   ]
  },
  {
   "cell_type": "markdown",
   "id": "a28b89db",
   "metadata": {
    "papermill": {
     "duration": 0.033576,
     "end_time": "2024-06-16T08:48:36.299803",
     "exception": false,
     "start_time": "2024-06-16T08:48:36.266227",
     "status": "completed"
    },
    "tags": []
   },
   "source": [
    "AS YOU CAN SEE PEOPLE AGED BETWEEN 30-70 YEARS TRAVELLED WITH THEIR CHILDEN."
   ]
  },
  {
   "cell_type": "markdown",
   "id": "77f28e18",
   "metadata": {
    "papermill": {
     "duration": 0.035018,
     "end_time": "2024-06-16T08:48:36.368905",
     "exception": false,
     "start_time": "2024-06-16T08:48:36.333887",
     "status": "completed"
    },
    "tags": []
   },
   "source": [
    "# DATA PREPROCESSING"
   ]
  },
  {
   "cell_type": "markdown",
   "id": "898c5248",
   "metadata": {
    "papermill": {
     "duration": 0.035269,
     "end_time": "2024-06-16T08:48:36.438121",
     "exception": false,
     "start_time": "2024-06-16T08:48:36.402852",
     "status": "completed"
    },
    "tags": []
   },
   "source": [
    "#### ENCODING \"Sex\" AND \"Embarked\" COLUMN"
   ]
  },
  {
   "cell_type": "code",
   "execution_count": 24,
   "id": "8e1154f2",
   "metadata": {
    "execution": {
     "iopub.execute_input": "2024-06-16T08:48:36.509132Z",
     "iopub.status.busy": "2024-06-16T08:48:36.508672Z",
     "iopub.status.idle": "2024-06-16T08:48:36.518217Z",
     "shell.execute_reply": "2024-06-16T08:48:36.516865Z"
    },
    "papermill": {
     "duration": 0.048449,
     "end_time": "2024-06-16T08:48:36.520928",
     "exception": false,
     "start_time": "2024-06-16T08:48:36.472479",
     "status": "completed"
    },
    "tags": []
   },
   "outputs": [],
   "source": [
    "data[\"Sex\"]=data[\"Sex\"].map({\"male\":1,\"female\":0})\n",
    "data[\"Embarked\"]=data[\"Embarked\"].map({\"S\":0,\"C\":1,\"Q\":2})\n"
   ]
  },
  {
   "cell_type": "code",
   "execution_count": 25,
   "id": "0ed65c6c",
   "metadata": {
    "execution": {
     "iopub.execute_input": "2024-06-16T08:48:36.591729Z",
     "iopub.status.busy": "2024-06-16T08:48:36.591284Z",
     "iopub.status.idle": "2024-06-16T08:48:36.612252Z",
     "shell.execute_reply": "2024-06-16T08:48:36.611019Z"
    },
    "papermill": {
     "duration": 0.059107,
     "end_time": "2024-06-16T08:48:36.614842",
     "exception": false,
     "start_time": "2024-06-16T08:48:36.555735",
     "status": "completed"
    },
    "tags": []
   },
   "outputs": [
    {
     "data": {
      "text/html": [
       "<div>\n",
       "<style scoped>\n",
       "    .dataframe tbody tr th:only-of-type {\n",
       "        vertical-align: middle;\n",
       "    }\n",
       "\n",
       "    .dataframe tbody tr th {\n",
       "        vertical-align: top;\n",
       "    }\n",
       "\n",
       "    .dataframe thead th {\n",
       "        text-align: right;\n",
       "    }\n",
       "</style>\n",
       "<table border=\"1\" class=\"dataframe\">\n",
       "  <thead>\n",
       "    <tr style=\"text-align: right;\">\n",
       "      <th></th>\n",
       "      <th>PassengerId</th>\n",
       "      <th>Survived</th>\n",
       "      <th>Pclass</th>\n",
       "      <th>Name</th>\n",
       "      <th>Sex</th>\n",
       "      <th>Age</th>\n",
       "      <th>SibSp</th>\n",
       "      <th>Parch</th>\n",
       "      <th>Ticket</th>\n",
       "      <th>Fare</th>\n",
       "      <th>Cabin</th>\n",
       "      <th>Embarked</th>\n",
       "    </tr>\n",
       "  </thead>\n",
       "  <tbody>\n",
       "    <tr>\n",
       "      <th>0</th>\n",
       "      <td>1</td>\n",
       "      <td>0</td>\n",
       "      <td>3</td>\n",
       "      <td>Braund, Mr. Owen Harris</td>\n",
       "      <td>1</td>\n",
       "      <td>22.0</td>\n",
       "      <td>1</td>\n",
       "      <td>0</td>\n",
       "      <td>A/5 21171</td>\n",
       "      <td>7.2500</td>\n",
       "      <td>NaN</td>\n",
       "      <td>0.0</td>\n",
       "    </tr>\n",
       "    <tr>\n",
       "      <th>1</th>\n",
       "      <td>2</td>\n",
       "      <td>1</td>\n",
       "      <td>1</td>\n",
       "      <td>Cumings, Mrs. John Bradley (Florence Briggs Th...</td>\n",
       "      <td>0</td>\n",
       "      <td>38.0</td>\n",
       "      <td>1</td>\n",
       "      <td>0</td>\n",
       "      <td>PC 17599</td>\n",
       "      <td>71.2833</td>\n",
       "      <td>C85</td>\n",
       "      <td>1.0</td>\n",
       "    </tr>\n",
       "    <tr>\n",
       "      <th>2</th>\n",
       "      <td>3</td>\n",
       "      <td>1</td>\n",
       "      <td>3</td>\n",
       "      <td>Heikkinen, Miss. Laina</td>\n",
       "      <td>0</td>\n",
       "      <td>26.0</td>\n",
       "      <td>0</td>\n",
       "      <td>0</td>\n",
       "      <td>STON/O2. 3101282</td>\n",
       "      <td>7.9250</td>\n",
       "      <td>NaN</td>\n",
       "      <td>0.0</td>\n",
       "    </tr>\n",
       "    <tr>\n",
       "      <th>3</th>\n",
       "      <td>4</td>\n",
       "      <td>1</td>\n",
       "      <td>1</td>\n",
       "      <td>Futrelle, Mrs. Jacques Heath (Lily May Peel)</td>\n",
       "      <td>0</td>\n",
       "      <td>35.0</td>\n",
       "      <td>1</td>\n",
       "      <td>0</td>\n",
       "      <td>113803</td>\n",
       "      <td>53.1000</td>\n",
       "      <td>C123</td>\n",
       "      <td>0.0</td>\n",
       "    </tr>\n",
       "    <tr>\n",
       "      <th>4</th>\n",
       "      <td>5</td>\n",
       "      <td>0</td>\n",
       "      <td>3</td>\n",
       "      <td>Allen, Mr. William Henry</td>\n",
       "      <td>1</td>\n",
       "      <td>35.0</td>\n",
       "      <td>0</td>\n",
       "      <td>0</td>\n",
       "      <td>373450</td>\n",
       "      <td>8.0500</td>\n",
       "      <td>NaN</td>\n",
       "      <td>0.0</td>\n",
       "    </tr>\n",
       "  </tbody>\n",
       "</table>\n",
       "</div>"
      ],
      "text/plain": [
       "   PassengerId  Survived  Pclass  \\\n",
       "0            1         0       3   \n",
       "1            2         1       1   \n",
       "2            3         1       3   \n",
       "3            4         1       1   \n",
       "4            5         0       3   \n",
       "\n",
       "                                                Name  Sex   Age  SibSp  Parch  \\\n",
       "0                            Braund, Mr. Owen Harris    1  22.0      1      0   \n",
       "1  Cumings, Mrs. John Bradley (Florence Briggs Th...    0  38.0      1      0   \n",
       "2                             Heikkinen, Miss. Laina    0  26.0      0      0   \n",
       "3       Futrelle, Mrs. Jacques Heath (Lily May Peel)    0  35.0      1      0   \n",
       "4                           Allen, Mr. William Henry    1  35.0      0      0   \n",
       "\n",
       "             Ticket     Fare Cabin  Embarked  \n",
       "0         A/5 21171   7.2500   NaN       0.0  \n",
       "1          PC 17599  71.2833   C85       1.0  \n",
       "2  STON/O2. 3101282   7.9250   NaN       0.0  \n",
       "3            113803  53.1000  C123       0.0  \n",
       "4            373450   8.0500   NaN       0.0  "
      ]
     },
     "execution_count": 25,
     "metadata": {},
     "output_type": "execute_result"
    }
   ],
   "source": [
    "data.head()"
   ]
  },
  {
   "cell_type": "markdown",
   "id": "3e78388a",
   "metadata": {
    "papermill": {
     "duration": 0.034351,
     "end_time": "2024-06-16T08:48:36.683883",
     "exception": false,
     "start_time": "2024-06-16T08:48:36.649532",
     "status": "completed"
    },
    "tags": []
   },
   "source": [
    "#### ENCODING \"Name\", \"Ticket\" AND \"Cabin\"\tCOLUMNS"
   ]
  },
  {
   "cell_type": "code",
   "execution_count": 26,
   "id": "8735c9d0",
   "metadata": {
    "execution": {
     "iopub.execute_input": "2024-06-16T08:48:36.757148Z",
     "iopub.status.busy": "2024-06-16T08:48:36.756676Z",
     "iopub.status.idle": "2024-06-16T08:48:36.769842Z",
     "shell.execute_reply": "2024-06-16T08:48:36.768465Z"
    },
    "papermill": {
     "duration": 0.05452,
     "end_time": "2024-06-16T08:48:36.772528",
     "exception": false,
     "start_time": "2024-06-16T08:48:36.718008",
     "status": "completed"
    },
    "tags": []
   },
   "outputs": [],
   "source": [
    "le=LabelEncoder()\n",
    "data[\"Name\"]=le.fit_transform(data[\"Name\"])\n",
    "data[\"Ticket\"]=le.fit_transform(data[\"Ticket\"])"
   ]
  },
  {
   "cell_type": "code",
   "execution_count": 27,
   "id": "3cf60fad",
   "metadata": {
    "execution": {
     "iopub.execute_input": "2024-06-16T08:48:36.845631Z",
     "iopub.status.busy": "2024-06-16T08:48:36.844864Z",
     "iopub.status.idle": "2024-06-16T08:48:36.863860Z",
     "shell.execute_reply": "2024-06-16T08:48:36.862657Z"
    },
    "papermill": {
     "duration": 0.059861,
     "end_time": "2024-06-16T08:48:36.866871",
     "exception": false,
     "start_time": "2024-06-16T08:48:36.807010",
     "status": "completed"
    },
    "tags": []
   },
   "outputs": [
    {
     "data": {
      "text/html": [
       "<div>\n",
       "<style scoped>\n",
       "    .dataframe tbody tr th:only-of-type {\n",
       "        vertical-align: middle;\n",
       "    }\n",
       "\n",
       "    .dataframe tbody tr th {\n",
       "        vertical-align: top;\n",
       "    }\n",
       "\n",
       "    .dataframe thead th {\n",
       "        text-align: right;\n",
       "    }\n",
       "</style>\n",
       "<table border=\"1\" class=\"dataframe\">\n",
       "  <thead>\n",
       "    <tr style=\"text-align: right;\">\n",
       "      <th></th>\n",
       "      <th>PassengerId</th>\n",
       "      <th>Survived</th>\n",
       "      <th>Pclass</th>\n",
       "      <th>Name</th>\n",
       "      <th>Sex</th>\n",
       "      <th>Age</th>\n",
       "      <th>SibSp</th>\n",
       "      <th>Parch</th>\n",
       "      <th>Ticket</th>\n",
       "      <th>Fare</th>\n",
       "      <th>Cabin</th>\n",
       "      <th>Embarked</th>\n",
       "    </tr>\n",
       "  </thead>\n",
       "  <tbody>\n",
       "    <tr>\n",
       "      <th>0</th>\n",
       "      <td>1</td>\n",
       "      <td>0</td>\n",
       "      <td>3</td>\n",
       "      <td>108</td>\n",
       "      <td>1</td>\n",
       "      <td>22.0</td>\n",
       "      <td>1</td>\n",
       "      <td>0</td>\n",
       "      <td>523</td>\n",
       "      <td>7.2500</td>\n",
       "      <td>NaN</td>\n",
       "      <td>0.0</td>\n",
       "    </tr>\n",
       "    <tr>\n",
       "      <th>1</th>\n",
       "      <td>2</td>\n",
       "      <td>1</td>\n",
       "      <td>1</td>\n",
       "      <td>190</td>\n",
       "      <td>0</td>\n",
       "      <td>38.0</td>\n",
       "      <td>1</td>\n",
       "      <td>0</td>\n",
       "      <td>596</td>\n",
       "      <td>71.2833</td>\n",
       "      <td>C85</td>\n",
       "      <td>1.0</td>\n",
       "    </tr>\n",
       "    <tr>\n",
       "      <th>2</th>\n",
       "      <td>3</td>\n",
       "      <td>1</td>\n",
       "      <td>3</td>\n",
       "      <td>353</td>\n",
       "      <td>0</td>\n",
       "      <td>26.0</td>\n",
       "      <td>0</td>\n",
       "      <td>0</td>\n",
       "      <td>669</td>\n",
       "      <td>7.9250</td>\n",
       "      <td>NaN</td>\n",
       "      <td>0.0</td>\n",
       "    </tr>\n",
       "    <tr>\n",
       "      <th>3</th>\n",
       "      <td>4</td>\n",
       "      <td>1</td>\n",
       "      <td>1</td>\n",
       "      <td>272</td>\n",
       "      <td>0</td>\n",
       "      <td>35.0</td>\n",
       "      <td>1</td>\n",
       "      <td>0</td>\n",
       "      <td>49</td>\n",
       "      <td>53.1000</td>\n",
       "      <td>C123</td>\n",
       "      <td>0.0</td>\n",
       "    </tr>\n",
       "    <tr>\n",
       "      <th>4</th>\n",
       "      <td>5</td>\n",
       "      <td>0</td>\n",
       "      <td>3</td>\n",
       "      <td>15</td>\n",
       "      <td>1</td>\n",
       "      <td>35.0</td>\n",
       "      <td>0</td>\n",
       "      <td>0</td>\n",
       "      <td>472</td>\n",
       "      <td>8.0500</td>\n",
       "      <td>NaN</td>\n",
       "      <td>0.0</td>\n",
       "    </tr>\n",
       "  </tbody>\n",
       "</table>\n",
       "</div>"
      ],
      "text/plain": [
       "   PassengerId  Survived  Pclass  Name  Sex   Age  SibSp  Parch  Ticket  \\\n",
       "0            1         0       3   108    1  22.0      1      0     523   \n",
       "1            2         1       1   190    0  38.0      1      0     596   \n",
       "2            3         1       3   353    0  26.0      0      0     669   \n",
       "3            4         1       1   272    0  35.0      1      0      49   \n",
       "4            5         0       3    15    1  35.0      0      0     472   \n",
       "\n",
       "      Fare Cabin  Embarked  \n",
       "0   7.2500   NaN       0.0  \n",
       "1  71.2833   C85       1.0  \n",
       "2   7.9250   NaN       0.0  \n",
       "3  53.1000  C123       0.0  \n",
       "4   8.0500   NaN       0.0  "
      ]
     },
     "execution_count": 27,
     "metadata": {},
     "output_type": "execute_result"
    }
   ],
   "source": [
    "data.head()"
   ]
  },
  {
   "cell_type": "markdown",
   "id": "9c1c858e",
   "metadata": {
    "papermill": {
     "duration": 0.034018,
     "end_time": "2024-06-16T08:48:36.935794",
     "exception": false,
     "start_time": "2024-06-16T08:48:36.901776",
     "status": "completed"
    },
    "tags": []
   },
   "source": [
    "#### HANDLING MISSING VALUES"
   ]
  },
  {
   "cell_type": "code",
   "execution_count": 28,
   "id": "4ce8ce3d",
   "metadata": {
    "execution": {
     "iopub.execute_input": "2024-06-16T08:48:37.007243Z",
     "iopub.status.busy": "2024-06-16T08:48:37.006148Z",
     "iopub.status.idle": "2024-06-16T08:48:37.013985Z",
     "shell.execute_reply": "2024-06-16T08:48:37.012941Z"
    },
    "papermill": {
     "duration": 0.046365,
     "end_time": "2024-06-16T08:48:37.016593",
     "exception": false,
     "start_time": "2024-06-16T08:48:36.970228",
     "status": "completed"
    },
    "tags": []
   },
   "outputs": [
    {
     "name": "stderr",
     "output_type": "stream",
     "text": [
      "/tmp/ipykernel_18/1809651159.py:1: FutureWarning: A value is trying to be set on a copy of a DataFrame or Series through chained assignment using an inplace method.\n",
      "The behavior will change in pandas 3.0. This inplace method will never work because the intermediate object on which we are setting values always behaves as a copy.\n",
      "\n",
      "For example, when doing 'df[col].method(value, inplace=True)', try using 'df.method({col: value}, inplace=True)' or df[col] = df[col].method(value) instead, to perform the operation inplace on the original object.\n",
      "\n",
      "\n",
      "  data['Age'].fillna(data[\"Age\"].median(), inplace=True)\n"
     ]
    }
   ],
   "source": [
    "data['Age'].fillna(data[\"Age\"].median(), inplace=True)\n"
   ]
  },
  {
   "cell_type": "code",
   "execution_count": 29,
   "id": "3437626f",
   "metadata": {
    "execution": {
     "iopub.execute_input": "2024-06-16T08:48:37.087510Z",
     "iopub.status.busy": "2024-06-16T08:48:37.087091Z",
     "iopub.status.idle": "2024-06-16T08:48:37.095454Z",
     "shell.execute_reply": "2024-06-16T08:48:37.094241Z"
    },
    "papermill": {
     "duration": 0.046987,
     "end_time": "2024-06-16T08:48:37.098067",
     "exception": false,
     "start_time": "2024-06-16T08:48:37.051080",
     "status": "completed"
    },
    "scrolled": true,
    "tags": []
   },
   "outputs": [
    {
     "data": {
      "text/plain": [
       "0"
      ]
     },
     "execution_count": 29,
     "metadata": {},
     "output_type": "execute_result"
    }
   ],
   "source": [
    "data['Age'].isnull().sum()"
   ]
  },
  {
   "cell_type": "code",
   "execution_count": 30,
   "id": "9707cc04",
   "metadata": {
    "execution": {
     "iopub.execute_input": "2024-06-16T08:48:37.170903Z",
     "iopub.status.busy": "2024-06-16T08:48:37.170296Z",
     "iopub.status.idle": "2024-06-16T08:48:37.388892Z",
     "shell.execute_reply": "2024-06-16T08:48:37.387637Z"
    },
    "papermill": {
     "duration": 0.258667,
     "end_time": "2024-06-16T08:48:37.391563",
     "exception": false,
     "start_time": "2024-06-16T08:48:37.132896",
     "status": "completed"
    },
    "tags": []
   },
   "outputs": [
    {
     "data": {
      "image/png": "[encoded data removed]",
      "text/plain": [
       "<Figure size 640x480 with 1 Axes>"
      ]
     },
     "metadata": {},
     "output_type": "display_data"
    }
   ],
   "source": [
    "sns.boxplot(y=data[\"Age\"])\n",
    "plt.show()"
   ]
  },
  {
   "cell_type": "code",
   "execution_count": 31,
   "id": "be8fd4fc",
   "metadata": {
    "execution": {
     "iopub.execute_input": "2024-06-16T08:48:37.463767Z",
     "iopub.status.busy": "2024-06-16T08:48:37.463315Z",
     "iopub.status.idle": "2024-06-16T08:48:37.470719Z",
     "shell.execute_reply": "2024-06-16T08:48:37.469459Z"
    },
    "papermill": {
     "duration": 0.047373,
     "end_time": "2024-06-16T08:48:37.473984",
     "exception": false,
     "start_time": "2024-06-16T08:48:37.426611",
     "status": "completed"
    },
    "tags": []
   },
   "outputs": [
    {
     "name": "stderr",
     "output_type": "stream",
     "text": [
      "/tmp/ipykernel_18/3644085981.py:1: FutureWarning: A value is trying to be set on a copy of a DataFrame or Series through chained assignment using an inplace method.\n",
      "The behavior will change in pandas 3.0. This inplace method will never work because the intermediate object on which we are setting values always behaves as a copy.\n",
      "\n",
      "For example, when doing 'df[col].method(value, inplace=True)', try using 'df.method({col: value}, inplace=True)' or df[col] = df[col].method(value) instead, to perform the operation inplace on the original object.\n",
      "\n",
      "\n",
      "  data[\"Embarked\"].fillna(data[\"Embarked\"].mode()[0], inplace=True)\n"
     ]
    }
   ],
   "source": [
    "data[\"Embarked\"].fillna(data[\"Embarked\"].mode()[0], inplace=True)"
   ]
  },
  {
   "cell_type": "code",
   "execution_count": 32,
   "id": "b9f2625c",
   "metadata": {
    "execution": {
     "iopub.execute_input": "2024-06-16T08:48:37.545825Z",
     "iopub.status.busy": "2024-06-16T08:48:37.545374Z",
     "iopub.status.idle": "2024-06-16T08:48:37.553089Z",
     "shell.execute_reply": "2024-06-16T08:48:37.551965Z"
    },
    "papermill": {
     "duration": 0.046365,
     "end_time": "2024-06-16T08:48:37.555507",
     "exception": false,
     "start_time": "2024-06-16T08:48:37.509142",
     "status": "completed"
    },
    "tags": []
   },
   "outputs": [
    {
     "data": {
      "text/plain": [
       "0"
      ]
     },
     "execution_count": 32,
     "metadata": {},
     "output_type": "execute_result"
    }
   ],
   "source": [
    "data[\"Embarked\"].isnull().sum()"
   ]
  },
  {
   "cell_type": "markdown",
   "id": "01bcbe21",
   "metadata": {
    "papermill": {
     "duration": 0.035275,
     "end_time": "2024-06-16T08:48:37.626783",
     "exception": false,
     "start_time": "2024-06-16T08:48:37.591508",
     "status": "completed"
    },
    "tags": []
   },
   "source": [
    "#### CHANGING DATATYPE TO INTEGER"
   ]
  },
  {
   "cell_type": "code",
   "execution_count": 33,
   "id": "cb2dd2cd",
   "metadata": {
    "execution": {
     "iopub.execute_input": "2024-06-16T08:48:37.699961Z",
     "iopub.status.busy": "2024-06-16T08:48:37.699526Z",
     "iopub.status.idle": "2024-06-16T08:48:37.707616Z",
     "shell.execute_reply": "2024-06-16T08:48:37.706416Z"
    },
    "papermill": {
     "duration": 0.047857,
     "end_time": "2024-06-16T08:48:37.710088",
     "exception": false,
     "start_time": "2024-06-16T08:48:37.662231",
     "status": "completed"
    },
    "tags": []
   },
   "outputs": [],
   "source": [
    "data[\"Age\"]=data[\"Age\"].astype(int)\n",
    "data[\"Embarked\"]=data[\"Embarked\"].astype(int)\n",
    "data[\"Fare\"]=data[\"Fare\"].astype(int)"
   ]
  },
  {
   "cell_type": "code",
   "execution_count": 34,
   "id": "42fe1120",
   "metadata": {
    "execution": {
     "iopub.execute_input": "2024-06-16T08:48:37.784575Z",
     "iopub.status.busy": "2024-06-16T08:48:37.784124Z",
     "iopub.status.idle": "2024-06-16T08:48:37.799442Z",
     "shell.execute_reply": "2024-06-16T08:48:37.797891Z"
    },
    "papermill": {
     "duration": 0.055917,
     "end_time": "2024-06-16T08:48:37.802750",
     "exception": false,
     "start_time": "2024-06-16T08:48:37.746833",
     "status": "completed"
    },
    "tags": []
   },
   "outputs": [
    {
     "name": "stdout",
     "output_type": "stream",
     "text": [
      "<class 'pandas.core.frame.DataFrame'>\n",
      "RangeIndex: 891 entries, 0 to 890\n",
      "Data columns (total 12 columns):\n",
      " #   Column       Non-Null Count  Dtype \n",
      "---  ------       --------------  ----- \n",
      " 0   PassengerId  891 non-null    int64 \n",
      " 1   Survived     891 non-null    int64 \n",
      " 2   Pclass       891 non-null    int64 \n",
      " 3   Name         891 non-null    int64 \n",
      " 4   Sex          891 non-null    int64 \n",
      " 5   Age          891 non-null    int64 \n",
      " 6   SibSp        891 non-null    int64 \n",
      " 7   Parch        891 non-null    int64 \n",
      " 8   Ticket       891 non-null    int64 \n",
      " 9   Fare         891 non-null    int64 \n",
      " 10  Cabin        204 non-null    object\n",
      " 11  Embarked     891 non-null    int64 \n",
      "dtypes: int64(11), object(1)\n",
      "memory usage: 83.7+ KB\n"
     ]
    }
   ],
   "source": [
    "data.info()"
   ]
  },
  {
   "cell_type": "markdown",
   "id": "6669d316",
   "metadata": {
    "papermill": {
     "duration": 0.034938,
     "end_time": "2024-06-16T08:48:37.873102",
     "exception": false,
     "start_time": "2024-06-16T08:48:37.838164",
     "status": "completed"
    },
    "tags": []
   },
   "source": [
    "# FEATURE ENGINEERING"
   ]
  },
  {
   "cell_type": "markdown",
   "id": "68003936",
   "metadata": {
    "papermill": {
     "duration": 0.035304,
     "end_time": "2024-06-16T08:48:37.944422",
     "exception": false,
     "start_time": "2024-06-16T08:48:37.909118",
     "status": "completed"
    },
    "tags": []
   },
   "source": [
    "#### DROPPING 'Cabin' AS IT HAS TWO MANY NULL VALUES"
   ]
  },
  {
   "cell_type": "code",
   "execution_count": 35,
   "id": "0cd7371f",
   "metadata": {
    "execution": {
     "iopub.execute_input": "2024-06-16T08:48:38.017366Z",
     "iopub.status.busy": "2024-06-16T08:48:38.016915Z",
     "iopub.status.idle": "2024-06-16T08:48:38.034333Z",
     "shell.execute_reply": "2024-06-16T08:48:38.033133Z"
    },
    "papermill": {
     "duration": 0.057381,
     "end_time": "2024-06-16T08:48:38.036983",
     "exception": false,
     "start_time": "2024-06-16T08:48:37.979602",
     "status": "completed"
    },
    "tags": []
   },
   "outputs": [
    {
     "data": {
      "text/html": [
       "<div>\n",
       "<style scoped>\n",
       "    .dataframe tbody tr th:only-of-type {\n",
       "        vertical-align: middle;\n",
       "    }\n",
       "\n",
       "    .dataframe tbody tr th {\n",
       "        vertical-align: top;\n",
       "    }\n",
       "\n",
       "    .dataframe thead th {\n",
       "        text-align: right;\n",
       "    }\n",
       "</style>\n",
       "<table border=\"1\" class=\"dataframe\">\n",
       "  <thead>\n",
       "    <tr style=\"text-align: right;\">\n",
       "      <th></th>\n",
       "      <th>PassengerId</th>\n",
       "      <th>Survived</th>\n",
       "      <th>Pclass</th>\n",
       "      <th>Name</th>\n",
       "      <th>Sex</th>\n",
       "      <th>Age</th>\n",
       "      <th>SibSp</th>\n",
       "      <th>Parch</th>\n",
       "      <th>Ticket</th>\n",
       "      <th>Fare</th>\n",
       "      <th>Embarked</th>\n",
       "    </tr>\n",
       "  </thead>\n",
       "  <tbody>\n",
       "    <tr>\n",
       "      <th>0</th>\n",
       "      <td>1</td>\n",
       "      <td>0</td>\n",
       "      <td>3</td>\n",
       "      <td>108</td>\n",
       "      <td>1</td>\n",
       "      <td>22</td>\n",
       "      <td>1</td>\n",
       "      <td>0</td>\n",
       "      <td>523</td>\n",
       "      <td>7</td>\n",
       "      <td>0</td>\n",
       "    </tr>\n",
       "    <tr>\n",
       "      <th>1</th>\n",
       "      <td>2</td>\n",
       "      <td>1</td>\n",
       "      <td>1</td>\n",
       "      <td>190</td>\n",
       "      <td>0</td>\n",
       "      <td>38</td>\n",
       "      <td>1</td>\n",
       "      <td>0</td>\n",
       "      <td>596</td>\n",
       "      <td>71</td>\n",
       "      <td>1</td>\n",
       "    </tr>\n",
       "    <tr>\n",
       "      <th>2</th>\n",
       "      <td>3</td>\n",
       "      <td>1</td>\n",
       "      <td>3</td>\n",
       "      <td>353</td>\n",
       "      <td>0</td>\n",
       "      <td>26</td>\n",
       "      <td>0</td>\n",
       "      <td>0</td>\n",
       "      <td>669</td>\n",
       "      <td>7</td>\n",
       "      <td>0</td>\n",
       "    </tr>\n",
       "    <tr>\n",
       "      <th>3</th>\n",
       "      <td>4</td>\n",
       "      <td>1</td>\n",
       "      <td>1</td>\n",
       "      <td>272</td>\n",
       "      <td>0</td>\n",
       "      <td>35</td>\n",
       "      <td>1</td>\n",
       "      <td>0</td>\n",
       "      <td>49</td>\n",
       "      <td>53</td>\n",
       "      <td>0</td>\n",
       "    </tr>\n",
       "    <tr>\n",
       "      <th>4</th>\n",
       "      <td>5</td>\n",
       "      <td>0</td>\n",
       "      <td>3</td>\n",
       "      <td>15</td>\n",
       "      <td>1</td>\n",
       "      <td>35</td>\n",
       "      <td>0</td>\n",
       "      <td>0</td>\n",
       "      <td>472</td>\n",
       "      <td>8</td>\n",
       "      <td>0</td>\n",
       "    </tr>\n",
       "  </tbody>\n",
       "</table>\n",
       "</div>"
      ],
      "text/plain": [
       "   PassengerId  Survived  Pclass  Name  Sex  Age  SibSp  Parch  Ticket  Fare  \\\n",
       "0            1         0       3   108    1   22      1      0     523     7   \n",
       "1            2         1       1   190    0   38      1      0     596    71   \n",
       "2            3         1       3   353    0   26      0      0     669     7   \n",
       "3            4         1       1   272    0   35      1      0      49    53   \n",
       "4            5         0       3    15    1   35      0      0     472     8   \n",
       "\n",
       "   Embarked  \n",
       "0         0  \n",
       "1         1  \n",
       "2         0  \n",
       "3         0  \n",
       "4         0  "
      ]
     },
     "execution_count": 35,
     "metadata": {},
     "output_type": "execute_result"
    }
   ],
   "source": [
    "data.drop('Cabin',axis=1,inplace=True)\n",
    "data.head()"
   ]
  },
  {
   "cell_type": "code",
   "execution_count": 36,
   "id": "0be8fa65",
   "metadata": {
    "execution": {
     "iopub.execute_input": "2024-06-16T08:48:38.110892Z",
     "iopub.status.busy": "2024-06-16T08:48:38.110487Z",
     "iopub.status.idle": "2024-06-16T08:48:38.805470Z",
     "shell.execute_reply": "2024-06-16T08:48:38.804203Z"
    },
    "papermill": {
     "duration": 0.736692,
     "end_time": "2024-06-16T08:48:38.809533",
     "exception": false,
     "start_time": "2024-06-16T08:48:38.072841",
     "status": "completed"
    },
    "tags": []
   },
   "outputs": [
    {
     "data": {
      "image/png": "[encoded data removed]",
      "text/plain": [
       "<Figure size 1000x500 with 2 Axes>"
      ]
     },
     "metadata": {},
     "output_type": "display_data"
    }
   ],
   "source": [
    "plt.figure(figsize=(10,5))\n",
    "sns.heatmap(data.corr(),fmt=\".2f\",annot=True,cmap=\"Spectral\")\n",
    "plt.title(\"Correlation Matrix\")\n",
    "plt.show()"
   ]
  },
  {
   "cell_type": "markdown",
   "id": "ec928e93",
   "metadata": {
    "papermill": {
     "duration": 0.045822,
     "end_time": "2024-06-16T08:48:38.902409",
     "exception": false,
     "start_time": "2024-06-16T08:48:38.856587",
     "status": "completed"
    },
    "tags": []
   },
   "source": [
    "#### DROPPING \"PassengerId\", \"Name\" AND \"Ticket\" AS THEY ARE JUST UNIQUE IDENTIFIERS "
   ]
  },
  {
   "cell_type": "code",
   "execution_count": 37,
   "id": "7bdfad16",
   "metadata": {
    "execution": {
     "iopub.execute_input": "2024-06-16T08:48:38.979581Z",
     "iopub.status.busy": "2024-06-16T08:48:38.979128Z",
     "iopub.status.idle": "2024-06-16T08:48:38.986955Z",
     "shell.execute_reply": "2024-06-16T08:48:38.985740Z"
    },
    "papermill": {
     "duration": 0.050095,
     "end_time": "2024-06-16T08:48:38.990014",
     "exception": false,
     "start_time": "2024-06-16T08:48:38.939919",
     "status": "completed"
    },
    "tags": []
   },
   "outputs": [],
   "source": [
    "data.drop([\"PassengerId\",\"Name\",\"Ticket\"],axis=1,inplace=True)"
   ]
  },
  {
   "cell_type": "code",
   "execution_count": 38,
   "id": "db2be06b",
   "metadata": {
    "execution": {
     "iopub.execute_input": "2024-06-16T08:48:39.070368Z",
     "iopub.status.busy": "2024-06-16T08:48:39.069882Z",
     "iopub.status.idle": "2024-06-16T08:48:39.076748Z",
     "shell.execute_reply": "2024-06-16T08:48:39.075549Z"
    },
    "papermill": {
     "duration": 0.050361,
     "end_time": "2024-06-16T08:48:39.079458",
     "exception": false,
     "start_time": "2024-06-16T08:48:39.029097",
     "status": "completed"
    },
    "tags": []
   },
   "outputs": [],
   "source": [
    "features=data.drop(\"Survived\",axis=1)\n",
    "target=data[\"Survived\"]"
   ]
  },
  {
   "cell_type": "code",
   "execution_count": 39,
   "id": "cc0dff11",
   "metadata": {
    "execution": {
     "iopub.execute_input": "2024-06-16T08:48:39.157089Z",
     "iopub.status.busy": "2024-06-16T08:48:39.156599Z",
     "iopub.status.idle": "2024-06-16T08:48:39.170024Z",
     "shell.execute_reply": "2024-06-16T08:48:39.168677Z"
    },
    "papermill": {
     "duration": 0.055205,
     "end_time": "2024-06-16T08:48:39.172568",
     "exception": false,
     "start_time": "2024-06-16T08:48:39.117363",
     "status": "completed"
    },
    "tags": []
   },
   "outputs": [
    {
     "data": {
      "text/html": [
       "<div>\n",
       "<style scoped>\n",
       "    .dataframe tbody tr th:only-of-type {\n",
       "        vertical-align: middle;\n",
       "    }\n",
       "\n",
       "    .dataframe tbody tr th {\n",
       "        vertical-align: top;\n",
       "    }\n",
       "\n",
       "    .dataframe thead th {\n",
       "        text-align: right;\n",
       "    }\n",
       "</style>\n",
       "<table border=\"1\" class=\"dataframe\">\n",
       "  <thead>\n",
       "    <tr style=\"text-align: right;\">\n",
       "      <th></th>\n",
       "      <th>Pclass</th>\n",
       "      <th>Sex</th>\n",
       "      <th>Age</th>\n",
       "      <th>SibSp</th>\n",
       "      <th>Parch</th>\n",
       "      <th>Fare</th>\n",
       "      <th>Embarked</th>\n",
       "    </tr>\n",
       "  </thead>\n",
       "  <tbody>\n",
       "    <tr>\n",
       "      <th>0</th>\n",
       "      <td>3</td>\n",
       "      <td>1</td>\n",
       "      <td>22</td>\n",
       "      <td>1</td>\n",
       "      <td>0</td>\n",
       "      <td>7</td>\n",
       "      <td>0</td>\n",
       "    </tr>\n",
       "    <tr>\n",
       "      <th>1</th>\n",
       "      <td>1</td>\n",
       "      <td>0</td>\n",
       "      <td>38</td>\n",
       "      <td>1</td>\n",
       "      <td>0</td>\n",
       "      <td>71</td>\n",
       "      <td>1</td>\n",
       "    </tr>\n",
       "    <tr>\n",
       "      <th>2</th>\n",
       "      <td>3</td>\n",
       "      <td>0</td>\n",
       "      <td>26</td>\n",
       "      <td>0</td>\n",
       "      <td>0</td>\n",
       "      <td>7</td>\n",
       "      <td>0</td>\n",
       "    </tr>\n",
       "    <tr>\n",
       "      <th>3</th>\n",
       "      <td>1</td>\n",
       "      <td>0</td>\n",
       "      <td>35</td>\n",
       "      <td>1</td>\n",
       "      <td>0</td>\n",
       "      <td>53</td>\n",
       "      <td>0</td>\n",
       "    </tr>\n",
       "    <tr>\n",
       "      <th>4</th>\n",
       "      <td>3</td>\n",
       "      <td>1</td>\n",
       "      <td>35</td>\n",
       "      <td>0</td>\n",
       "      <td>0</td>\n",
       "      <td>8</td>\n",
       "      <td>0</td>\n",
       "    </tr>\n",
       "  </tbody>\n",
       "</table>\n",
       "</div>"
      ],
      "text/plain": [
       "   Pclass  Sex  Age  SibSp  Parch  Fare  Embarked\n",
       "0       3    1   22      1      0     7         0\n",
       "1       1    0   38      1      0    71         1\n",
       "2       3    0   26      0      0     7         0\n",
       "3       1    0   35      1      0    53         0\n",
       "4       3    1   35      0      0     8         0"
      ]
     },
     "execution_count": 39,
     "metadata": {},
     "output_type": "execute_result"
    }
   ],
   "source": [
    "features.head()"
   ]
  },
  {
   "cell_type": "code",
   "execution_count": 40,
   "id": "d5c28a9c",
   "metadata": {
    "execution": {
     "iopub.execute_input": "2024-06-16T08:48:39.250860Z",
     "iopub.status.busy": "2024-06-16T08:48:39.250425Z",
     "iopub.status.idle": "2024-06-16T08:48:39.258999Z",
     "shell.execute_reply": "2024-06-16T08:48:39.257819Z"
    },
    "papermill": {
     "duration": 0.050741,
     "end_time": "2024-06-16T08:48:39.261564",
     "exception": false,
     "start_time": "2024-06-16T08:48:39.210823",
     "status": "completed"
    },
    "tags": []
   },
   "outputs": [
    {
     "data": {
      "text/plain": [
       "0    0\n",
       "1    1\n",
       "2    1\n",
       "3    1\n",
       "4    0\n",
       "Name: Survived, dtype: int64"
      ]
     },
     "execution_count": 40,
     "metadata": {},
     "output_type": "execute_result"
    }
   ],
   "source": [
    "target.head()"
   ]
  },
  {
   "cell_type": "markdown",
   "id": "9222b1d8",
   "metadata": {
    "papermill": {
     "duration": 0.03773,
     "end_time": "2024-06-16T08:48:39.337286",
     "exception": false,
     "start_time": "2024-06-16T08:48:39.299556",
     "status": "completed"
    },
    "tags": []
   },
   "source": [
    "#### CHI SQUARE TEST"
   ]
  },
  {
   "cell_type": "code",
   "execution_count": 41,
   "id": "2aaf5adb",
   "metadata": {
    "execution": {
     "iopub.execute_input": "2024-06-16T08:48:39.414891Z",
     "iopub.status.busy": "2024-06-16T08:48:39.414448Z",
     "iopub.status.idle": "2024-06-16T08:48:39.432008Z",
     "shell.execute_reply": "2024-06-16T08:48:39.430850Z"
    },
    "papermill": {
     "duration": 0.059702,
     "end_time": "2024-06-16T08:48:39.434803",
     "exception": false,
     "start_time": "2024-06-16T08:48:39.375101",
     "status": "completed"
    },
    "tags": []
   },
   "outputs": [],
   "source": [
    "chi_test=chi2(features,target)\n"
   ]
  },
  {
   "cell_type": "markdown",
   "id": "2d0bc059",
   "metadata": {
    "papermill": {
     "duration": 0.037472,
     "end_time": "2024-06-16T08:48:39.509994",
     "exception": false,
     "start_time": "2024-06-16T08:48:39.472522",
     "status": "completed"
    },
    "tags": []
   },
   "source": [
    "###### F-VALUE"
   ]
  },
  {
   "cell_type": "code",
   "execution_count": 42,
   "id": "7673a140",
   "metadata": {
    "execution": {
     "iopub.execute_input": "2024-06-16T08:48:39.587134Z",
     "iopub.status.busy": "2024-06-16T08:48:39.586736Z",
     "iopub.status.idle": "2024-06-16T08:48:39.854176Z",
     "shell.execute_reply": "2024-06-16T08:48:39.852919Z"
    },
    "papermill": {
     "duration": 0.309203,
     "end_time": "2024-06-16T08:48:39.856937",
     "exception": false,
     "start_time": "2024-06-16T08:48:39.547734",
     "status": "completed"
    },
    "tags": []
   },
   "outputs": [
    {
     "data": {
      "image/png": "[encoded data removed]",
      "text/plain": [
       "<Figure size 640x480 with 1 Axes>"
      ]
     },
     "metadata": {},
     "output_type": "display_data"
    }
   ],
   "source": [
    "value1=chi_test[0]\n",
    "f_value=pd.Series(value1)\n",
    "f_value.index=features.columns\n",
    "df1=pd.DataFrame({\"Feature\":f_value.index,\"F_Values\":f_value})\n",
    "df1.sort_values(ascending=False,by=\"F_Values\",inplace=True)\n",
    "df1[\"F_Values\"]=df1[\"F_Values\"].round(3)\n",
    "bar10=sns.barplot(x=\"Feature\",y=\"F_Values\",data=df1)\n",
    "bar10.bar_label(bar10.containers[0])\n",
    "plt.title(\"F-VALUE\")\n",
    "plt.show()"
   ]
  },
  {
   "cell_type": "markdown",
   "id": "35a41812",
   "metadata": {
    "papermill": {
     "duration": 0.03818,
     "end_time": "2024-06-16T08:48:39.933410",
     "exception": false,
     "start_time": "2024-06-16T08:48:39.895230",
     "status": "completed"
    },
    "tags": []
   },
   "source": [
    "###### P-VALUE"
   ]
  },
  {
   "cell_type": "code",
   "execution_count": 43,
   "id": "ea8c6682",
   "metadata": {
    "execution": {
     "iopub.execute_input": "2024-06-16T08:48:40.013315Z",
     "iopub.status.busy": "2024-06-16T08:48:40.012863Z",
     "iopub.status.idle": "2024-06-16T08:48:40.349513Z",
     "shell.execute_reply": "2024-06-16T08:48:40.348257Z"
    },
    "papermill": {
     "duration": 0.380559,
     "end_time": "2024-06-16T08:48:40.352255",
     "exception": false,
     "start_time": "2024-06-16T08:48:39.971696",
     "status": "completed"
    },
    "tags": []
   },
   "outputs": [
    {
     "data": {
      "image/png": "[encoded data removed]",
      "text/plain": [
       "<Figure size 640x480 with 1 Axes>"
      ]
     },
     "metadata": {},
     "output_type": "display_data"
    }
   ],
   "source": [
    "value2=chi_test[1]\n",
    "p_value=pd.Series(value2)\n",
    "p_value.index=features.columns\n",
    "df2=pd.DataFrame({\"Feature\":p_value.index,\"P_Values\":p_value})\n",
    "df2.sort_values(ascending=True,by=\"P_Values\",inplace=True)\n",
    "df2[\"P_Values\"]=df2[\"P_Values\"].round(3)\n",
    "bar11=sns.barplot(x=\"Feature\",y=\"P_Values\",data=df2)\n",
    "bar11.bar_label(bar11.containers[0])\n",
    "plt.title(\"P-VALUE\")\n",
    "plt.show()"
   ]
  },
  {
   "cell_type": "markdown",
   "id": "7ef8f9d9",
   "metadata": {
    "papermill": {
     "duration": 0.039496,
     "end_time": "2024-06-16T08:48:40.430694",
     "exception": false,
     "start_time": "2024-06-16T08:48:40.391198",
     "status": "completed"
    },
    "tags": []
   },
   "source": [
    "#### MUTUAL INFORMATION GAIN"
   ]
  },
  {
   "cell_type": "code",
   "execution_count": 44,
   "id": "e1719126",
   "metadata": {
    "execution": {
     "iopub.execute_input": "2024-06-16T08:48:40.511566Z",
     "iopub.status.busy": "2024-06-16T08:48:40.510303Z",
     "iopub.status.idle": "2024-06-16T08:48:40.893334Z",
     "shell.execute_reply": "2024-06-16T08:48:40.892172Z"
    },
    "papermill": {
     "duration": 0.426282,
     "end_time": "2024-06-16T08:48:40.895922",
     "exception": false,
     "start_time": "2024-06-16T08:48:40.469640",
     "status": "completed"
    },
    "tags": []
   },
   "outputs": [
    {
     "data": {
      "image/png": "[encoded data removed]",
      "text/plain": [
       "<Figure size 640x480 with 1 Axes>"
      ]
     },
     "metadata": {},
     "output_type": "display_data"
    }
   ],
   "source": [
    "value3=mutual_info_classif(features,target)\n",
    "mutual_info=pd.Series(value3)\n",
    "mutual_info.index=features.columns\n",
    "df3=pd.DataFrame({\"Feature\":mutual_info.index,\"Values\":mutual_info})\n",
    "df3.sort_values(ascending=True,by=\"Values\",inplace=True)\n",
    "df3[\"Values\"]=df3[\"Values\"].round(3)\n",
    "bar12=sns.barplot(x=\"Feature\",y=\"Values\",data=df3)\n",
    "bar12.bar_label(bar12.containers[0])\n",
    "plt.title(\"MUTUAL INFORMATION GAIN\")\n",
    "plt.show()"
   ]
  },
  {
   "cell_type": "markdown",
   "id": "964c6437",
   "metadata": {
    "papermill": {
     "duration": 0.03914,
     "end_time": "2024-06-16T08:48:40.974373",
     "exception": false,
     "start_time": "2024-06-16T08:48:40.935233",
     "status": "completed"
    },
    "tags": []
   },
   "source": [
    "'CHI SQUARE TEST' AND 'MUTUAL INFORMATION' CLEARLY DEPICT THE MOST IMPORTANT COLUMNS i.e. 'Sex','Fare','Pclass','Age','Embarked'."
   ]
  },
  {
   "cell_type": "code",
   "execution_count": 45,
   "id": "3e5eee7c",
   "metadata": {
    "execution": {
     "iopub.execute_input": "2024-06-16T08:48:41.055233Z",
     "iopub.status.busy": "2024-06-16T08:48:41.054772Z",
     "iopub.status.idle": "2024-06-16T08:48:41.061524Z",
     "shell.execute_reply": "2024-06-16T08:48:41.060292Z"
    },
    "papermill": {
     "duration": 0.050132,
     "end_time": "2024-06-16T08:48:41.064030",
     "exception": false,
     "start_time": "2024-06-16T08:48:41.013898",
     "status": "completed"
    },
    "tags": []
   },
   "outputs": [],
   "source": [
    "features.drop([\"SibSp\",\"Parch\"],axis=1,inplace=True)"
   ]
  },
  {
   "cell_type": "code",
   "execution_count": 46,
   "id": "ba89e90c",
   "metadata": {
    "execution": {
     "iopub.execute_input": "2024-06-16T08:48:41.144600Z",
     "iopub.status.busy": "2024-06-16T08:48:41.143826Z",
     "iopub.status.idle": "2024-06-16T08:48:41.156416Z",
     "shell.execute_reply": "2024-06-16T08:48:41.155235Z"
    },
    "papermill": {
     "duration": 0.055592,
     "end_time": "2024-06-16T08:48:41.158801",
     "exception": false,
     "start_time": "2024-06-16T08:48:41.103209",
     "status": "completed"
    },
    "tags": []
   },
   "outputs": [
    {
     "data": {
      "text/html": [
       "<div>\n",
       "<style scoped>\n",
       "    .dataframe tbody tr th:only-of-type {\n",
       "        vertical-align: middle;\n",
       "    }\n",
       "\n",
       "    .dataframe tbody tr th {\n",
       "        vertical-align: top;\n",
       "    }\n",
       "\n",
       "    .dataframe thead th {\n",
       "        text-align: right;\n",
       "    }\n",
       "</style>\n",
       "<table border=\"1\" class=\"dataframe\">\n",
       "  <thead>\n",
       "    <tr style=\"text-align: right;\">\n",
       "      <th></th>\n",
       "      <th>Pclass</th>\n",
       "      <th>Sex</th>\n",
       "      <th>Age</th>\n",
       "      <th>Fare</th>\n",
       "      <th>Embarked</th>\n",
       "    </tr>\n",
       "  </thead>\n",
       "  <tbody>\n",
       "    <tr>\n",
       "      <th>0</th>\n",
       "      <td>3</td>\n",
       "      <td>1</td>\n",
       "      <td>22</td>\n",
       "      <td>7</td>\n",
       "      <td>0</td>\n",
       "    </tr>\n",
       "    <tr>\n",
       "      <th>1</th>\n",
       "      <td>1</td>\n",
       "      <td>0</td>\n",
       "      <td>38</td>\n",
       "      <td>71</td>\n",
       "      <td>1</td>\n",
       "    </tr>\n",
       "    <tr>\n",
       "      <th>2</th>\n",
       "      <td>3</td>\n",
       "      <td>0</td>\n",
       "      <td>26</td>\n",
       "      <td>7</td>\n",
       "      <td>0</td>\n",
       "    </tr>\n",
       "    <tr>\n",
       "      <th>3</th>\n",
       "      <td>1</td>\n",
       "      <td>0</td>\n",
       "      <td>35</td>\n",
       "      <td>53</td>\n",
       "      <td>0</td>\n",
       "    </tr>\n",
       "    <tr>\n",
       "      <th>4</th>\n",
       "      <td>3</td>\n",
       "      <td>1</td>\n",
       "      <td>35</td>\n",
       "      <td>8</td>\n",
       "      <td>0</td>\n",
       "    </tr>\n",
       "  </tbody>\n",
       "</table>\n",
       "</div>"
      ],
      "text/plain": [
       "   Pclass  Sex  Age  Fare  Embarked\n",
       "0       3    1   22     7         0\n",
       "1       1    0   38    71         1\n",
       "2       3    0   26     7         0\n",
       "3       1    0   35    53         0\n",
       "4       3    1   35     8         0"
      ]
     },
     "execution_count": 46,
     "metadata": {},
     "output_type": "execute_result"
    }
   ],
   "source": [
    "features.head()"
   ]
  },
  {
   "cell_type": "markdown",
   "id": "a17e7f7f",
   "metadata": {
    "papermill": {
     "duration": 0.039135,
     "end_time": "2024-06-16T08:48:41.237491",
     "exception": false,
     "start_time": "2024-06-16T08:48:41.198356",
     "status": "completed"
    },
    "tags": []
   },
   "source": [
    "# SPLITTING THE DATA INTO TRAINING AND TESTING DATA"
   ]
  },
  {
   "cell_type": "code",
   "execution_count": 47,
   "id": "57077f48",
   "metadata": {
    "execution": {
     "iopub.execute_input": "2024-06-16T08:48:41.317916Z",
     "iopub.status.busy": "2024-06-16T08:48:41.317520Z",
     "iopub.status.idle": "2024-06-16T08:48:41.327342Z",
     "shell.execute_reply": "2024-06-16T08:48:41.326230Z"
    },
    "papermill": {
     "duration": 0.053037,
     "end_time": "2024-06-16T08:48:41.329853",
     "exception": false,
     "start_time": "2024-06-16T08:48:41.276816",
     "status": "completed"
    },
    "tags": []
   },
   "outputs": [],
   "source": [
    "x_train,x_test,y_train,y_test=train_test_split(features,target,test_size=0.3,random_state=24)"
   ]
  },
  {
   "cell_type": "code",
   "execution_count": 48,
   "id": "33bcb173",
   "metadata": {
    "execution": {
     "iopub.execute_input": "2024-06-16T08:48:41.413504Z",
     "iopub.status.busy": "2024-06-16T08:48:41.413055Z",
     "iopub.status.idle": "2024-06-16T08:48:41.420624Z",
     "shell.execute_reply": "2024-06-16T08:48:41.419483Z"
    },
    "papermill": {
     "duration": 0.051307,
     "end_time": "2024-06-16T08:48:41.422954",
     "exception": false,
     "start_time": "2024-06-16T08:48:41.371647",
     "status": "completed"
    },
    "tags": []
   },
   "outputs": [
    {
     "data": {
      "text/plain": [
       "(623, 5)"
      ]
     },
     "execution_count": 48,
     "metadata": {},
     "output_type": "execute_result"
    }
   ],
   "source": [
    "x_train.shape"
   ]
  },
  {
   "cell_type": "code",
   "execution_count": 49,
   "id": "0f16c9ef",
   "metadata": {
    "execution": {
     "iopub.execute_input": "2024-06-16T08:48:41.504806Z",
     "iopub.status.busy": "2024-06-16T08:48:41.504365Z",
     "iopub.status.idle": "2024-06-16T08:48:41.511812Z",
     "shell.execute_reply": "2024-06-16T08:48:41.510477Z"
    },
    "papermill": {
     "duration": 0.051494,
     "end_time": "2024-06-16T08:48:41.514196",
     "exception": false,
     "start_time": "2024-06-16T08:48:41.462702",
     "status": "completed"
    },
    "tags": []
   },
   "outputs": [
    {
     "data": {
      "text/plain": [
       "(268, 5)"
      ]
     },
     "execution_count": 49,
     "metadata": {},
     "output_type": "execute_result"
    }
   ],
   "source": [
    "x_test.shape"
   ]
  },
  {
   "cell_type": "markdown",
   "id": "fe107918",
   "metadata": {
    "papermill": {
     "duration": 0.039953,
     "end_time": "2024-06-16T08:48:41.594411",
     "exception": false,
     "start_time": "2024-06-16T08:48:41.554458",
     "status": "completed"
    },
    "tags": []
   },
   "source": [
    "# MODEL TRAINING"
   ]
  },
  {
   "cell_type": "markdown",
   "id": "97614137",
   "metadata": {
    "papermill": {
     "duration": 0.040774,
     "end_time": "2024-06-16T08:48:41.674942",
     "exception": false,
     "start_time": "2024-06-16T08:48:41.634168",
     "status": "completed"
    },
    "tags": []
   },
   "source": [
    "### RANDOM FOREST CLASSIFIER"
   ]
  },
  {
   "cell_type": "code",
   "execution_count": 50,
   "id": "6a31671a",
   "metadata": {
    "execution": {
     "iopub.execute_input": "2024-06-16T08:48:41.760438Z",
     "iopub.status.busy": "2024-06-16T08:48:41.759226Z",
     "iopub.status.idle": "2024-06-16T09:11:00.403723Z",
     "shell.execute_reply": "2024-06-16T09:11:00.402402Z"
    },
    "papermill": {
     "duration": 1338.73397,
     "end_time": "2024-06-16T09:11:00.449765",
     "exception": false,
     "start_time": "2024-06-16T08:48:41.715795",
     "status": "completed"
    },
    "tags": []
   },
   "outputs": [
    {
     "data": {
      "text/html": [
       "<style>#sk-container-id-1 {color: black;background-color: white;}#sk-container-id-1 pre{padding: 0;}#sk-container-id-1 div.sk-toggleable {background-color: white;}#sk-container-id-1 label.sk-toggleable__label {cursor: pointer;display: block;width: 100%;margin-bottom: 0;padding: 0.3em;box-sizing: border-box;text-align: center;}#sk-container-id-1 label.sk-toggleable__label-arrow:before {content: \"▸\";float: left;margin-right: 0.25em;color: #696969;}#sk-container-id-1 label.sk-toggleable__label-arrow:hover:before {color: black;}#sk-container-id-1 div.sk-estimator:hover label.sk-toggleable__label-arrow:before {color: black;}#sk-container-id-1 div.sk-toggleable__content {max-height: 0;max-width: 0;overflow: hidden;text-align: left;background-color: #f0f8ff;}#sk-container-id-1 div.sk-toggleable__content pre {margin: 0.2em;color: black;border-radius: 0.25em;background-color: #f0f8ff;}#sk-container-id-1 input.sk-toggleable__control:checked~div.sk-toggleable__content {max-height: 200px;max-width: 100%;overflow: auto;}#sk-container-id-1 input.sk-toggleable__control:checked~label.sk-toggleable__label-arrow:before {content: \"▾\";}#sk-container-id-1 div.sk-estimator input.sk-toggleable__control:checked~label.sk-toggleable__label {background-color: #d4ebff;}#sk-container-id-1 div.sk-label input.sk-toggleable__control:checked~label.sk-toggleable__label {background-color: #d4ebff;}#sk-container-id-1 input.sk-hidden--visually {border: 0;clip: rect(1px 1px 1px 1px);clip: rect(1px, 1px, 1px, 1px);height: 1px;margin: -1px;overflow: hidden;padding: 0;position: absolute;width: 1px;}#sk-container-id-1 div.sk-estimator {font-family: monospace;background-color: #f0f8ff;border: 1px dotted black;border-radius: 0.25em;box-sizing: border-box;margin-bottom: 0.5em;}#sk-container-id-1 div.sk-estimator:hover {background-color: #d4ebff;}#sk-container-id-1 div.sk-parallel-item::after {content: \"\";width: 100%;border-bottom: 1px solid gray;flex-grow: 1;}#sk-container-id-1 div.sk-label:hover label.sk-toggleable__label {background-color: #d4ebff;}#sk-container-id-1 div.sk-serial::before {content: \"\";position: absolute;border-left: 1px solid gray;box-sizing: border-box;top: 0;bottom: 0;left: 50%;z-index: 0;}#sk-container-id-1 div.sk-serial {display: flex;flex-direction: column;align-items: center;background-color: white;padding-right: 0.2em;padding-left: 0.2em;position: relative;}#sk-container-id-1 div.sk-item {position: relative;z-index: 1;}#sk-container-id-1 div.sk-parallel {display: flex;align-items: stretch;justify-content: center;background-color: white;position: relative;}#sk-container-id-1 div.sk-item::before, #sk-container-id-1 div.sk-parallel-item::before {content: \"\";position: absolute;border-left: 1px solid gray;box-sizing: border-box;top: 0;bottom: 0;left: 50%;z-index: -1;}#sk-container-id-1 div.sk-parallel-item {display: flex;flex-direction: column;z-index: 1;position: relative;background-color: white;}#sk-container-id-1 div.sk-parallel-item:first-child::after {align-self: flex-end;width: 50%;}#sk-container-id-1 div.sk-parallel-item:last-child::after {align-self: flex-start;width: 50%;}#sk-container-id-1 div.sk-parallel-item:only-child::after {width: 0;}#sk-container-id-1 div.sk-dashed-wrapped {border: 1px dashed gray;margin: 0 0.4em 0.5em 0.4em;box-sizing: border-box;padding-bottom: 0.4em;background-color: white;}#sk-container-id-1 div.sk-label label {font-family: monospace;font-weight: bold;display: inline-block;line-height: 1.2em;}#sk-container-id-1 div.sk-label-container {text-align: center;}#sk-container-id-1 div.sk-container {/* jupyter's `normalize.less` sets `[hidden] { display: none; }` but bootstrap.min.css set `[hidden] { display: none !important; }` so we also need the `!important` here to be able to override the default hidden behavior on the sphinx rendered scikit-learn.org. See: https://github.com/scikit-learn/scikit-learn/issues/21755 */display: inline-block !important;position: relative;}#sk-container-id-1 div.sk-text-repr-fallback {display: none;}</style><div id=\"sk-container-id-1\" class=\"sk-top-container\"><div class=\"sk-text-repr-fallback\"><pre>GridSearchCV(cv=5, estimator=RandomForestClassifier(),\n",
       "             param_grid={&#x27;criterion&#x27;: [&#x27;gini&#x27;, &#x27;entropy&#x27;],\n",
       "                         &#x27;max_depth&#x27;: [2, 6, 10, 14, 18],\n",
       "                         &#x27;max_features&#x27;: [&#x27;sqrt&#x27;, &#x27;log2&#x27;],\n",
       "                         &#x27;min_samples_split&#x27;: [3, 7, 11, 15, 19],\n",
       "                         &#x27;n_estimators&#x27;: [100, 200, 300, 400]},\n",
       "             scoring=&#x27;accuracy&#x27;)</pre><b>In a Jupyter environment, please rerun this cell to show the HTML representation or trust the notebook. <br />On GitHub, the HTML representation is unable to render, please try loading this page with nbviewer.org.</b></div><div class=\"sk-container\" hidden><div class=\"sk-item sk-dashed-wrapped\"><div class=\"sk-label-container\"><div class=\"sk-label sk-toggleable\"><input class=\"sk-toggleable__control sk-hidden--visually\" id=\"sk-estimator-id-1\" type=\"checkbox\" ><label for=\"sk-estimator-id-1\" class=\"sk-toggleable__label sk-toggleable__label-arrow\">GridSearchCV</label><div class=\"sk-toggleable__content\"><pre>GridSearchCV(cv=5, estimator=RandomForestClassifier(),\n",
       "             param_grid={&#x27;criterion&#x27;: [&#x27;gini&#x27;, &#x27;entropy&#x27;],\n",
       "                         &#x27;max_depth&#x27;: [2, 6, 10, 14, 18],\n",
       "                         &#x27;max_features&#x27;: [&#x27;sqrt&#x27;, &#x27;log2&#x27;],\n",
       "                         &#x27;min_samples_split&#x27;: [3, 7, 11, 15, 19],\n",
       "                         &#x27;n_estimators&#x27;: [100, 200, 300, 400]},\n",
       "             scoring=&#x27;accuracy&#x27;)</pre></div></div></div><div class=\"sk-parallel\"><div class=\"sk-parallel-item\"><div class=\"sk-item\"><div class=\"sk-label-container\"><div class=\"sk-label sk-toggleable\"><input class=\"sk-toggleable__control sk-hidden--visually\" id=\"sk-estimator-id-2\" type=\"checkbox\" ><label for=\"sk-estimator-id-2\" class=\"sk-toggleable__label sk-toggleable__label-arrow\">estimator: RandomForestClassifier</label><div class=\"sk-toggleable__content\"><pre>RandomForestClassifier()</pre></div></div></div><div class=\"sk-serial\"><div class=\"sk-item\"><div class=\"sk-estimator sk-toggleable\"><input class=\"sk-toggleable__control sk-hidden--visually\" id=\"sk-estimator-id-3\" type=\"checkbox\" ><label for=\"sk-estimator-id-3\" class=\"sk-toggleable__label sk-toggleable__label-arrow\">RandomForestClassifier</label><div class=\"sk-toggleable__content\"><pre>RandomForestClassifier()</pre></div></div></div></div></div></div></div></div></div></div>"
      ],
      "text/plain": [
       "GridSearchCV(cv=5, estimator=RandomForestClassifier(),\n",
       "             param_grid={'criterion': ['gini', 'entropy'],\n",
       "                         'max_depth': [2, 6, 10, 14, 18],\n",
       "                         'max_features': ['sqrt', 'log2'],\n",
       "                         'min_samples_split': [3, 7, 11, 15, 19],\n",
       "                         'n_estimators': [100, 200, 300, 400]},\n",
       "             scoring='accuracy')"
      ]
     },
     "execution_count": 50,
     "metadata": {},
     "output_type": "execute_result"
    }
   ],
   "source": [
    "parameters={\"criterion\":['gini','entropy'],\n",
    "            \n",
    "            \"max_depth\":[2,6,10,14,18],\n",
    "            \"min_samples_split\":[3,7,11,15,19],\n",
    "            \"max_features\":[\"sqrt\",\"log2\"],\n",
    "            \"n_estimators\":[100,200,300,400]}\n",
    "model2=RandomForestClassifier()\n",
    "tuning=GridSearchCV(model2,param_grid=parameters,cv=5,scoring='accuracy')\n",
    "tuning.fit(x_train,y_train)"
   ]
  },
  {
   "cell_type": "code",
   "execution_count": 51,
   "id": "70952e1f",
   "metadata": {
    "execution": {
     "iopub.execute_input": "2024-06-16T09:11:00.540701Z",
     "iopub.status.busy": "2024-06-16T09:11:00.539296Z",
     "iopub.status.idle": "2024-06-16T09:11:00.548586Z",
     "shell.execute_reply": "2024-06-16T09:11:00.547323Z"
    },
    "papermill": {
     "duration": 0.056822,
     "end_time": "2024-06-16T09:11:00.551176",
     "exception": false,
     "start_time": "2024-06-16T09:11:00.494354",
     "status": "completed"
    },
    "tags": []
   },
   "outputs": [
    {
     "data": {
      "text/plain": [
       "{'criterion': 'entropy',\n",
       " 'max_depth': 10,\n",
       " 'max_features': 'log2',\n",
       " 'min_samples_split': 7,\n",
       " 'n_estimators': 100}"
      ]
     },
     "execution_count": 51,
     "metadata": {},
     "output_type": "execute_result"
    }
   ],
   "source": [
    "tuning.best_params_"
   ]
  },
  {
   "cell_type": "code",
   "execution_count": 52,
   "id": "bec5eb7d",
   "metadata": {
    "execution": {
     "iopub.execute_input": "2024-06-16T09:11:00.641021Z",
     "iopub.status.busy": "2024-06-16T09:11:00.640574Z",
     "iopub.status.idle": "2024-06-16T09:11:00.679233Z",
     "shell.execute_reply": "2024-06-16T09:11:00.677885Z"
    },
    "papermill": {
     "duration": 0.087481,
     "end_time": "2024-06-16T09:11:00.682455",
     "exception": false,
     "start_time": "2024-06-16T09:11:00.594974",
     "status": "completed"
    },
    "tags": []
   },
   "outputs": [],
   "source": [
    "train_pred2=tuning.predict(x_train)\n",
    "test_pred2=tuning.predict(x_test)"
   ]
  },
  {
   "cell_type": "markdown",
   "id": "989aa31e",
   "metadata": {
    "papermill": {
     "duration": 0.047158,
     "end_time": "2024-06-16T09:11:00.772579",
     "exception": false,
     "start_time": "2024-06-16T09:11:00.725421",
     "status": "completed"
    },
    "tags": []
   },
   "source": [
    "# PERFORMANCE EVALUATION"
   ]
  },
  {
   "cell_type": "markdown",
   "id": "1c956946",
   "metadata": {
    "papermill": {
     "duration": 0.043747,
     "end_time": "2024-06-16T09:11:00.860712",
     "exception": false,
     "start_time": "2024-06-16T09:11:00.816965",
     "status": "completed"
    },
    "tags": []
   },
   "source": [
    "#### ACCURACY"
   ]
  },
  {
   "cell_type": "code",
   "execution_count": 53,
   "id": "6fc9f8d6",
   "metadata": {
    "execution": {
     "iopub.execute_input": "2024-06-16T09:11:00.946984Z",
     "iopub.status.busy": "2024-06-16T09:11:00.946532Z",
     "iopub.status.idle": "2024-06-16T09:11:00.955679Z",
     "shell.execute_reply": "2024-06-16T09:11:00.954015Z"
    },
    "papermill": {
     "duration": 0.055248,
     "end_time": "2024-06-16T09:11:00.958517",
     "exception": false,
     "start_time": "2024-06-16T09:11:00.903269",
     "status": "completed"
    },
    "tags": []
   },
   "outputs": [
    {
     "name": "stdout",
     "output_type": "stream",
     "text": [
      "Training Accuracy-  0.92\n"
     ]
    }
   ],
   "source": [
    "train_accuracy2=accuracy_score(train_pred2,y_train)\n",
    "print(\"Training Accuracy- \",train_accuracy2.round(2))"
   ]
  },
  {
   "cell_type": "code",
   "execution_count": 54,
   "id": "45a53f70",
   "metadata": {
    "execution": {
     "iopub.execute_input": "2024-06-16T09:11:01.047035Z",
     "iopub.status.busy": "2024-06-16T09:11:01.046615Z",
     "iopub.status.idle": "2024-06-16T09:11:01.054093Z",
     "shell.execute_reply": "2024-06-16T09:11:01.052919Z"
    },
    "papermill": {
     "duration": 0.055701,
     "end_time": "2024-06-16T09:11:01.057361",
     "exception": false,
     "start_time": "2024-06-16T09:11:01.001660",
     "status": "completed"
    },
    "tags": []
   },
   "outputs": [
    {
     "name": "stdout",
     "output_type": "stream",
     "text": [
      "Test Accuracy-  0.85\n"
     ]
    }
   ],
   "source": [
    "test_accuracy2=accuracy_score(test_pred2,y_test)\n",
    "print(\"Test Accuracy- \",test_accuracy2.round(2))"
   ]
  },
  {
   "cell_type": "markdown",
   "id": "66349b7b",
   "metadata": {
    "papermill": {
     "duration": 0.043354,
     "end_time": "2024-06-16T09:11:01.142808",
     "exception": false,
     "start_time": "2024-06-16T09:11:01.099454",
     "status": "completed"
    },
    "tags": []
   },
   "source": [
    "#### CLASSIFICATION REPORT"
   ]
  },
  {
   "cell_type": "code",
   "execution_count": 55,
   "id": "34d0532a",
   "metadata": {
    "execution": {
     "iopub.execute_input": "2024-06-16T09:11:01.235076Z",
     "iopub.status.busy": "2024-06-16T09:11:01.234583Z",
     "iopub.status.idle": "2024-06-16T09:11:01.254571Z",
     "shell.execute_reply": "2024-06-16T09:11:01.253128Z"
    },
    "papermill": {
     "duration": 0.07136,
     "end_time": "2024-06-16T09:11:01.257292",
     "exception": false,
     "start_time": "2024-06-16T09:11:01.185932",
     "status": "completed"
    },
    "tags": []
   },
   "outputs": [
    {
     "name": "stdout",
     "output_type": "stream",
     "text": [
      "              precision    recall  f1-score   support\n",
      "\n",
      "           0       0.91      0.86      0.89       183\n",
      "           1       0.74      0.82      0.78        85\n",
      "\n",
      "    accuracy                           0.85       268\n",
      "   macro avg       0.83      0.84      0.83       268\n",
      "weighted avg       0.86      0.85      0.85       268\n",
      "\n"
     ]
    }
   ],
   "source": [
    "report=classification_report(test_pred2,y_test)\n",
    "print(report)"
   ]
  },
  {
   "cell_type": "markdown",
   "id": "11ec72dd",
   "metadata": {
    "papermill": {
     "duration": 0.043916,
     "end_time": "2024-06-16T09:11:01.344608",
     "exception": false,
     "start_time": "2024-06-16T09:11:01.300692",
     "status": "completed"
    },
    "tags": []
   },
   "source": [
    "#### CONFIDENCE MATRIX"
   ]
  },
  {
   "cell_type": "code",
   "execution_count": 56,
   "id": "c913c7a2",
   "metadata": {
    "execution": {
     "iopub.execute_input": "2024-06-16T09:11:01.433289Z",
     "iopub.status.busy": "2024-06-16T09:11:01.432837Z",
     "iopub.status.idle": "2024-06-16T09:11:01.753281Z",
     "shell.execute_reply": "2024-06-16T09:11:01.751924Z"
    },
    "papermill": {
     "duration": 0.3682,
     "end_time": "2024-06-16T09:11:01.755999",
     "exception": false,
     "start_time": "2024-06-16T09:11:01.387799",
     "status": "completed"
    },
    "tags": []
   },
   "outputs": [
    {
     "data": {
      "image/png": "[encoded data removed]",
      "text/plain": [
       "<Figure size 640x480 with 2 Axes>"
      ]
     },
     "metadata": {},
     "output_type": "display_data"
    }
   ],
   "source": [
    "matrix2=confusion_matrix(test_pred2,y_test)\n",
    "cm2=ConfusionMatrixDisplay(matrix2,display_labels=[\"Survived\",\"Not Survived\"])\n",
    "cm2.plot(cmap=\"crest\")\n",
    "plt.title(\"Confuson Matrix\")\n",
    "plt.show()"
   ]
  },
  {
   "cell_type": "markdown",
   "id": "4de45945",
   "metadata": {
    "papermill": {
     "duration": 0.042605,
     "end_time": "2024-06-16T09:11:01.841313",
     "exception": false,
     "start_time": "2024-06-16T09:11:01.798708",
     "status": "completed"
    },
    "tags": []
   },
   "source": [
    "# TESTING PREDICTIONS"
   ]
  },
  {
   "cell_type": "code",
   "execution_count": 57,
   "id": "d89eb9dd",
   "metadata": {
    "execution": {
     "iopub.execute_input": "2024-06-16T09:11:01.928956Z",
     "iopub.status.busy": "2024-06-16T09:11:01.928500Z",
     "iopub.status.idle": "2024-06-16T09:11:01.947623Z",
     "shell.execute_reply": "2024-06-16T09:11:01.945790Z"
    },
    "papermill": {
     "duration": 0.065741,
     "end_time": "2024-06-16T09:11:01.950398",
     "exception": false,
     "start_time": "2024-06-16T09:11:01.884657",
     "status": "completed"
    },
    "tags": []
   },
   "outputs": [
    {
     "name": "stdout",
     "output_type": "stream",
     "text": [
      "Not Survived\n"
     ]
    }
   ],
   "source": [
    "import warnings\n",
    "warnings.filterwarnings(\"ignore\", message=\"X does not have valid feature names\")\n",
    "pclass=3\n",
    "sex=0\n",
    "age=30\n",
    "fare=9\n",
    "embarked=0\n",
    "new_data=[[pclass,sex,age,fare,embarked]]\n",
    "pred=tuning.predict(new_data)\n",
    "if(pred[0]==0):\n",
    "    print(\"Not Survived\")\n",
    "else:\n",
    "    print(\"Survived\")"
   ]
  },
  {
   "cell_type": "code",
   "execution_count": null,
   "id": "691155a3",
   "metadata": {
    "papermill": {
     "duration": 0.04492,
     "end_time": "2024-06-16T09:11:02.038062",
     "exception": false,
     "start_time": "2024-06-16T09:11:01.993142",
     "status": "completed"
    },
    "tags": []
   },
   "outputs": [],
   "source": []
  }
 ],
 "metadata": {
  "kaggle": {
   "accelerator": "none",
   "dataSources": [
    {
     "datasetId": 1818188,
     "sourceId": 2965537,
     "sourceType": "datasetVersion"
    }
   ],
   "dockerImageVersionId": 30732,
   "isGpuEnabled": false,
   "isInternetEnabled": true,
   "language": "python",
   "sourceType": "notebook"
  },
  "kernelspec": {
   "display_name": "Python 3",
   "language": "python",
   "name": "python3"
  },
  "language_info": {
   "codemirror_mode": {
    "name": "ipython",
    "version": 3
   },
   "file_extension": ".py",
   "mimetype": "text/x-python",
   "name": "python",
   "nbconvert_exporter": "python",
   "pygments_lexer": "ipython3",
   "version": "3.10.13"
  },
  "nbTranslate": {
   "displayLangs": [
    "*"
   ],
   "hotkey": "alt-t",
   "langInMainMenu": true,
   "sourceLang": "en",
   "targetLang": "fr",
   "useGoogleTranslate": true
  },
  "papermill": {
   "default_parameters": {},
   "duration": 1361.158141,
   "end_time": "2024-06-16T09:11:02.909485",
   "environment_variables": {},
   "exception": null,
   "input_path": "__notebook__.ipynb",
   "output_path": "__notebook__.ipynb",
   "parameters": {},
   "start_time": "2024-06-16T08:48:21.751344",
   "version": "2.5.0"
  },
  "varInspector": {
   "cols": {
    "lenName": 16,
    "lenType": 16,
    "lenVar": 40
   },
   "kernels_config": {
    "python": {
     "delete_cmd_postfix": "",
     "delete_cmd_prefix": "del ",
     "library": "var_list.py",
     "varRefreshCmd": "print(var_dic_list())"
    },
    "r": {
     "delete_cmd_postfix": ") ",
     "delete_cmd_prefix": "rm(",
     "library": "var_list.r",
     "varRefreshCmd": "cat(var_dic_list()) "
    }
   },
   "types_to_exclude": [
    "module",
    "function",
    "builtin_function_or_method",
    "instance",
    "_Feature"
   ],
   "window_display": false
  }
 },
 "nbformat": 4,
 "nbformat_minor": 5
}
